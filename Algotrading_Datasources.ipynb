{
 "cells": [
  {
   "cell_type": "markdown",
   "metadata": {
    "colab_type": "text",
    "id": "PRTpZRAIVbY1"
   },
   "source": [
    "# Import Modules"
   ]
  },
  {
   "cell_type": "markdown",
   "metadata": {
    "colab_type": "text",
    "id": "QjCdVPMyVdA9"
   },
   "source": [
    "*Need to import some important Python libraries and methods that you will need to process financial data and perform data analysis.*\n",
    "\n",
    "*The requests module enables you to easily download files from the web. It has a get method that takes a string of a URL to download.*\n",
    "\n",
    "*The JavaScript Object Notation (JSON) module enables you to convert a string of JSON data into a Python dictionary via the loads method.*\n",
    "\n",
    "*Pandas is a Python library that is built from the ground-up to do financial data analysis. It has a dataframe object that makes it easy to analyze tabular data traditionally done using spreadsheets.*\n",
    "\n",
    "*Matplotlib is a Python library used for visualizing data. Pandas provides a wrapper to the library so you can plot nice charts with a single line of code.*\n",
    "\n",
    "---\n",
    "\n"
   ]
  },
  {
   "cell_type": "code",
   "execution_count": null,
   "metadata": {
    "colab": {},
    "colab_type": "code",
    "id": "FZszqJgtph9m"
   },
   "outputs": [],
   "source": [
    "import pandas as pd\n",
    "import pandas_datareader.data as pdr\n",
    "from datetime import datetime\n",
    "import matplotlib.pyplot as plt\n",
    "plt.style.use('seaborn')\n",
    "import json\n",
    "import requests\n",
    "\n",
    "start = datetime(2018, 1, 1)\n",
    "end = datetime(2019, 4, 30)"
   ]
  },
  {
   "cell_type": "markdown",
   "metadata": {
    "colab_type": "text",
    "id": "eRFlhLenGqOn"
   },
   "source": [
    "# Federal Reserve Economic Data (FRED)\n",
    "\n",
    "*FRED is the most comprehensive, free respository for US economic time series data. It has more than half a million economic times series from 87 sources, including government agencies such as the U.S. Census and the Bureau of Labor Statistics. It covers banking, business/fiscal, consumer price indexes, employment and population, exchange rates, gross domestic product, interest rates, monetary aggregates, producer price indexes, reserves and monetary base, U.S. trade and international transactions, and U.S. financial data.*\n",
    "\n",
    "*See all the time series here: https://fred.stlouisfed.org/*\n",
    "\n",
    "---\n",
    "\n"
   ]
  },
  {
   "cell_type": "code",
   "execution_count": null,
   "metadata": {
    "colab": {
     "base_uri": "https://localhost:8080/",
     "height": 360
    },
    "colab_type": "code",
    "id": "CX3Vzj16SCqh",
    "outputId": "65c20c1a-fd8a-4397-fb5b-af9f7b02a87a"
   },
   "outputs": [],
   "source": [
    "inflation = pdr.DataReader('T5YIE', 'fred', start, end)\n",
    "inflation.plot(figsize=(20,5), title='5 year forward inflation expectation rate'), plt.show();"
   ]
  },
  {
   "cell_type": "markdown",
   "metadata": {
    "colab_type": "text",
    "id": "1ZNh6i1sNFAF"
   },
   "source": [
    "# Alpha Vantage\n",
    "*Repository of free APIs for upto the minute streaming data and 20 years of historical data . APIs are grouped into four categories: 1. Equity 2. Currencies (including cryptocurrencies) 3. Sectors and 4. Technical indicators. Run by a tight-knit community of researchers, engineers, and business professionals. JSON is the default data format with CSV format also supported.*\n",
    "\n",
    "*Data from this source requires extensive processing before it can used in financial data analysis. The 'Processing Data' workbook focuses on this data source and the steps required to clean the the data. Below are the final lines of code that you could use to get clean data for your analysis.*\n",
    "\n",
    "*You can find the API documentation here: https://www.alphavantage.co/documentation/* \n",
    "\n",
    "---\n",
    "\n"
   ]
  },
  {
   "cell_type": "code",
   "execution_count": null,
   "metadata": {
    "colab": {
     "base_uri": "https://localhost:8080/",
     "height": 204
    },
    "colab_type": "code",
    "id": "dKy1UBpuVUjg",
    "outputId": "a75ae6d0-c680-4e3d-8202-c56aac092f99"
   },
   "outputs": [],
   "source": [
    "response = requests.get(\"https://www.alphavantage.co/query?function=FX_DAILY&from_symbol=EUR&to_symbol=USD&apikey=demo\")\n",
    "alphadict = json.loads(response.text)\n",
    "eur = pd.DataFrame(alphadict['Time Series FX (Daily)']).T\n",
    "eur.index = pd.to_datetime(eur.index)\n",
    "eur = eur.sort_index(ascending = True)\n",
    "eur.columns = ['open', 'high', 'low', 'close']\n",
    "eur = eur.astype(float)\n",
    "eur.head()"
   ]
  },
  {
   "cell_type": "code",
   "execution_count": null,
   "metadata": {
    "colab": {
     "base_uri": "https://localhost:8080/",
     "height": 332
    },
    "colab_type": "code",
    "id": "Ux_2fMzXdGE6",
    "outputId": "f258bf06-4484-4b70-88f2-5ef7086f7297"
   },
   "outputs": [],
   "source": [
    "eur['close'].plot(figsize=(20,5), title='EUR/USD closing prices'), plt.show();"
   ]
  },
  {
   "cell_type": "markdown",
   "metadata": {
    "colab_type": "text",
    "id": "zkopdSEjdfJp"
   },
   "source": [
    "# Yahoo Finance\n",
    "*This is probably the oldest data source of free financial information. It has a vast repository of historical data that cover most traded securities worldwide. There is a pandas datareader that requires a bug fix which is provided below. However, the API is not reliable and will not return data sometimes. You just have to be patient and try again later.*\n",
    "\n",
    "\n",
    "*https://finance.yahoo.com*\n",
    "\n",
    "---\n",
    "\n"
   ]
  },
  {
   "cell_type": "code",
   "execution_count": null,
   "metadata": {
    "colab": {
     "base_uri": "https://localhost:8080/",
     "height": 252
    },
    "colab_type": "code",
    "id": "p9ysfTWBhzSp",
    "outputId": "93e03488-8259-4cc8-bde7-dd5f2324b356"
   },
   "outputs": [],
   "source": [
    "import yfinance as yf\n",
    "yf.pdr_override()\n",
    "stock = pdr.get_data_yahoo('AMZN', start, end)\n",
    "stock.head()"
   ]
  },
  {
   "cell_type": "markdown",
   "metadata": {
    "colab_type": "text",
    "id": "UJYD0wc73Tcu"
   },
   "source": [
    "# Quandl\n",
    "*A one stop shop for economic, financial and sentiment data some of it is offered for free and most others for a fee. Quandl sources data from over half a million publishers worldwide. It was  acquired by NASDAQ in 2018. It sources freely available public sources like FRED and private sources of alternative data. Many freely available data, such as historical equity data, are offered for a fee.*\n",
    "\n",
    "*See API documentation here: https://docs.quandl.com/*\n",
    "\n",
    "---\n",
    "\n"
   ]
  },
  {
   "cell_type": "code",
   "execution_count": null,
   "metadata": {
    "colab": {},
    "colab_type": "code",
    "id": "3ceXgtDFTsZm"
   },
   "outputs": [],
   "source": [
    "!pip install quandl"
   ]
  },
  {
   "cell_type": "code",
   "execution_count": null,
   "metadata": {
    "colab": {
     "base_uri": "https://localhost:8080/",
     "height": 680
    },
    "colab_type": "code",
    "id": "q-OIKmOJryU1",
    "outputId": "323439fa-ffea-4ba2-c624-d03ec7a5f83f"
   },
   "outputs": [],
   "source": [
    "import quandl\n",
    "investor_sentiment = quandl.get('AAII/AAII_SENTIMENT', start_date= start, end_date= end)\n",
    "investor_sentiment['Bull-Bear Spread'].plot(figsize=(20,5), title='American Association of Individual Investor bull-bear spread sentiment'), plt.show();\n",
    "investor_sentiment.head()"
   ]
  },
  {
   "cell_type": "code",
   "execution_count": null,
   "metadata": {
    "colab": {
     "base_uri": "https://localhost:8080/",
     "height": 360
    },
    "colab_type": "code",
    "id": "nD1m8nLjuzyi",
    "outputId": "4f7fe523-3ace-4ab7-f4a5-d7ccb7f9c0a7"
   },
   "outputs": [],
   "source": [
    "consumer_sentiment = quandl.get('UMICH/SOC1', start_date= start, end_date= end)\n",
    "consumer_sentiment.plot(figsize=(20,5), title='University of Michigan consumer sentiment index'), plt.show();"
   ]
  },
  {
   "cell_type": "code",
   "execution_count": null,
   "metadata": {
    "colab": {
     "base_uri": "https://localhost:8080/",
     "height": 360
    },
    "colab_type": "code",
    "id": "oxlNtuEE5ejQ",
    "outputId": "d0ae9a03-42ec-4a8a-8c00-4be937d20c70"
   },
   "outputs": [],
   "source": [
    "spx = quandl.get('MULTPL/SP500_PE_RATIO_MONTH', start_date = start, end_date = end)\n",
    "spx.plot(figsize=(20,5), title='Trailing twelve months Price to Earning ratio of S&P 500 companies'), plt.show();\n"
   ]
  },
  {
   "cell_type": "markdown",
   "metadata": {
    "colab_type": "text",
    "id": "Y50-He9dyQtO"
   },
   "source": [
    "# IEX Cloud\n",
    "*The Investors Exchange (IEX) was founded by Brad Katsuyama, hero of the book 'Flash Boys' by Michael Lewis. IEX recently launced IEX Cloud, a new platform provides market and fundamental data for free and for a fee. The default data format is JSON.*\n",
    "\n",
    "*For more information about the APIs, see: https://iexcloud.io/docs/api/#introduction*\n",
    "\n",
    "---\n",
    "\n"
   ]
  },
  {
   "cell_type": "code",
   "execution_count": null,
   "metadata": {
    "colab": {
     "base_uri": "https://localhost:8080/",
     "height": 120
    },
    "colab_type": "code",
    "id": "5x2RpsDhkBO3",
    "outputId": "8c416096-a56d-4195-acfb-e86a23542fe9"
   },
   "outputs": [],
   "source": [
    "response = requests.get(\"https://sandbox.iexapis.com/stable/stock/aapl/financials?token=Tpk_53e30ef0593440d5855c259602cad185\")\n",
    "jdictionary = json.loads(response.text)\n",
    "financials = pd.DataFrame(jdictionary['financials'])\n",
    "financials"
   ]
  },
  {
   "cell_type": "code",
   "execution_count": null,
   "metadata": {
    "colab": {},
    "colab_type": "code",
    "id": "m9huvB29T09f"
   },
   "outputs": [],
   "source": [
    "!pip install edgar"
   ]
  },
  {
   "cell_type": "markdown",
   "metadata": {
    "colab_type": "text",
    "id": "GuyiuIpuF15G"
   },
   "source": [
    "# Electronic Data Gathering, Analysis, and Retrieval system (EDGAR)\n",
    "*Comprehensive repository about companies, both domestic and foreign, who are required by law to file several forms like 10K and 10Q. Third-party filings with respect to these companies, such as tender offers and Schedule 13D filings, are also filed via EDGAR. Not all SEC filings by public companies are available on EDGAR. Companies were phased in to EDGAR filing over a three-year period, ending 6 May 1996. Information is copious and needs to be parsed.* \n",
    "\n",
    "*For more information go here: https://www.sec.gov/edgar/searchedgar/accessing-edgar-data.htm*\n",
    "\n",
    "---\n",
    "\n"
   ]
  },
  {
   "cell_type": "code",
   "execution_count": null,
   "metadata": {
    "colab": {
     "base_uri": "https://localhost:8080/",
     "height": 439198
    },
    "colab_type": "code",
    "id": "HTYqL44sbuav",
    "outputId": "399e8007-6c40-422c-a33b-102847bac6bf"
   },
   "outputs": [],
   "source": [
    "import edgar\n",
    "company = edgar.Company(\"Oracle Corp\", \"0001341439\")\n",
    "tree = company.getAllFilings(filingType = \"10-K\")\n",
    "docs = edgar.getDocuments(tree, noOfDocuments=1)\n",
    "print(docs)\n"
   ]
  }
 ],
 "metadata": {
  "colab": {
   "collapsed_sections": [],
   "name": "Algotrading_Datasources.ipynb",
   "provenance": [],
   "version": "0.3.2"
  },
  "kernelspec": {
   "display_name": "Python 3",
   "language": "python",
   "name": "python3"
  },
  "language_info": {
   "codemirror_mode": {
    "name": "ipython",
    "version": 3
   },
   "file_extension": ".py",
   "mimetype": "text/x-python",
   "name": "python",
   "nbconvert_exporter": "python",
   "pygments_lexer": "ipython3",
   "version": "3.7.3"
  }
 },
 "nbformat": 4,
 "nbformat_minor": 1
}
