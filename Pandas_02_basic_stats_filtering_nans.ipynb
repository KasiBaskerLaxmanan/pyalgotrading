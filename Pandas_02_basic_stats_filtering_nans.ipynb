{
  "nbformat": 4,
  "nbformat_minor": 0,
  "metadata": {
    "kernelspec": {
      "display_name": "Python 3",
      "language": "python",
      "name": "python3"
    },
    "language_info": {
      "codemirror_mode": {
        "name": "ipython",
        "version": 3
      },
      "file_extension": ".py",
      "mimetype": "text/x-python",
      "name": "python",
      "nbconvert_exporter": "python",
      "pygments_lexer": "ipython3",
      "version": "3.6.4"
    },
    "colab": {
      "name": "Pandas_02_basic_stats_filtering_nans.ipynb",
      "provenance": [],
      "include_colab_link": true
    }
  },
  "cells": [
    {
      "cell_type": "markdown",
      "metadata": {
        "id": "view-in-github",
        "colab_type": "text"
      },
      "source": [
        "<a href=\"https://colab.research.google.com/github/KasiBaskerLaxmanan/pyalgotrading/blob/master/Pandas_02_basic_stats_filtering_nans.ipynb\" target=\"_parent\"><img src=\"https://colab.research.google.com/assets/colab-badge.svg\" alt=\"Open In Colab\"/></a>"
      ]
    },
    {
      "cell_type": "code",
      "metadata": {
        "id": "AkmY38SS9m0t",
        "colab_type": "code",
        "colab": {}
      },
      "source": [
        "import pandas as pd\n",
        "import matplotlib\n",
        "%matplotlib inline \n",
        "import numpy as np"
      ],
      "execution_count": 0,
      "outputs": []
    },
    {
      "cell_type": "code",
      "metadata": {
        "id": "A2za6V-A9m0_",
        "colab_type": "code",
        "colab": {}
      },
      "source": [
        "### Data transformation from previous notebooks\n",
        "nyc = pd.read_csv('data/central-park-raw.csv', parse_dates=[0])\n",
        "nyc.columns = [x.strip() for x in nyc.columns]\n",
        "nyc.columns = [x.replace(' ', '_') for x in nyc.columns]\n",
        "nyc.PrecipitationIn.replace(\"T\", '0.001')\n",
        "nyc.PrecipitationIn = pd.to_numeric(nyc.PrecipitationIn.replace(\"T\", '0.001'))\n",
        "nyc['Events'] = nyc.Events.fillna('')"
      ],
      "execution_count": 0,
      "outputs": []
    },
    {
      "cell_type": "markdown",
      "metadata": {
        "id": "KOvkrMa09m1O",
        "colab_type": "text"
      },
      "source": [
        "# Basic Stats\n",
        "\n",
        "A nice feature of pandas is that you can quickly inspect data and get summary statistics."
      ]
    },
    {
      "cell_type": "code",
      "metadata": {
        "id": "lX-9D23q9m1S",
        "colab_type": "code",
        "colab": {}
      },
      "source": [
        "# The describe method gives us basic stats. The result is a Data Frame\n",
        "nyc.describe()"
      ],
      "execution_count": 0,
      "outputs": []
    },
    {
      "cell_type": "code",
      "metadata": {
        "id": "_FuiWx7G9m1e",
        "colab_type": "code",
        "colab": {}
      },
      "source": [
        "# Remember transpose\n",
        "nyc.describe().T\n"
      ],
      "execution_count": 0,
      "outputs": []
    },
    {
      "cell_type": "code",
      "metadata": {
        "id": "qnQ3BtpZ9m1l",
        "colab_type": "code",
        "colab": {}
      },
      "source": [
        "# to view non-numeric data pass include='all'\n",
        "nyc.describe(include='all').T"
      ],
      "execution_count": 0,
      "outputs": []
    },
    {
      "cell_type": "code",
      "metadata": {
        "id": "ILtUyrTe9m1t",
        "colab_type": "code",
        "colab": {}
      },
      "source": [
        "# Various aggregation methods (max, mean, median, min, mad, skew, kurtosis, autocorr,\n",
        "#   nunique, sem, std, var)\n",
        "# and properties (hasnans, is_monotonic, is_unique)\n",
        "nyc.Max_Humidity.max()"
      ],
      "execution_count": 0,
      "outputs": []
    },
    {
      "cell_type": "code",
      "metadata": {
        "id": "FgPOUVPh9m12",
        "colab_type": "code",
        "colab": {}
      },
      "source": [
        "nyc.Max_Humidity.quantile(.2)"
      ],
      "execution_count": 0,
      "outputs": []
    },
    {
      "cell_type": "code",
      "metadata": {
        "id": "ijIAtILo9m18",
        "colab_type": "code",
        "colab": {}
      },
      "source": [
        "nyc.Max_Humidity.quantile([.2,.3])"
      ],
      "execution_count": 0,
      "outputs": []
    },
    {
      "cell_type": "code",
      "metadata": {
        "id": "I10eb8cH9m2C",
        "colab_type": "code",
        "colab": {}
      },
      "source": [
        "nyc.Max_Humidity.min()"
      ],
      "execution_count": 0,
      "outputs": []
    },
    {
      "cell_type": "code",
      "metadata": {
        "id": "QL73xxxa9m2J",
        "colab_type": "code",
        "colab": {}
      },
      "source": [
        "nyc.Mean_Humidity.corr(nyc.Mean_TemperatureF)"
      ],
      "execution_count": 0,
      "outputs": []
    },
    {
      "cell_type": "markdown",
      "metadata": {
        "id": "h3VYvDXQ9m2N",
        "colab_type": "text"
      },
      "source": [
        "## Basic Stats Assignment\n",
        "With the nino dataset:\n",
        "\n",
        "* *Describe* the data\n",
        "* Choose a column\n",
        "  * Print out the max, min, and mean\n",
        "* Correlate (``corr``) the temperature column with the date column (might need to use ``.astype('int64')`` method)"
      ]
    },
    {
      "cell_type": "code",
      "metadata": {
        "id": "c_yIi-Gy9m2O",
        "colab_type": "code",
        "colab": {}
      },
      "source": [
        ""
      ],
      "execution_count": 0,
      "outputs": []
    },
    {
      "cell_type": "code",
      "metadata": {
        "id": "q0T97GgA9m2V",
        "colab_type": "code",
        "colab": {}
      },
      "source": [
        ""
      ],
      "execution_count": 0,
      "outputs": []
    },
    {
      "cell_type": "markdown",
      "metadata": {
        "id": "4tGB9OKj9m2a",
        "colab_type": "text"
      },
      "source": [
        "## Basic Stats Extra\n",
        "* use the ``scatter_matrix`` function in ``pandas.plotting`` to create a correlation matrix (note this might take tens of seconds to run)"
      ]
    },
    {
      "cell_type": "code",
      "metadata": {
        "scrolled": false,
        "id": "7FVvedkk9m2b",
        "colab_type": "code",
        "colab": {}
      },
      "source": [
        "pd.plotting.scatter_matrix(nino)"
      ],
      "execution_count": 0,
      "outputs": []
    },
    {
      "cell_type": "markdown",
      "metadata": {
        "id": "u_wi2KLe9m2f",
        "colab_type": "text"
      },
      "source": [
        "# Plotting\n",
        "\n",
        "Pandas has built-in integration with Matplotlib. Other libraries such as Seaborn also support plotting DataFrames and Series. This is not an in depth intro to Matplotlib, but their website and gallery are great for finding more information"
      ]
    },
    {
      "cell_type": "code",
      "metadata": {
        "scrolled": true,
        "id": "QADAuEZ-9m2f",
        "colab_type": "code",
        "colab": {}
      },
      "source": [
        "# histograms are a quick way to visualize the distribution\n",
        "nyc.Mean_Humidity.hist()"
      ],
      "execution_count": 0,
      "outputs": []
    },
    {
      "cell_type": "code",
      "metadata": {
        "scrolled": false,
        "id": "d6XlUMqq9m2k",
        "colab_type": "code",
        "colab": {}
      },
      "source": [
        "# add in figsize=(width,height) to boost size\n",
        "nyc.Mean_Humidity.hist(figsize=(14, 10))"
      ],
      "execution_count": 0,
      "outputs": []
    },
    {
      "cell_type": "code",
      "metadata": {
        "scrolled": false,
        "id": "xzW9EMwf9m2o",
        "colab_type": "code",
        "colab": {}
      },
      "source": [
        "# If we use the .plot method we can add title and other attributes\n",
        "nyc.Mean_Humidity.plot(kind='hist', title='Avg Humidity', figsize=(14, 10))"
      ],
      "execution_count": 0,
      "outputs": []
    },
    {
      "cell_type": "code",
      "metadata": {
        "collapsed": true,
        "id": "GErkcVs19m2t",
        "colab_type": "code",
        "colab": {}
      },
      "source": [
        ""
      ],
      "execution_count": 0,
      "outputs": []
    },
    {
      "cell_type": "code",
      "metadata": {
        "id": "0IdYSKFo9m2w",
        "colab_type": "code",
        "colab": {}
      },
      "source": [
        "nyc.plot(x='EST', y='Mean_Humidity')"
      ],
      "execution_count": 0,
      "outputs": []
    },
    {
      "cell_type": "code",
      "metadata": {
        "id": "Yud_858j9m21",
        "colab_type": "code",
        "colab": {}
      },
      "source": [
        "nyc.plot(x='EST', y='Mean_Humidity', figsize=(12, 8) )"
      ],
      "execution_count": 0,
      "outputs": []
    },
    {
      "cell_type": "code",
      "metadata": {
        "id": "LndxS0J-9m23",
        "colab_type": "code",
        "colab": {}
      },
      "source": [
        "# Can resample columns, since our index is a date we can use *Offset Aliases*\n",
        "# see http://pandas.pydata.org/pandas-docs/stable/timeseries.html#offset-aliases\n",
        "nyc.set_index('EST').Mean_Humidity.resample('M').mean().plot(figsize=(10, 6)) "
      ],
      "execution_count": 0,
      "outputs": []
    },
    {
      "cell_type": "code",
      "metadata": {
        "id": "Rfsiaq5O9m26",
        "colab_type": "code",
        "colab": {}
      },
      "source": [
        "# Can resample columns, since our index is a date we can use *Offset Aliases*\n",
        "# see http://pandas.pydata.org/pandas-docs/stable/timeseries.html#offset-aliases\n",
        "nyc.set_index('EST').Mean_Humidity.resample('2W').mean().plot(figsize=(10, 6)) "
      ],
      "execution_count": 0,
      "outputs": []
    },
    {
      "cell_type": "code",
      "metadata": {
        "id": "n4ek5gVf9m28",
        "colab_type": "code",
        "colab": {}
      },
      "source": [
        "# Plot all the things (may be useful or just art)\n",
        "nyc.set_index('EST').plot(figsize=(12,8))"
      ],
      "execution_count": 0,
      "outputs": []
    },
    {
      "cell_type": "code",
      "metadata": {
        "id": "XyHoK9F49m2_",
        "colab_type": "code",
        "colab": {}
      },
      "source": [
        "nyc.plot(x='Max_TemperatureF', y='Max_Humidity', kind='scatter', alpha=.5, \n",
        "        figsize=(10, 8))"
      ],
      "execution_count": 0,
      "outputs": []
    },
    {
      "cell_type": "code",
      "metadata": {
        "id": "7Dglvui69m3C",
        "colab_type": "code",
        "colab": {}
      },
      "source": [
        "nyc.Max_TemperatureF.corr(nyc.Max_Humidity)"
      ],
      "execution_count": 0,
      "outputs": []
    },
    {
      "cell_type": "markdown",
      "metadata": {
        "id": "_Kq80nZl9m3G",
        "colab_type": "text"
      },
      "source": [
        "## Plotting Assignment\n",
        "With the nino dataset:\n",
        "* Plot a histogram of air temp\n",
        "* Plot a scatter plot of latitude and longitude\n"
      ]
    },
    {
      "cell_type": "code",
      "metadata": {
        "collapsed": true,
        "id": "UHdjxLnQ9m3H",
        "colab_type": "code",
        "colab": {}
      },
      "source": [
        ""
      ],
      "execution_count": 0,
      "outputs": []
    },
    {
      "cell_type": "code",
      "metadata": {
        "collapsed": true,
        "id": "m3ZBKC4l9m3K",
        "colab_type": "code",
        "colab": {}
      },
      "source": [
        ""
      ],
      "execution_count": 0,
      "outputs": []
    },
    {
      "cell_type": "code",
      "metadata": {
        "collapsed": true,
        "id": "YpZMCbuD9m3M",
        "colab_type": "code",
        "colab": {}
      },
      "source": [
        ""
      ],
      "execution_count": 0,
      "outputs": []
    },
    {
      "cell_type": "markdown",
      "metadata": {
        "id": "puxRslG_9m3P",
        "colab_type": "text"
      },
      "source": [
        "# Filtering"
      ]
    },
    {
      "cell_type": "code",
      "metadata": {
        "collapsed": true,
        "id": "hYd86JMb9m3P",
        "colab_type": "code",
        "colab": {}
      },
      "source": [
        "# When we apply a conditional operator to a series we get back a series of True/False values\n",
        "# We call this a \"mask\", which we can use to filter (similar to Photoshop)\n",
        "# all EST in 2000's\n",
        "m2000 = nyc.EST.dt.year >= 2000\n",
        "\n",
        "# below 2010\n",
        "lt2010 = nyc.EST.dt.year < 2010\n",
        "\n"
      ],
      "execution_count": 0,
      "outputs": []
    },
    {
      "cell_type": "code",
      "metadata": {
        "id": "pXgKeq7C9m3S",
        "colab_type": "code",
        "colab": {}
      },
      "source": [
        "# The \"and\" operation looks at whether the operands are truthy or falsey\n",
        "# This is a case where normal Python syntax doesn't work\n",
        "nyc[m2000 and lt2010]"
      ],
      "execution_count": 0,
      "outputs": []
    },
    {
      "cell_type": "code",
      "metadata": {
        "scrolled": true,
        "id": "U03RBJTJ9m3X",
        "colab_type": "code",
        "colab": {}
      },
      "source": [
        "# & does bitwise comparisons - which is what we want\n",
        "nyc[m2000 & lt2010]"
      ],
      "execution_count": 0,
      "outputs": []
    },
    {
      "cell_type": "code",
      "metadata": {
        "id": "5zDKU0xV9m3Z",
        "colab_type": "code",
        "colab": {}
      },
      "source": [
        "# beware if you embed the operations, the bitwise operator binds more tightly to the integers\n",
        "nyc[nyc.EST.dt.year >= 2000 & nyc.EST.dt.year < 2010]"
      ],
      "execution_count": 0,
      "outputs": []
    },
    {
      "cell_type": "code",
      "metadata": {
        "id": "d-cBW-0X9m3b",
        "colab_type": "code",
        "colab": {}
      },
      "source": [
        "# beware if you embed the operations, the bitwise operator binds more tightly to the integers\n",
        "nyc[(nyc.EST.dt.year >= 2000) & (nyc.EST.dt.year < 2010)]"
      ],
      "execution_count": 0,
      "outputs": []
    },
    {
      "cell_type": "code",
      "metadata": {
        "id": "SrdEcrhz9m3e",
        "colab_type": "code",
        "colab": {}
      },
      "source": [
        "m_dec = nyc.EST.dt.month == 12\n",
        "nyc[m_dec]"
      ],
      "execution_count": 0,
      "outputs": []
    },
    {
      "cell_type": "code",
      "metadata": {
        "id": "w6SeYre29m3g",
        "colab_type": "code",
        "colab": {}
      },
      "source": [
        "# Can use loc to filter out based on index value, also takes a boolean index\n",
        "# In fact, you should use .loc instead as a matter of habit (you won't see warnings)\n",
        "nyc.loc[m_dec]"
      ],
      "execution_count": 0,
      "outputs": []
    },
    {
      "cell_type": "code",
      "metadata": {
        "scrolled": true,
        "id": "HWXqvZA09m3i",
        "colab_type": "code",
        "colab": {}
      },
      "source": [
        "# Can use loc to filter out based on index value, also takes a boolean index\n",
        "# 2nd option in index op is column names (: to include everything)\n",
        "nyc.loc[m_dec, [x for x in nyc.columns if 'Max' in x]]"
      ],
      "execution_count": 0,
      "outputs": []
    },
    {
      "cell_type": "code",
      "metadata": {
        "id": "r5FeNpVZ9m3l",
        "colab_type": "code",
        "colab": {}
      },
      "source": [
        "# loc note:\n",
        "# can use set_index and sort_index to do quick lookups (if you sort you get quick lookups)\n",
        "nyc.set_index('Events').sort_index().head()"
      ],
      "execution_count": 0,
      "outputs": []
    },
    {
      "cell_type": "code",
      "metadata": {
        "id": "UH7zrYPB9m3o",
        "colab_type": "code",
        "colab": {}
      },
      "source": [
        "nyc.set_index('Events').sort_index().loc['Fog']"
      ],
      "execution_count": 0,
      "outputs": []
    },
    {
      "cell_type": "code",
      "metadata": {
        "id": "KYGRDxc29m3r",
        "colab_type": "code",
        "colab": {}
      },
      "source": [
        "# Can use iloc to filter out based on index location (or position)\n",
        "# 2nd option in index op is column indices\n",
        "nyc.iloc[5:10, [2, 5, -2]]  \n"
      ],
      "execution_count": 0,
      "outputs": []
    },
    {
      "cell_type": "code",
      "metadata": {
        "scrolled": true,
        "id": "nJQXZyPi9m3t",
        "colab_type": "code",
        "colab": {}
      },
      "source": [
        "# Can use iloc to filter out based on index location\n",
        "# 2nd option in index op is column indices\n",
        "nyc.iloc[:, [2, 5, -2]]  \n"
      ],
      "execution_count": 0,
      "outputs": []
    },
    {
      "cell_type": "code",
      "metadata": {
        "id": "EEheqSOM9m3v",
        "colab_type": "code",
        "colab": {}
      },
      "source": [
        "nyc.EST.describe()"
      ],
      "execution_count": 0,
      "outputs": []
    },
    {
      "cell_type": "markdown",
      "metadata": {
        "id": "putwyrmE9m3x",
        "colab_type": "text"
      },
      "source": [
        "## Filtering Assignment\n",
        "Using the nino dataframe:\n",
        "* Create a mask, ``m80``, that all years >= 1980 and < 1990\n",
        "* Create a mask, ``m90``, that all years >= 1990 and < 2000\n",
        "* Create a mask, ``lon120``, that has all longitudes > 120\n",
        "* Create a mask, ``lat0``, that has latitudes > -2 and < 2\n",
        "* Create a dataframe, ``df80``, that has only those values in ``m80`` and ``lon120`` and ``lat0``\n",
        "* Create a dataframe, ``df90``, that has only those values in ``m90`` and ``lon120`` and ``lat0``\n"
      ]
    },
    {
      "cell_type": "code",
      "metadata": {
        "collapsed": true,
        "id": "6sCneWi09m3x",
        "colab_type": "code",
        "colab": {}
      },
      "source": [
        ""
      ],
      "execution_count": 0,
      "outputs": []
    },
    {
      "cell_type": "code",
      "metadata": {
        "collapsed": true,
        "id": "eC3vaPl29m3z",
        "colab_type": "code",
        "colab": {}
      },
      "source": [
        ""
      ],
      "execution_count": 0,
      "outputs": []
    },
    {
      "cell_type": "markdown",
      "metadata": {
        "id": "sBMBRZCl9m32",
        "colab_type": "text"
      },
      "source": [
        "## Filtering Bonus Assignment\n",
        "* Create a mask, ``m80_2``, that uses a function to filter years >= 1980 and < 1990\n",
        "* Make sure that ``m80`` is created using operations\n",
        "* Use the ``%%time`` *cell magic* to determine which is faster to calculate, ``m80`` or ``m80_2``"
      ]
    },
    {
      "cell_type": "code",
      "metadata": {
        "collapsed": true,
        "id": "myLGf5nZ9m32",
        "colab_type": "code",
        "colab": {}
      },
      "source": [
        ""
      ],
      "execution_count": 0,
      "outputs": []
    },
    {
      "cell_type": "code",
      "metadata": {
        "collapsed": true,
        "id": "mJkPmUqg9m35",
        "colab_type": "code",
        "colab": {}
      },
      "source": [
        ""
      ],
      "execution_count": 0,
      "outputs": []
    },
    {
      "cell_type": "markdown",
      "metadata": {
        "id": "iDwtu3yY9m36",
        "colab_type": "text"
      },
      "source": [
        "# Dealing with NaN"
      ]
    },
    {
      "cell_type": "code",
      "metadata": {
        "scrolled": true,
        "id": "6pNFqK5u9m36",
        "colab_type": "code",
        "colab": {}
      },
      "source": [
        "# find rows that have null data\n",
        "# fish create a mask\n",
        "nyc.isnull().any(axis=1)"
      ],
      "execution_count": 0,
      "outputs": []
    },
    {
      "cell_type": "code",
      "metadata": {
        "id": "F6qjwH8J9m38",
        "colab_type": "code",
        "colab": {}
      },
      "source": [
        "nyc[nyc.isnull().any(axis=1)]"
      ],
      "execution_count": 0,
      "outputs": []
    },
    {
      "cell_type": "code",
      "metadata": {
        "scrolled": true,
        "id": "MZcrnVSo9m39",
        "colab_type": "code",
        "colab": {}
      },
      "source": [
        "# Find columns with null values\n",
        "nyc.isnull()"
      ],
      "execution_count": 0,
      "outputs": []
    },
    {
      "cell_type": "code",
      "metadata": {
        "id": "rJY3eh169m3_",
        "colab_type": "code",
        "colab": {}
      },
      "source": [
        "# Find columns with null values\n",
        "nyc.isnull().any()"
      ],
      "execution_count": 0,
      "outputs": []
    },
    {
      "cell_type": "code",
      "metadata": {
        "id": "vX8hi87Z9m4A",
        "colab_type": "code",
        "colab": {}
      },
      "source": [
        "missing_df = nyc.isnull() \n",
        "nyc[missing_df.Max_TemperatureF]"
      ],
      "execution_count": 0,
      "outputs": []
    },
    {
      "cell_type": "code",
      "metadata": {
        "id": "RqC0RPih9m4C",
        "colab_type": "code",
        "colab": {}
      },
      "source": [
        "nyc.Max_TemperatureF.fillna(nyc.Max_TemperatureF.mean()).iloc[2219:2222]"
      ],
      "execution_count": 0,
      "outputs": []
    },
    {
      "cell_type": "code",
      "metadata": {
        "id": "utrxxGF-9m4D",
        "colab_type": "code",
        "colab": {}
      },
      "source": [
        "# The .interpolate method will do linear interpolation by default\n",
        "nyc.Max_TemperatureF.interpolate().iloc[2219:2222]"
      ],
      "execution_count": 0,
      "outputs": []
    },
    {
      "cell_type": "code",
      "metadata": {
        "scrolled": true,
        "id": "BJCi1TVe9m4G",
        "colab_type": "code",
        "colab": {}
      },
      "source": [
        "#dropping rows with missing data\n",
        "nyc.dropna()"
      ],
      "execution_count": 0,
      "outputs": []
    },
    {
      "cell_type": "markdown",
      "metadata": {
        "id": "MGds5Z9p9m4J",
        "colab_type": "text"
      },
      "source": [
        "## Dealing with NaN Assignment\n",
        "With the nino dataset:\n",
        "* Find the rows that have null data\n",
        "* Find the columns that have null data\n",
        "* It looks like the ``zon_winds`` has some missing values, use summary stats or plotting to determine how to fill in those values"
      ]
    },
    {
      "cell_type": "code",
      "metadata": {
        "collapsed": true,
        "id": "PuPJgBWW9m4K",
        "colab_type": "code",
        "colab": {}
      },
      "source": [
        ""
      ],
      "execution_count": 0,
      "outputs": []
    },
    {
      "cell_type": "code",
      "metadata": {
        "collapsed": true,
        "id": "GbSHoyP49m4M",
        "colab_type": "code",
        "colab": {}
      },
      "source": [
        ""
      ],
      "execution_count": 0,
      "outputs": []
    },
    {
      "cell_type": "code",
      "metadata": {
        "collapsed": true,
        "id": "FrIGjt8g9m4P",
        "colab_type": "code",
        "colab": {}
      },
      "source": [
        ""
      ],
      "execution_count": 0,
      "outputs": []
    }
  ]
}