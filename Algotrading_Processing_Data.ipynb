{
 "cells": [
  {
   "cell_type": "markdown",
   "metadata": {
    "colab_type": "text",
    "id": "j3X2ZbQxrMgb"
   },
   "source": [
    "# IMPORT MODULES"
   ]
  },
  {
   "cell_type": "markdown",
   "metadata": {
    "colab_type": "text",
    "id": "i3wT_FhoV1_i"
   },
   "source": [
    "*Need to import some important Python libraries and methods that you will need to process financial data and perform data analysis.*\n",
    "\n",
    "*Numpy is a Python library used for numerical computations using multidimensional arrays and complex mathematical functions.*\n",
    "\n",
    "*The requests module enables you to easily download files from the web. It has a get method that takes a string of a URL to download.*\n",
    "\n",
    "*The JavaScript Object Notation (JSON) module enables you to convert a string of JSON data into a Python dictionary via the loads method.*\n",
    "\n",
    "*Pandas is a Python library that is built from the ground-up to do financial data analysis. It has a dataframe object that makes it easy to analyze tabular data traditionally done using spreadsheets.*\n",
    "\n",
    "*Matplotlib is a Python library used for visualizing data. Pandas provides a wrapper to the library so you can plot nice charts with a single line of code.*\n",
    "\n",
    "---\n",
    "\n"
   ]
  },
  {
   "cell_type": "code",
   "execution_count": null,
   "metadata": {
    "colab": {},
    "colab_type": "code",
    "id": "9E3dIkiWx5vy"
   },
   "outputs": [],
   "source": [
    "import numpy as np\n",
    "import pandas as pd\n",
    "import pandas_datareader.data as pdr\n",
    "from datetime import datetime\n",
    "import matplotlib.pyplot as plt\n",
    "plt.style.use('seaborn')\n",
    "import requests\n",
    "import json"
   ]
  },
  {
   "cell_type": "markdown",
   "metadata": {
    "colab_type": "text",
    "id": "RZadV2E1mGdp"
   },
   "source": [
    "# PROCESS DATA"
   ]
  },
  {
   "cell_type": "markdown",
   "metadata": {
    "colab_type": "text",
    "id": "UGNUNfUQ6xbE"
   },
   "source": [
    "*Step 1: Use the get method of the requests module to download data from Alphavantage's website. This returns data as a JSON string, their default data format. Import the JSON string into a dictionary using the loads method of the JSON module. List the keys of the dictionary using the keys method so that you can extract the relevant time series.*\n",
    "\n",
    "---\n",
    "\n",
    "\n",
    "\n"
   ]
  },
  {
   "cell_type": "code",
   "execution_count": null,
   "metadata": {
    "colab": {
     "base_uri": "https://localhost:8080/",
     "height": 34
    },
    "colab_type": "code",
    "id": "qeTQId04mEuG",
    "outputId": "dd9caf8e-3cee-4938-ee06-0a71508c9da0"
   },
   "outputs": [],
   "source": [
    "response = requests.get(\"https://www.alphavantage.co/query?function=TIME_SERIES_DAILY&symbol=MSFT&apikey=demo\")\n",
    "alphadict = json.loads(response.text)\n",
    "alphadict.keys()"
   ]
  },
  {
   "cell_type": "markdown",
   "metadata": {
    "colab_type": "text",
    "id": "PirfFfiJ8qPG"
   },
   "source": [
    "*Step 2: Extract the time series using the relevant key and put it in a pandas dataframe for easier processing and analysis of data. Review the dataframe object using the info method.*\n",
    "\n",
    "---\n",
    "\n"
   ]
  },
  {
   "cell_type": "code",
   "execution_count": null,
   "metadata": {
    "colab": {
     "base_uri": "https://localhost:8080/",
     "height": 187
    },
    "colab_type": "code",
    "id": "b3gDWcE2nATl",
    "outputId": "de873aac-15b3-4989-a56d-081dfe5ca645"
   },
   "outputs": [],
   "source": [
    "stock = pd.DataFrame(alphadict['Time Series (Daily)']).T\n",
    "stock.info()"
   ]
  },
  {
   "cell_type": "markdown",
   "metadata": {
    "colab_type": "text",
    "id": "O76W7x3p_sXf"
   },
   "source": [
    "*Step 3: Check the data by inspecting one of the columns in the dataframe. In the example below, you will get a key error if you try to extract data from any of the columns in the dataframe at this stage. The reason for the key error is that the column name is the string '4. close' and not 'close'. Create user-friendly column names using the column attribute*\n",
    "\n",
    "---\n",
    "\n"
   ]
  },
  {
   "cell_type": "code",
   "execution_count": null,
   "metadata": {
    "colab": {
     "base_uri": "https://localhost:8080/",
     "height": 698
    },
    "colab_type": "code",
    "id": "OEBuy3a63R9O",
    "outputId": "2fc7895e-cf04-4fd3-b2a9-f4f9ec885fc5"
   },
   "outputs": [],
   "source": [
    "stock['close']"
   ]
  },
  {
   "cell_type": "code",
   "execution_count": null,
   "metadata": {
    "colab": {
     "base_uri": "https://localhost:8080/",
     "height": 34
    },
    "colab_type": "code",
    "id": "0wNgFsT0g7XE",
    "outputId": "c296e9ee-e728-4209-dcd6-b68c5dd651e7"
   },
   "outputs": [],
   "source": [
    "stock.columns"
   ]
  },
  {
   "cell_type": "code",
   "execution_count": null,
   "metadata": {
    "colab": {
     "base_uri": "https://localhost:8080/",
     "height": 34
    },
    "colab_type": "code",
    "id": "mTiZoEKy3qcl",
    "outputId": "aa28e54d-7f64-48c7-e5fb-363eda321361"
   },
   "outputs": [],
   "source": [
    "stock.columns = ['open', 'high', 'low', 'close', 'volume']\n",
    "stock.columns"
   ]
  },
  {
   "cell_type": "markdown",
   "metadata": {
    "colab_type": "text",
    "id": "uYnOtL3gBcTf"
   },
   "source": [
    "*Step 4: Continue inspecting the data. You will get an error when you try to plot the values in the dataframe because the values are strings and not numeric data. Convert string data in the dataframe into real numbers using astype(float) method*\n",
    "\n",
    "---\n",
    "\n"
   ]
  },
  {
   "cell_type": "code",
   "execution_count": null,
   "metadata": {
    "colab": {
     "base_uri": "https://localhost:8080/",
     "height": 307
    },
    "colab_type": "code",
    "id": "gB6II8B-hebW",
    "outputId": "04d3120d-f78f-41dd-8c15-6862c465641d"
   },
   "outputs": [],
   "source": [
    "stock['close'].plot(figsize=(20,5), title='Microsoft (MSFT) daily closing prices'), plt.show();"
   ]
  },
  {
   "cell_type": "code",
   "execution_count": null,
   "metadata": {
    "colab": {
     "base_uri": "https://localhost:8080/",
     "height": 34
    },
    "colab_type": "code",
    "id": "nNe2oUjmhuzA",
    "outputId": "a12f950a-2f54-4d5a-cdc3-706038454c0b"
   },
   "outputs": [],
   "source": [
    "type(stock['close'][1])"
   ]
  },
  {
   "cell_type": "code",
   "execution_count": null,
   "metadata": {
    "colab": {
     "base_uri": "https://localhost:8080/",
     "height": 34
    },
    "colab_type": "code",
    "id": "gbn6CByi5D08",
    "outputId": "288c7946-344f-4c4a-b358-21d6c21cb894"
   },
   "outputs": [],
   "source": [
    "stock = stock.astype(float)\n",
    "type(stock['close'][1])"
   ]
  },
  {
   "cell_type": "markdown",
   "metadata": {
    "colab_type": "text",
    "id": "HWEYPEsL_MgI"
   },
   "source": [
    "*Step 5: Convert pandas default dataframe index attribute into a datetime index attribute so that you have a standard time series*\n",
    "\n",
    "---\n",
    "\n"
   ]
  },
  {
   "cell_type": "code",
   "execution_count": null,
   "metadata": {
    "colab": {
     "base_uri": "https://localhost:8080/",
     "height": 34
    },
    "colab_type": "code",
    "id": "8_HWwiQCnl0H",
    "outputId": "a740b211-cc6c-4e70-d245-5c61f1f1aed5"
   },
   "outputs": [],
   "source": [
    "stock.index = pd.to_datetime(stock.index)\n",
    "type(stock.index)"
   ]
  },
  {
   "cell_type": "markdown",
   "metadata": {
    "colab_type": "text",
    "id": "_YI0PfBvKt85"
   },
   "source": [
    "*Step 6: Use the plot method to visualize your time series data.*\n",
    "\n",
    "---\n",
    "\n"
   ]
  },
  {
   "cell_type": "markdown",
   "metadata": {
    "colab_type": "text",
    "id": "iqZ_NfAcwSFq"
   },
   "source": [
    "# VISUALIZE DATA"
   ]
  },
  {
   "cell_type": "code",
   "execution_count": null,
   "metadata": {
    "colab": {
     "base_uri": "https://localhost:8080/",
     "height": 332
    },
    "colab_type": "code",
    "id": "MfdfArgfpZUC",
    "outputId": "37d80710-64be-4ba7-deee-2f346b2c4cec"
   },
   "outputs": [],
   "source": [
    "stock['close'].plot(figsize=(20,5), title='Microsoft (MSFT) daily closing prices'), plt.show();"
   ]
  },
  {
   "cell_type": "markdown",
   "metadata": {
    "colab_type": "text",
    "id": "4oYhGgNUKN_o"
   },
   "source": [
    "*Step 7: Check the quality of your data by getting samples from your dataframe using the sample, head and tail methods*\n",
    "\n",
    "---\n",
    "\n"
   ]
  },
  {
   "cell_type": "markdown",
   "metadata": {
    "colab_type": "text",
    "id": "cb96ylwxvPer"
   },
   "source": [
    "# SUMMARIZE DATA"
   ]
  },
  {
   "cell_type": "code",
   "execution_count": null,
   "metadata": {
    "colab": {
     "base_uri": "https://localhost:8080/",
     "height": 297
    },
    "colab_type": "code",
    "id": "FmtI5QqyyAOZ",
    "outputId": "49a81da9-e7ca-4b91-e2c5-12f629dc2ae6"
   },
   "outputs": [],
   "source": [
    "summary = stock.describe()\n",
    "summary"
   ]
  },
  {
   "cell_type": "markdown",
   "metadata": {
    "colab_type": "text",
    "id": "hOO3guKxvQNk"
   },
   "source": [
    "# SAMPLE DATA"
   ]
  },
  {
   "cell_type": "code",
   "execution_count": null,
   "metadata": {
    "colab": {
     "base_uri": "https://localhost:8080/",
     "height": 359
    },
    "colab_type": "code",
    "id": "0s1McVHNyBXV",
    "outputId": "a7c2c43e-5215-460f-82b8-ae6a682d8ada"
   },
   "outputs": [],
   "source": [
    "sample = stock.sample(10)\n",
    "sample"
   ]
  },
  {
   "cell_type": "code",
   "execution_count": null,
   "metadata": {
    "colab": {
     "base_uri": "https://localhost:8080/",
     "height": 204
    },
    "colab_type": "code",
    "id": "btcEAoYq-qGq",
    "outputId": "16c9ea4e-57a7-478a-835b-951fae28dbd0"
   },
   "outputs": [],
   "source": [
    "stock.head()"
   ]
  },
  {
   "cell_type": "code",
   "execution_count": null,
   "metadata": {
    "colab": {
     "base_uri": "https://localhost:8080/",
     "height": 204
    },
    "colab_type": "code",
    "id": "8cy_v_76TYfk",
    "outputId": "0e6c1935-1eb5-45ee-c9f5-f8e33e823352"
   },
   "outputs": [],
   "source": [
    "stock.tail()"
   ]
  },
  {
   "cell_type": "markdown",
   "metadata": {
    "colab_type": "text",
    "id": "MeLNQ8UXno3i"
   },
   "source": [
    "*Step 8: As you can see from the above sampling of data, the current time series is in descending order, with the most recent date at the top. However, many of the methods we will use to explore signals require the time series to be in ascending order. For instance, if you plot a moving average, it will be give you the wrong signal as seen below. Use the sort_index method to flip the time series upside down so that it is in ascending order. Recalculate the two moving averages.*\n",
    "\n",
    "---\n",
    "\n"
   ]
  },
  {
   "cell_type": "code",
   "execution_count": null,
   "metadata": {
    "colab": {
     "base_uri": "https://localhost:8080/",
     "height": 332
    },
    "colab_type": "code",
    "id": "Gee-ONMtXL4o",
    "outputId": "17be0921-1102-4529-e220-b9b0dcd1c97c"
   },
   "outputs": [],
   "source": [
    "SMA1 = 20\n",
    "SMA2 = 50\n",
    "stock['SMA1'] = stock['close'].rolling(SMA1).mean()\n",
    "stock['SMA2'] = stock['close'].rolling(SMA2).mean()\n",
    "stock[['close','SMA1','SMA2']].plot(figsize=(20,5), grid = True, title='The 20 and 50 day simple moving averages of Microsoft'), plt.show();"
   ]
  },
  {
   "cell_type": "code",
   "execution_count": null,
   "metadata": {
    "colab": {
     "base_uri": "https://localhost:8080/",
     "height": 204
    },
    "colab_type": "code",
    "id": "E_bfiMf7ik2-",
    "outputId": "f50cea71-fd10-40ca-9c73-06fbc223e0ae"
   },
   "outputs": [],
   "source": [
    "stock = stock.sort_index(ascending = True)\n",
    "stock.head()"
   ]
  },
  {
   "cell_type": "code",
   "execution_count": null,
   "metadata": {
    "colab": {
     "base_uri": "https://localhost:8080/",
     "height": 434
    },
    "colab_type": "code",
    "id": "uVBwQWCsBMAR",
    "outputId": "a272a8e9-afc4-4e7d-b9af-bb51ed9b0dfc"
   },
   "outputs": [],
   "source": [
    "stock['SMA1'] = stock['close'].rolling(SMA1).mean()\n",
    "stock['SMA2'] = stock['close'].rolling(SMA2).mean()\n",
    "stock[['close','SMA1','SMA2']].plot(figsize=(20,5), grid = True, title='The 20 and 50 day simple moving averages of Microsoft'), plt.show();\n",
    "print(stock.head())"
   ]
  },
  {
   "cell_type": "markdown",
   "metadata": {
    "colab_type": "text",
    "id": "kZ4_Azeeo5kG"
   },
   "source": [
    "*Step 9: Since you need a rolling window of 50 days to calculate a 50-day moving average, you will have 49 rows of NaN (Not a Number) values in the dataframe. You can get rid of the 19 NaN rows using the dropna method.*\n",
    "\n",
    "---\n",
    "\n"
   ]
  },
  {
   "cell_type": "code",
   "execution_count": null,
   "metadata": {
    "colab": {
     "base_uri": "https://localhost:8080/",
     "height": 434
    },
    "colab_type": "code",
    "id": "IjTXCjUYZU9l",
    "outputId": "64e7243f-b1d0-4d78-fb91-9d9070643bca"
   },
   "outputs": [],
   "source": [
    "stock.dropna(inplace=True)\n",
    "stock[['close','SMA1','SMA2']].plot(figsize=(20,5), grid = True, title='The 20 and 50 day simple moving averages of Microsoft'), plt.show();\n",
    "print(stock.head())"
   ]
  },
  {
   "cell_type": "markdown",
   "metadata": {
    "colab_type": "text",
    "id": "T5n4RyBBpJcM"
   },
   "source": [
    "*Step 10: Start analyzing your time series data to discover and evaluate trading signals.*\n",
    "\n",
    "---\n",
    "\n"
   ]
  },
  {
   "cell_type": "markdown",
   "metadata": {
    "colab_type": "text",
    "id": "XGhrx5XcGvyP"
   },
   "source": [
    "#ANALYZE SIGNALS"
   ]
  },
  {
   "cell_type": "markdown",
   "metadata": {
    "colab_type": "text",
    "id": "NafL-Ro4-wRi"
   },
   "source": [
    "*In a dual moving average crossover signal, you compare a shorter term moving average, such as a 20 day simple moving average (SMA), with a longer term moving average, such as a 50 day SMA, to generate the dual moving average crossover signal. The signal is +1 when the 20-day SMA is above the the 50-day SMA and the signal is -1 when the opposite occurs.*"
   ]
  },
  {
   "cell_type": "code",
   "execution_count": null,
   "metadata": {
    "colab": {
     "base_uri": "https://localhost:8080/",
     "height": 332
    },
    "colab_type": "code",
    "id": "FMZsEmNNEdVd",
    "outputId": "5b76fdff-1eb3-4d7d-bcd5-9e163a5c31bf"
   },
   "outputs": [],
   "source": [
    "stock[['close','SMA1','SMA2']].plot(figsize=(20,5), grid = True, title='The 20 and 50 day simple moving averages of Microsoft'), plt.show();"
   ]
  },
  {
   "cell_type": "markdown",
   "metadata": {
    "colab_type": "text",
    "id": "Dfthej1i8vL4"
   },
   "source": [
    "*Create a new dataframe to capture the relevant data to analyze the dual moving average crossover signal. The 'change' column measures the absolute change in the closing prices of the stock. The 'crossover' column measures the absolute difference between the two moving averages at the end of each day. We use a numpy conditional statement to generate the dual moving average crossover signal.*"
   ]
  },
  {
   "cell_type": "code",
   "execution_count": null,
   "metadata": {
    "colab": {
     "base_uri": "https://localhost:8080/",
     "height": 359
    },
    "colab_type": "code",
    "id": "UWuaIbZdvnJh",
    "outputId": "8a920186-19d8-4162-efc7-5edce97029c8"
   },
   "outputs": [],
   "source": [
    "dualsma = pd.DataFrame()\n",
    "dualsma['change'] = stock['close'].diff()\n",
    "dualsma['crossover'] = stock['SMA1'] - stock['SMA2']\n",
    "dualsma['signal']= np.where(dualsma['crossover'] > 0, 1, -1)\n",
    "dualsma.sample(10)"
   ]
  },
  {
   "cell_type": "markdown",
   "metadata": {
    "colab_type": "text",
    "id": "OJmmfmdc9vQf"
   },
   "source": [
    "*Very often you will need to merge, concatenate or join two or more dataframes. In the example below, join the columns of the stock dataframe and the dualsma dataframe using the left join method.*"
   ]
  },
  {
   "cell_type": "code",
   "execution_count": null,
   "metadata": {
    "colab": {
     "base_uri": "https://localhost:8080/",
     "height": 204
    },
    "colab_type": "code",
    "id": "17F30IFzHwD3",
    "outputId": "80779691-0b41-44ed-95b7-767306c83f6c"
   },
   "outputs": [],
   "source": [
    "stock.join(dualsma, how='left').head()"
   ]
  }
 ],
 "metadata": {
  "colab": {
   "name": "Algotrading_Processing Data.ipynb",
   "provenance": [],
   "version": "0.3.2"
  },
  "kernelspec": {
   "display_name": "Python 3",
   "language": "python",
   "name": "python3"
  },
  "language_info": {
   "codemirror_mode": {
    "name": "ipython",
    "version": 3
   },
   "file_extension": ".py",
   "mimetype": "text/x-python",
   "name": "python",
   "nbconvert_exporter": "python",
   "pygments_lexer": "ipython3",
   "version": "3.7.3"
  }
 },
 "nbformat": 4,
 "nbformat_minor": 1
}
