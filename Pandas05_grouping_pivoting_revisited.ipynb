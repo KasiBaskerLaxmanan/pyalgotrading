{
  "nbformat": 4,
  "nbformat_minor": 0,
  "metadata": {
    "kernelspec": {
      "display_name": "Python 3",
      "language": "python",
      "name": "python3"
    },
    "language_info": {
      "codemirror_mode": {
        "name": "ipython",
        "version": 3
      },
      "file_extension": ".py",
      "mimetype": "text/x-python",
      "name": "python",
      "nbconvert_exporter": "python",
      "pygments_lexer": "ipython3",
      "version": "3.6.2"
    },
    "colab": {
      "name": "Pandas05_grouping_pivoting_revisited.ipynb",
      "provenance": [],
      "include_colab_link": true
    }
  },
  "cells": [
    {
      "cell_type": "markdown",
      "metadata": {
        "id": "view-in-github",
        "colab_type": "text"
      },
      "source": [
        "<a href=\"https://colab.research.google.com/github/KasiBaskerLaxmanan/pyalgotrading/blob/master/Pandas05_grouping_pivoting_revisited.ipynb\" target=\"_parent\"><img src=\"https://colab.research.google.com/assets/colab-badge.svg\" alt=\"Open In Colab\"/></a>"
      ]
    },
    {
      "cell_type": "code",
      "metadata": {
        "id": "JuRAbw3G-NkD",
        "colab_type": "code",
        "colab": {}
      },
      "source": [
        "import pandas as pd\n",
        "import matplotlib\n",
        "%matplotlib inline \n",
        "import numpy as np"
      ],
      "execution_count": 0,
      "outputs": []
    },
    {
      "cell_type": "markdown",
      "metadata": {
        "id": "Ni23KX8v-NkW",
        "colab_type": "text"
      },
      "source": [
        "# More Stacking"
      ]
    },
    {
      "cell_type": "code",
      "metadata": {
        "id": "bDyPN60O-Nkb",
        "colab_type": "code",
        "colab": {}
      },
      "source": [
        "# We briefly talked about stacking in the pivot section, here we will\n",
        "# dive in a little more.\n",
        "# Vehicle data - https://www.fueleconomy.gov/feg/download.shtml\n",
        "# Datasets for All Model Years (1984–2018)\n",
        "auto = pd.read_csv('data/vehicles.csv.zip')"
      ],
      "execution_count": 0,
      "outputs": []
    },
    {
      "cell_type": "code",
      "metadata": {
        "scrolled": false,
        "id": "KGUA1Yz2-Nkm",
        "colab_type": "code",
        "colab": {}
      },
      "source": [
        "auto.head()"
      ],
      "execution_count": 0,
      "outputs": []
    },
    {
      "cell_type": "code",
      "metadata": {
        "scrolled": false,
        "id": "NUDC6bl2-Nk0",
        "colab_type": "code",
        "colab": {}
      },
      "source": [
        "auto.head().T"
      ],
      "execution_count": 0,
      "outputs": []
    },
    {
      "cell_type": "code",
      "metadata": {
        "id": "IlyDbrI3-Nk-",
        "colab_type": "code",
        "colab": {}
      },
      "source": [
        "auto.columns"
      ],
      "execution_count": 0,
      "outputs": []
    },
    {
      "cell_type": "code",
      "metadata": {
        "scrolled": true,
        "id": "UbmkgGe_-NlG",
        "colab_type": "code",
        "colab": {}
      },
      "source": [
        "auto.dtypes"
      ],
      "execution_count": 0,
      "outputs": []
    },
    {
      "cell_type": "code",
      "metadata": {
        "id": "hDo3XoZ8-NlP",
        "colab_type": "code",
        "colab": {}
      },
      "source": [
        "# guzzler- if G or T, this vehicle is subject to the gas guzzler tax\n",
        "auto.guzzler.value_counts()"
      ],
      "execution_count": 0,
      "outputs": []
    },
    {
      "cell_type": "code",
      "metadata": {
        "scrolled": true,
        "id": "SiQAzKE8-NlX",
        "colab_type": "code",
        "colab": {}
      },
      "source": [
        "auto.groupby('make').size()"
      ],
      "execution_count": 0,
      "outputs": []
    },
    {
      "cell_type": "code",
      "metadata": {
        "scrolled": true,
        "id": "oJg7Wi7p-Nlj",
        "colab_type": "code",
        "colab": {}
      },
      "source": [
        "auto.groupby(['year', 'make']).size()"
      ],
      "execution_count": 0,
      "outputs": []
    },
    {
      "cell_type": "code",
      "metadata": {
        "scrolled": true,
        "id": "vcQCqr0F-Nln",
        "colab_type": "code",
        "colab": {}
      },
      "source": [
        "auto.groupby(['year', 'make']).size().unstack(1)"
      ],
      "execution_count": 0,
      "outputs": []
    },
    {
      "cell_type": "code",
      "metadata": {
        "scrolled": true,
        "id": "dDNjtW7P-Nlw",
        "colab_type": "code",
        "colab": {}
      },
      "source": [
        "# .stack undoes .unstack\n",
        "auto.groupby(['year', 'make']).size().unstack(1).stack()"
      ],
      "execution_count": 0,
      "outputs": []
    },
    {
      "cell_type": "code",
      "metadata": {
        "scrolled": true,
        "id": "Zp2Wv81Y-Nl2",
        "colab_type": "code",
        "colab": {}
      },
      "source": [
        "# By default .unstack does innermost level (in this case 1)\n",
        "auto.groupby(['year', 'make']).size().unstack(0)"
      ],
      "execution_count": 0,
      "outputs": []
    },
    {
      "cell_type": "code",
      "metadata": {
        "scrolled": true,
        "id": "fHnXwEBi-Nl9",
        "colab_type": "code",
        "colab": {}
      },
      "source": [
        "# If index has name we can use that\n",
        "auto.groupby(['year', 'make']).size().unstack('make')"
      ],
      "execution_count": 0,
      "outputs": []
    },
    {
      "cell_type": "code",
      "metadata": {
        "scrolled": true,
        "id": "wEAaJdg_-NmD",
        "colab_type": "code",
        "colab": {}
      },
      "source": [
        "# If index has name we can use that\n",
        "auto.groupby(['year', 'make']).size().unstack('year')"
      ],
      "execution_count": 0,
      "outputs": []
    },
    {
      "cell_type": "code",
      "metadata": {
        "id": "17FIq32n-NmI",
        "colab_type": "code",
        "colab": {}
      },
      "source": [
        "# get Ford through Lexus\n",
        "auto.groupby(['year', 'make']).size().unstack().loc[:,'Ford':'Lexus'].\\\n",
        "plot(figsize=(14,10)) "
      ],
      "execution_count": 0,
      "outputs": []
    },
    {
      "cell_type": "code",
      "metadata": {
        "id": "i6Agc-bp-NmN",
        "colab_type": "code",
        "colab": {}
      },
      "source": [
        "# Wrap with parens to allow per line \"flow\" style\n",
        "(\n",
        "auto.groupby(['year', 'make'])\n",
        "    .size()\n",
        "    .unstack('make')\n",
        "    .loc[:,'Ford':'Lexus']\n",
        "    .plot(figsize=(14,10)) \n",
        ")"
      ],
      "execution_count": 0,
      "outputs": []
    },
    {
      "cell_type": "code",
      "metadata": {
        "id": "5lf-m-Iu-NmQ",
        "colab_type": "code",
        "colab": {}
      },
      "source": [
        "# Just look at Ford, Lexus, & Toyota\n",
        "auto.groupby(['year', 'make']).size().unstack('make').loc[:,['Ford', 'Lexus', 'Toyota']].\\\n",
        "plot(kind='bar', figsize=(14,10)) "
      ],
      "execution_count": 0,
      "outputs": []
    },
    {
      "cell_type": "code",
      "metadata": {
        "id": "dTZ_vIFf-NmV",
        "colab_type": "code",
        "colab": {}
      },
      "source": [
        "# get the average gas mileage per year\n",
        "auto.groupby(['year', 'make'])['city08'].mean().unstack('make').\\\n",
        "loc[:,['Ford', 'BMW', 'Toyota', 'Honda']].\\\n",
        "plot(figsize=(14,10)) "
      ],
      "execution_count": 0,
      "outputs": []
    },
    {
      "cell_type": "code",
      "metadata": {
        "id": "LFXbyz18-Nmb",
        "colab_type": "code",
        "colab": {}
      },
      "source": [
        "# Get the 70% quantile for each mfr\n",
        "auto.groupby(['year', 'make'])['city08'].quantile(.7).unstack('make').\\\n",
        "loc[:,['Ford', 'BMW', 'Toyota', 'Honda']].\\\n",
        "plot(subplots=True, sort_columns=True, figsize=(14,10)) "
      ],
      "execution_count": 0,
      "outputs": []
    },
    {
      "cell_type": "code",
      "metadata": {
        "id": "623gmlBp-Nmg",
        "colab_type": "code",
        "colab": {}
      },
      "source": [
        "# Add the drive\n",
        "(\n",
        "auto.groupby(['year', 'make', 'drive'])['city08'].mean()\n",
        ")"
      ],
      "execution_count": 0,
      "outputs": []
    },
    {
      "cell_type": "code",
      "metadata": {
        "id": "1fVGazH2-Nmk",
        "colab_type": "code",
        "colab": {}
      },
      "source": [
        "# Can unstack multiple times\n",
        "(\n",
        "auto.groupby(['year', 'make', 'drive'])['city08'].mean()\n",
        "    .unstack('drive').unstack('make')\n",
        ")"
      ],
      "execution_count": 0,
      "outputs": []
    },
    {
      "cell_type": "code",
      "metadata": {
        "scrolled": false,
        "id": "WtePpFZb-Nmo",
        "colab_type": "code",
        "colab": {}
      },
      "source": [
        "# Can unstack multiple times\n",
        "(\n",
        "auto.groupby(['year', 'make', 'drive'])['city08'].mean()\n",
        "    .loc[(slice(None), # all years\n",
        "          \"Ford\",    # Ford rows\n",
        "          [\"Rear-Wheel Drive\"])]\n",
        "    .unstack('drive').unstack('year')\n",
        ")"
      ],
      "execution_count": 0,
      "outputs": []
    },
    {
      "cell_type": "code",
      "metadata": {
        "scrolled": false,
        "id": "J6_bV_eF-Nmt",
        "colab_type": "code",
        "colab": {}
      },
      "source": [
        "# Can unstack multiple times\n",
        "(\n",
        "auto.groupby(['year', 'make', 'drive'])['city08'].mean()\n",
        "    .loc[(slice(None), # all years\n",
        "          \"Ford\",    # Ford rows\n",
        "          [\"Rear-Wheel Drive\"])]  # if we don't make a list here the index won't have drive\n",
        "    .unstack('drive').unstack('year')\n",
        ")"
      ],
      "execution_count": 0,
      "outputs": []
    },
    {
      "cell_type": "code",
      "metadata": {
        "scrolled": false,
        "id": "Nqe5R01q-Nmz",
        "colab_type": "code",
        "colab": {}
      },
      "source": [
        "# Simpler may be better\n",
        "(\n",
        "auto.groupby(['year', 'make', 'drive'])['city08'].mean()\n",
        "    .loc[(slice(None), # all years\n",
        "          \"Ford\",    # Ford rows\n",
        "          \"Rear-Wheel Drive\")]\n",
        "    .plot(figsize=(14,10))\n",
        ")"
      ],
      "execution_count": 0,
      "outputs": []
    },
    {
      "cell_type": "markdown",
      "metadata": {
        "id": "ecXvhYEH-Nm2",
        "colab_type": "text"
      },
      "source": [
        "## Stacking Assignment\n",
        "\n",
        "* For each Escape (model) in Ford (make) show the by year avg mpg (city08) in tabular form.\n",
        "* Visualize the result"
      ]
    },
    {
      "cell_type": "code",
      "metadata": {
        "id": "_0xjZpdl-Nm2",
        "colab_type": "code",
        "colab": {}
      },
      "source": [
        ""
      ],
      "execution_count": 0,
      "outputs": []
    },
    {
      "cell_type": "code",
      "metadata": {
        "id": "7ouFqa5S-Nm6",
        "colab_type": "code",
        "colab": {}
      },
      "source": [
        ""
      ],
      "execution_count": 0,
      "outputs": []
    },
    {
      "cell_type": "code",
      "metadata": {
        "id": "RVF4DA1F-Nm-",
        "colab_type": "code",
        "colab": {}
      },
      "source": [
        ""
      ],
      "execution_count": 0,
      "outputs": []
    },
    {
      "cell_type": "code",
      "metadata": {
        "id": "vMGBODBP-NnD",
        "colab_type": "code",
        "colab": {}
      },
      "source": [
        ""
      ],
      "execution_count": 0,
      "outputs": []
    },
    {
      "cell_type": "markdown",
      "metadata": {
        "id": "4ksiDfUO-NnG",
        "colab_type": "text"
      },
      "source": [
        "## Extra Groupby"
      ]
    },
    {
      "cell_type": "code",
      "metadata": {
        "id": "4AAeMBR0-NnH",
        "colab_type": "code",
        "colab": {}
      },
      "source": [
        "# Find best mpg for each year/make\n",
        "auto.loc[auto.groupby(['year', 'make']).city08.idxmax()][['year', 'make', 'model', 'city08']]"
      ],
      "execution_count": 0,
      "outputs": []
    },
    {
      "cell_type": "code",
      "metadata": {
        "id": "neoPjD_A-NnK",
        "colab_type": "code",
        "colab": {}
      },
      "source": [
        "# only show ford\n",
        "res = auto.loc[auto.groupby(['year', 'make']).city08.idxmax()][['year', 'make', 'model', 'city08']]\n",
        "res[res.make.isin(['Ford'])]"
      ],
      "execution_count": 0,
      "outputs": []
    }
  ]
}