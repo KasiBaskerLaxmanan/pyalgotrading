{
  "nbformat": 4,
  "nbformat_minor": 0,
  "metadata": {
    "kernelspec": {
      "display_name": "Python 3",
      "language": "python",
      "name": "python3"
    },
    "language_info": {
      "codemirror_mode": {
        "name": "ipython",
        "version": 3
      },
      "file_extension": ".py",
      "mimetype": "text/x-python",
      "name": "python",
      "nbconvert_exporter": "python",
      "pygments_lexer": "ipython3",
      "version": "3.7.6"
    },
    "colab": {
      "name": "PricingAnalysis2.ipynb",
      "provenance": [],
      "collapsed_sections": [
        "37DjyuJ6uGlv",
        "EGnAqMnBuGlx",
        "h4T-u5QpuGm7",
        "YVwpGZ_iuGnh",
        "FTVs62XNuGni",
        "RzSdhn4YuGnj",
        "5GyOVQIXuGnj"
      ],
      "include_colab_link": true
    }
  },
  "cells": [
    {
      "cell_type": "markdown",
      "metadata": {
        "id": "view-in-github",
        "colab_type": "text"
      },
      "source": [
        "<a href=\"https://colab.research.google.com/github/KasiBaskerLaxmanan/pyalgotrading/blob/master/PricingAnalysis2.ipynb\" target=\"_parent\"><img src=\"https://colab.research.google.com/assets/colab-badge.svg\" alt=\"Open In Colab\"/></a>"
      ]
    },
    {
      "cell_type": "markdown",
      "metadata": {
        "id": "qK6U4zE7uGkc",
        "colab_type": "text"
      },
      "source": [
        "<font color = red>Pricing Analysis Using Python</font>\n",
        "=======\n",
        "<br>\n",
        "    <center><img src=\"http://dataanalyticscorp.com/wp-content/uploads/2018/03/logo.png\"></center>\n",
        "<br>\n",
        "Taught by: \n",
        "\n",
        "* Walter R. Paczkowski, Ph.D. \n",
        "\n",
        "    * My Affliations: [Data Analytics Corp.](http://www.dataanalyticscorp.com/) and [Rutgers University](https://economics.rutgers.edu/people/teaching-personnel)\n",
        "    * [Email Me With Questions](mailto:walt@dataanalyticscorp.com)\n",
        "    * [Learn About Me](http://www.dataanalyticscorp.com/)\n",
        "    * [See My LinkedIn Profile](https://www.linkedin.com/in/walter-paczkowski-a17a1511/)\n",
        "    * [My Books](https://www.amazon.com/-/e/B084KK4SF5?ref_=pe_1724030_132998070)"
      ]
    },
    {
      "cell_type": "markdown",
      "metadata": {
        "id": "c9gZ4oV6uGkg",
        "colab_type": "text"
      },
      "source": [
        "## Slide Set-up\n",
        "\n",
        "This code sets up the presentation slides."
      ]
    },
    {
      "cell_type": "code",
      "metadata": {
        "id": "xR0LwnBKuGkk",
        "colab_type": "code",
        "colab": {}
      },
      "source": [
        "##\n",
        "## slide code\n",
        "##\n",
        "from IPython.display import Image\n",
        "def slide(what):\n",
        "    display( Image( \"../Slides/PA_Page_\" + what + \".png\", width = 50, height = 50, retina = True ) )"
      ],
      "execution_count": null,
      "outputs": []
    },
    {
      "cell_type": "markdown",
      "metadata": {
        "id": "GCiUyueauGkv",
        "colab_type": "text"
      },
      "source": [
        "## Contents\n",
        "\n",
        "1. [**_Helpful Background_**](#Helpful-Background)\n",
        "    1. [About this Notebook](#About-this-Notebook)\n",
        "    2. [Helpful Online Tutorials](#Helpful-Online-Tutorials)\n",
        "    3. [Helpful/Must-Read Books](#Helpful/Must-Read-Books)\n",
        "2. [**_Lesson 0: Preliminary Stuff_**](#Lesson-0:-Preliminary-Stuff)\n",
        "    1. [Load Python Packages](#Load-Python-Packages)\n",
        "    2. [Set Data Path](#Set-Data-Path)\n",
        "3. [**_Lesson I: Introduction_**](#Lesson-I:-Introduction) \n",
        "4. [**_Lesson II: Survey Approach to Pricing_**](#Lesson-II:-Survey-Approach-to-Pricing)\n",
        "    1. [The Pricing Problem for Conjoint](#The-Pricing-Problem-for-Conjoint)\n",
        "    2. [Analysis Steps for Conjoint](#Analysis-Steps-for-Conjoint)\n",
        "    3. [The Setting for Conjoint](#The-Setting-for-Conjoint)\n",
        "    4. [Conjoint Design Matrix Generation](#Conjoint-Design-Matrix-Generation)\n",
        "    5. [Sample Card for Fielding Study](#Sample-Card-for-Fielding-Study)\n",
        "    6. [Import the Responses](#Import-the-Responses)\n",
        "    7. [Concatenate the Design Matrix and Responses](#Concatenate-the-Design-Matrix-and-Responses)\n",
        "    8. [Estimate Part-worth Utilities](#Estimate-Part-worth-Utilities)\n",
        "    9. [Calculate Attribute Importances](#Calculate-Attribute-Importances)\n",
        "    10. [Calculate the Price Elasticities](#Calculate-the-Price-Elasticities)\n",
        "\n",
        "5. [**_Lesson III: Transactions Data Approach to Pricing_**](#Lesson-III:-Transactions-Data-Approach-to-Pricing)\n",
        "    1. [The Pricing Problem for Transactions](#The-Pricing-Problem-for-Transactions)\n",
        "    2. [Import the Stores Data](#Import-the-Stores-Data)\n",
        "    3. [Check the Data](#Check-the-Data)\n",
        "    4. [Model Estimation I: Pooled Model](#Model-Estimation-I:-Pooled-Model)\n",
        "        1. [Calculate the Price Elasticities: I](#Calculate-the-Price-Elasticities:-I)\n",
        "    5. [Model Estimation II: Dummy Model](#Model-Estimation-II:-Dummy-Variable-Model)\n",
        "        1. [Calculate the Price Elasticities: II](#Calculate-the-Price-Elasticities:-II)\n",
        "    6. [Model Estimation III: Multilevel Model](#Model-Estimation-III:-Multilevel-Model)\n",
        "6. [**_Summary and Wrap-Up_**](#Summary-and-Wrap-Up)\n",
        "7. [**_Contact Information_**](#Contact-Information)\n",
        "8. [**_Appendix: Extra Material_**](#Appendix:-Extra-Material)\n",
        "    1. [Conjoint Analysis](#Conjoint-Analysis) \n",
        "        1. [Display Attribute Importances](#Display-Attribute-Importances)\n",
        "        2. [Calculate Willingness-to-Pay (*WTP*)](#Calculate-Willingness-to-Pay)\n",
        "    2. [Transactions Analysis](#Transactions-Analysis)\n",
        "        1. [Check Distributions](#Check-Distributions)\n",
        "        2. [Sales and Price Relationship](#Sales-and-Price-Relationship)\n",
        "    "
      ]
    },
    {
      "cell_type": "markdown",
      "metadata": {
        "id": "j0llOehUuGkx",
        "colab_type": "text"
      },
      "source": [
        "## Helpful Background\n",
        "\n",
        "[Back to Contents](#Contents)\n",
        "\n",
        "\n",
        "### About this Notebook\n",
        "\n",
        "[Back to Contents](#Contents)\n",
        "\n",
        "This notebook accompanies the PDF presentation **_Pricing Analysis Using Python_** by Walter R. Paczkowski, Ph.D. (2020).  There is more content and commentary in this notebook than in the presentation deck.  Nonetheless, the two complement each other and so should be studied together.  Every effort has been made to use the same key slide titles in the presentation deck and this notebook to help your learning.\n",
        "\n",
        "### Helpful Online Tutorials\n",
        "\n",
        "[Back to Contents](#Contents)\n",
        "\n",
        "* <a href=\"http://docs.python.org/2/tutorial/\" target=\"_parent\">Python Tutorial</a>\n",
        "\n",
        "* <a href=\"https://pandas.pydata.org/pandas-docs/stable/getting_started/tutorials.html\" target=\"_parent\">Pandas Tutorial</a>\n",
        "\n",
        "* <a href=\"https://seaborn.pydata.org/tutorial.html\" target=\"_parent\">Seaborn Tutorial</a>\n",
        "\n",
        "* <a href=\"https://www.statsmodels.org/stable/index.html\" target=\"_parent\">Statsmodels Tutorial</a>\n",
        "\n",
        "\n",
        "### Helpful/Must-Read Books\n",
        "\n",
        "[Back to Contents](#Contents)\n",
        "\n",
        "* <a href=\"https://www.routledge.com/Pricing-Analytics-Models-and-Advanced-Quantitative-Techniques-for-Product/Paczkowski/p/book/9781138623934\" target=\"_parent\">Main Pricing go-to book: </a> *Pricing Analytics\n",
        "Models and Advanced Quantitative Techniques for Product Pricing* (1st Edition) by Walter R. Paczkowski.\n",
        "\n",
        "* <a href=\"https://www.amazon.com/gp/product/1491957662/ref=as_li_tl?ie=UTF8&tag=quantpytho-20&camp=1789&creative=9325&linkCode=as2&creativeASIN=1491957662&linkId=8c3bf87b221dbcd8f541f0db20d4da83\" target=\"_parent\">Main Pandas go-to book: </a> *Python for Data Analysis: Data Wrangling with Pandas, NumPy, and IPython* (2nd Edition) by Wes McKinney."
      ]
    },
    {
      "cell_type": "markdown",
      "metadata": {
        "id": "iGsoLiHVuGky",
        "colab_type": "text"
      },
      "source": [
        "## Lesson 0: Preliminary Stuff\n",
        "\n",
        "[Back to Contents](#Contents)\n",
        "\n",
        "### Load Python Packages\n",
        "\n",
        "[Back to Contents](#Contents)\n",
        "\n",
        "You have to load a Python package before you can use it.  Loading is done using an *import* command.  An alias is assigned when you import the package.  I recommend loading all the packages at once at the beginning of your notebook."
      ]
    },
    {
      "cell_type": "code",
      "metadata": {
        "id": "MkayHtA2uGk0",
        "colab_type": "code",
        "colab": {
          "base_uri": "https://localhost:8080/",
          "height": 228
        },
        "outputId": "ea658709-2fe2-426a-8db8-d10e93000a2e"
      },
      "source": [
        "##\n",
        "## ===> Data Management <===\n",
        "##\n",
        "import numpy as np\n",
        "import pandas as pd\n",
        "##\n",
        "## ===> Visualization <===\n",
        "##\n",
        "import seaborn as sns\n",
        "import matplotlib.pyplot as plt\n",
        "##\n",
        "## ===> Modeling <===\n",
        "##\n",
        "import statsmodels.api as sm\n",
        "import statsmodels.formula.api as smf \n",
        "from statsmodels.iolib.summary2 import summary_col\n",
        "##\n",
        "from patsy.contrasts import Sum\n",
        "##\n",
        "## ===> Hypothesis Testing <===\n",
        "##\n",
        "from scipy.stats import skewtest\n",
        "##\n",
        "## ===> Experimental Design <===\n",
        "##\n",
        "import random\n",
        "random.seed( 42 )\n",
        "!pip install pyDOE2\n",
        "import pyDOE2\n",
        "##\n",
        "## ===> Preprocessing <===\n",
        "##\n",
        "from sklearn.preprocessing import minmax_scale\n",
        "from sklearn.preprocessing import MinMaxScaler"
      ],
      "execution_count": null,
      "outputs": [
        {
          "output_type": "stream",
          "text": [
            "Collecting pyDOE2\n",
            "  Downloading https://files.pythonhosted.org/packages/70/1f/8a2e1b57f6dd22cd2002e4332e229e87a3858d560c516b50ab7fe5bb075c/pyDOE2-1.3.0.tar.gz\n",
            "Requirement already satisfied: numpy in /usr/local/lib/python3.6/dist-packages (from pyDOE2) (1.18.5)\n",
            "Requirement already satisfied: scipy in /usr/local/lib/python3.6/dist-packages (from pyDOE2) (1.4.1)\n",
            "Building wheels for collected packages: pyDOE2\n",
            "  Building wheel for pyDOE2 (setup.py) ... \u001b[?25l\u001b[?25hdone\n",
            "  Created wheel for pyDOE2: filename=pyDOE2-1.3.0-cp36-none-any.whl size=25519 sha256=5ff77582f3eeb1983357232a6ef233c177d70434a28da50151dca40ae4b9e11f\n",
            "  Stored in directory: /root/.cache/pip/wheels/60/88/1d/b334ee00dd83e82d111ec56c3be91573d335c93870698037f1\n",
            "Successfully built pyDOE2\n",
            "Installing collected packages: pyDOE2\n",
            "Successfully installed pyDOE2-1.3.0\n"
          ],
          "name": "stdout"
        }
      ]
    },
    {
      "cell_type": "markdown",
      "metadata": {
        "id": "blWow3SpuGk-",
        "colab_type": "text"
      },
      "source": [
        "**_Code Explanation_**\n",
        "\n",
        "This code block loads the necessary Python packages for this course.  "
      ]
    },
    {
      "cell_type": "code",
      "metadata": {
        "id": "uP8aDNwAuGlA",
        "colab_type": "code",
        "colab": {}
      },
      "source": [
        "##\n",
        "## Run if needed to install pyDOE2.\n",
        "## Removing the ## at the beginning of the last line.\n",
        "##\n",
        "##!pip install -q pyDOE2"
      ],
      "execution_count": null,
      "outputs": []
    },
    {
      "cell_type": "markdown",
      "metadata": {
        "id": "zxKzo2tduGlJ",
        "colab_type": "text"
      },
      "source": [
        "### Set Defaults"
      ]
    },
    {
      "cell_type": "code",
      "metadata": {
        "id": "iKchtN-buGlL",
        "colab_type": "code",
        "colab": {}
      },
      "source": [
        "##\n",
        "## Default formats\n",
        "##\n",
        "font_title = 20\n",
        "format = '{:0.1%}'\n",
        "format_dollar = '${:,.2f}'\n",
        "p_value = '{:0.4f}'\n",
        "##\n",
        "## DataFrame styles\n",
        "##\n",
        "tbl_styles = [ {\n",
        "    'selector': 'caption',\n",
        "    'props': [\n",
        "        ('color', 'red'),\n",
        "        ('font-size', '18px')\n",
        "    ] } ]\n",
        "##\n",
        "## Misc functions for graphs\n",
        "##\n",
        "def footer():\n",
        "    ax.annotate( base, ( 0, 0 ), ( 0, -0.3 ), xycoords = 'axes fraction' )\n",
        "def tick_labels( tick ):\n",
        "    if tick == 'y':\n",
        "        vals = ax.get_yticks()\n",
        "        ax.set_yticklabels( format.format( x ) for x in vals )\n",
        "    else:\n",
        "        vals = ax.get_xticks()\n",
        "        ax.set_xticklabels( format.format( x ) for x in vals )"
      ],
      "execution_count": null,
      "outputs": []
    },
    {
      "cell_type": "markdown",
      "metadata": {
        "id": "qELeeL2quGlS",
        "colab_type": "text"
      },
      "source": [
        "### Set Data Path\n",
        "\n",
        "[Back to Contents](#Contents)\n",
        "\n",
        "It is best practice to define paths in one location.  This makes error finding and changes easier."
      ]
    },
    {
      "cell_type": "code",
      "metadata": {
        "id": "ZIu2n9tZuGlU",
        "colab_type": "code",
        "colab": {}
      },
      "source": [
        "##\n",
        "## Set data path.\n",
        "##\n",
        "path = '../Data/'"
      ],
      "execution_count": null,
      "outputs": []
    },
    {
      "cell_type": "markdown",
      "metadata": {
        "id": "uLQznQzRuGle",
        "colab_type": "text"
      },
      "source": [
        "## Lesson I: Introduction\n",
        "\n",
        "[Back to Contents](#Contents)\n",
        "\n",
        "A *pricing strategy* has two parts:\n",
        "\n",
        "1. **Price Structure**: How prices are delivered -- uniformly or discriminatorily.\n",
        "\n",
        "    > Example: A high price at the beginning of a fashion season and a low price at the end to target consumers based on their price sensitivities or *elasticities*.\n",
        "\n",
        "2. **Price Level**: The price point actually charged.\n"
      ]
    },
    {
      "cell_type": "markdown",
      "metadata": {
        "id": "ujy3lLr-uGlg",
        "colab_type": "text"
      },
      "source": [
        "Just as important as the price level is the price *effect*.  All too often, managers just think of \"stimulating demand\" by lowering the price.  This is too narrow and simplistic -- and dangerous.\n",
        "\n",
        "**Think More Broadly**\n",
        "\n",
        "> *What is the effect of a different price structure and/or level on a key business metric (*KBM*)* such as:\n",
        "> 1. Revenue?\n",
        "> 2. Bid win?\n",
        "> 3. Contribution?\n",
        "> 4. Customer acquisition?\n",
        "> 5. Customer retention?\n",
        "> 6. Market share?\n",
        "\n",
        "This is where *price elasticities* become important."
      ]
    },
    {
      "cell_type": "code",
      "metadata": {
        "id": "DRjj0Z4BuGlh",
        "colab_type": "code",
        "colab": {}
      },
      "source": [
        "slide( '08' )"
      ],
      "execution_count": null,
      "outputs": []
    },
    {
      "cell_type": "markdown",
      "metadata": {
        "id": "DFFB9WL_uGls",
        "colab_type": "text"
      },
      "source": [
        "There are two approaches to developing elasticities:\n",
        "\n",
        "1. Survey-based\n",
        "\n",
        "    1. Conjoint\n",
        "\t2. Discrete choice\n",
        "\t3. Granger-Gabor\n",
        "\t4. van Westendorp Price Sensitivity Meter\n",
        "\n",
        "2. Transactions-based\n",
        "\n",
        "    1. Regression modeling\n",
        "\n",
        "I will illustrate both approaches with:\n",
        "\n",
        "- Conjoint analysis\n",
        "- Transactions regression analysis\n"
      ]
    },
    {
      "cell_type": "markdown",
      "metadata": {
        "id": "X89kV74suGlt",
        "colab_type": "text"
      },
      "source": [
        "## Lesson II: Survey Approach to Pricing\n",
        "\n",
        "[Back to Contents](#Contents)\n",
        "\n",
        "I will illustrate a survey approach to pricing using a Conjoint study.  This is just one of several survey approaches.  Others are:\n",
        "\n",
        "> 1. Discrete Choice\n",
        "> 2. MaxDiff\n",
        "> 3. Granger-Gabor\n",
        "> 4. Von Westendorf Price Sensitivity Meter\n",
        "\n",
        "The Conjoint approach is used to illustrate what can be done using Python."
      ]
    },
    {
      "cell_type": "markdown",
      "metadata": {
        "id": "37DjyuJ6uGlv",
        "colab_type": "text"
      },
      "source": [
        "### The Pricing Problem for Conjoint\n",
        "\n",
        "[Back to Contents](#Contents)\n",
        "\n",
        "A watch manufacturer wants to develop and price a new men's fitness watch.  \tShe can only market one product.  There are four *features*, *factors*, or *attributes*} that define the watch:\n",
        "\n",
        "> - **Price**: \\$149.99, \\$179.99, \\$229.99.\n",
        "> - **Compatibility**: Android, iOS, Windows.\n",
        "> -\t**Measure**: Calories, Distance, Heart Rate.\n",
        "> - **Rain/Splash Proof**: Yes, No.\n",
        "\n",
        "There are 54 possible watches based on these attributes.\n",
        "\n",
        "**Problem**\n",
        "\n",
        "> <font color = red>***What is the best watch to sell and at what price?***</font>\n",
        "\n",
        "A model is needed to answer this question.  This is a conjoint model.  A conjoint model is one member of a family of *choice models*."
      ]
    },
    {
      "cell_type": "markdown",
      "metadata": {
        "id": "EGnAqMnBuGlx",
        "colab_type": "text"
      },
      "source": [
        "### Analysis Steps for Conjoint\n",
        "\n",
        "[Back to Contents](#Contents)\n",
        "\n",
        "1. Identify the product's attributes and their levels.\n",
        "2. Create a design matrix of the attributes and their levels.\n",
        "3. Field the study and collect responses.\n",
        "4. Create a data matrix for estimation and estimate a model.\n",
        "5. Analyze the results:\n",
        "    1. Attribute importances.\n",
        "    2. Elasticities."
      ]
    },
    {
      "cell_type": "markdown",
      "metadata": {
        "id": "9vfK1G-WuGlz",
        "colab_type": "text"
      },
      "source": [
        "### The Setting for Conjoint\n",
        "\n",
        "[Back to Contents](#Contents)\n",
        "\n",
        "> **Factors and levels for a new watch**:\n",
        "\n",
        "- Compatibility: Android, iOS, Windows\n",
        "- Measure: Calories, Distance, Heart Rate\n",
        "- Price: \\\\$149.99, \\\\$179.99, \\\\$229.99 \n",
        "- Rain/Splash Proof: No, Yes\n",
        "\n",
        "> **Total number of combinations**:\n",
        "\n",
        "$Combinations = 3 \\times 3 \\times 3 \\times 2 = 54$\n",
        "\n",
        "> **Parameters needed for this problem**:\n",
        "\n",
        "| Attributes          | Number of Levels | Parameters Needed |\n",
        "|---------------------|------------------|-------------------|\n",
        "| Compatibility       | 3                | 2                 |\n",
        "| Measure             | 3                | 2                 |\n",
        "| Price\t\t          | 3                | 2                 |\n",
        "| Rain/Splash Proof   | 2                | 1                 |\n",
        "| Sub Total           | 11               | 7                 |\n",
        "| Constant            |                  | 1                 |\n",
        "| Minimum Runs Needed |                  | 8                 |\n"
      ]
    },
    {
      "cell_type": "code",
      "metadata": {
        "id": "K3_3lVEYuGl0",
        "colab_type": "code",
        "colab": {
          "base_uri": "https://localhost:8080/",
          "height": 280
        },
        "outputId": "4b584f4a-6388-478b-c1a7-e6c7f9153291"
      },
      "source": [
        "##\n",
        "## Create a design dictionary for future use\n",
        "##\n",
        "att = [ 'Compatibility', 'Measure', 'Price', 'Rain/Splash Proof' ]\n",
        "dt_att = { 'compat':'Compatible', 'measure':'Measure', 'price':'Price', 'rain':'Rain' }\n",
        "dt = {\n",
        "    'compat': { 0:'Android', 1:'iOS', 2:'Windows' },\n",
        "    'measure': { 0:'Calories', 1:'Heart Rate', 2:'Distance' },\n",
        "    'price': { 0:'$149.99', 1:'$179.99', 2:'$229.99' },    \n",
        "    'rain': { 0:'No', 1:'Yes' }\n",
        "    }\n",
        "##\n",
        "## Retrieve number of levels of each attribute\n",
        "##\n",
        "levels = [ len( list( value ) ) for value in dt.values() ]\n",
        "##\n",
        "## Print summary\n",
        "##\n",
        "print( 'Design Summary:\\n' )\n",
        "print( '\\nAttributes:\\n{}'.format( list( dt.keys() ) ) )\n",
        "print( '\\nLevels:\\n{}'.format( levels ) )\n",
        "print( '\\nAttribute mappings:\\n{}'.format( dt_att ) )\n",
        "print( '\\nDictionary of attributes:\\n{}'.format( dt ) )"
      ],
      "execution_count": null,
      "outputs": [
        {
          "output_type": "stream",
          "text": [
            "Design Summary:\n",
            "\n",
            "\n",
            "Attributes:\n",
            "['compat', 'measure', 'price', 'rain']\n",
            "\n",
            "Levels:\n",
            "[3, 3, 3, 2]\n",
            "\n",
            "Attribute mappings:\n",
            "{'compat': 'Compatible', 'measure': 'Measure', 'price': 'Price', 'rain': 'Rain'}\n",
            "\n",
            "Dictionary of attributes:\n",
            "{'compat': {0: 'Android', 1: 'iOS', 2: 'Windows'}, 'measure': {0: 'Calories', 1: 'Heart Rate', 2: 'Distance'}, 'price': {0: '$149.99', 1: '$179.99', 2: '$229.99'}, 'rain': {0: 'No', 1: 'Yes'}}\n"
          ],
          "name": "stdout"
        }
      ]
    },
    {
      "cell_type": "markdown",
      "metadata": {
        "id": "q-L76NE2uGl8",
        "colab_type": "text"
      },
      "source": [
        "### Conjoint Design Matrix Generation\n",
        "\n",
        "[Back to Contents](#Contents)\n",
        "\n",
        "A *design matrix* must be generated.  Use the ***pyDOE2*** package."
      ]
    },
    {
      "cell_type": "code",
      "metadata": {
        "id": "LmBfKDEmuGl9",
        "colab_type": "code",
        "colab": {
          "base_uri": "https://localhost:8080/",
          "height": 34
        },
        "outputId": "f338f319-f1e6-4a2d-d713-3b75cdc7e126"
      },
      "source": [
        "##\n",
        "## Generate the conjoint design with 18 ( = 54/3 ) runs\n",
        "##\n",
        "fraction = 3                             ## One-third fraction\n",
        "design = pyDOE2.gsd( levels, fraction )  ## Reduce the number of experiment to approximately a third.\n",
        "print( 'Design with: ' + str( design.shape[ 0 ] ) + ' rows and ' + str( design.shape[ 1 ] ) + ' columns' )"
      ],
      "execution_count": null,
      "outputs": [
        {
          "output_type": "stream",
          "text": [
            "Design with: 18 rows and 4 columns\n"
          ],
          "name": "stdout"
        }
      ]
    },
    {
      "cell_type": "code",
      "metadata": {
        "scrolled": false,
        "id": "lOSlNlMwuGmA",
        "colab_type": "code",
        "colab": {
          "base_uri": "https://localhost:8080/",
          "height": 169
        },
        "outputId": "3b3364d5-229e-4762-8273-b1c0629ce175"
      },
      "source": [
        "##\n",
        "## Create DataFrame for the design matrix\n",
        "##\n",
        "## ===> Step 1: Create column names using list \n",
        "##              comprehension on the design dictionary\n",
        "##\n",
        "colnames =  [ key for key in dt.keys() ]\n",
        "##\n",
        "## ===> Step 2: Create DataFrame\n",
        "##\n",
        "df_design = pd.DataFrame( design, columns = colnames )\n",
        "df_design.head().style.set_caption( 'Conjoint Matrix' ).\\\n",
        "set_table_styles( tbl_styles ).\\\n",
        "hide_index()"
      ],
      "execution_count": null,
      "outputs": [
        {
          "output_type": "execute_result",
          "data": {
            "text/html": [
              "<style  type=\"text/css\" >\n",
              "    #T_b33d29fe_b171_11ea_9f0a_0242ac1c0002 caption {\n",
              "          color: red;\n",
              "          font-size: 18px;\n",
              "    }</style><table id=\"T_b33d29fe_b171_11ea_9f0a_0242ac1c0002\" ><caption>Conjoint Matrix</caption><thead>    <tr>        <th class=\"col_heading level0 col0\" >compat</th>        <th class=\"col_heading level0 col1\" >measure</th>        <th class=\"col_heading level0 col2\" >price</th>        <th class=\"col_heading level0 col3\" >rain</th>    </tr></thead><tbody>\n",
              "                <tr>\n",
              "                                <td id=\"T_b33d29fe_b171_11ea_9f0a_0242ac1c0002row0_col0\" class=\"data row0 col0\" >0</td>\n",
              "                        <td id=\"T_b33d29fe_b171_11ea_9f0a_0242ac1c0002row0_col1\" class=\"data row0 col1\" >0</td>\n",
              "                        <td id=\"T_b33d29fe_b171_11ea_9f0a_0242ac1c0002row0_col2\" class=\"data row0 col2\" >0</td>\n",
              "                        <td id=\"T_b33d29fe_b171_11ea_9f0a_0242ac1c0002row0_col3\" class=\"data row0 col3\" >0</td>\n",
              "            </tr>\n",
              "            <tr>\n",
              "                                <td id=\"T_b33d29fe_b171_11ea_9f0a_0242ac1c0002row1_col0\" class=\"data row1 col0\" >0</td>\n",
              "                        <td id=\"T_b33d29fe_b171_11ea_9f0a_0242ac1c0002row1_col1\" class=\"data row1 col1\" >0</td>\n",
              "                        <td id=\"T_b33d29fe_b171_11ea_9f0a_0242ac1c0002row1_col2\" class=\"data row1 col2\" >1</td>\n",
              "                        <td id=\"T_b33d29fe_b171_11ea_9f0a_0242ac1c0002row1_col3\" class=\"data row1 col3\" >1</td>\n",
              "            </tr>\n",
              "            <tr>\n",
              "                                <td id=\"T_b33d29fe_b171_11ea_9f0a_0242ac1c0002row2_col0\" class=\"data row2 col0\" >0</td>\n",
              "                        <td id=\"T_b33d29fe_b171_11ea_9f0a_0242ac1c0002row2_col1\" class=\"data row2 col1\" >1</td>\n",
              "                        <td id=\"T_b33d29fe_b171_11ea_9f0a_0242ac1c0002row2_col2\" class=\"data row2 col2\" >0</td>\n",
              "                        <td id=\"T_b33d29fe_b171_11ea_9f0a_0242ac1c0002row2_col3\" class=\"data row2 col3\" >1</td>\n",
              "            </tr>\n",
              "            <tr>\n",
              "                                <td id=\"T_b33d29fe_b171_11ea_9f0a_0242ac1c0002row3_col0\" class=\"data row3 col0\" >0</td>\n",
              "                        <td id=\"T_b33d29fe_b171_11ea_9f0a_0242ac1c0002row3_col1\" class=\"data row3 col1\" >1</td>\n",
              "                        <td id=\"T_b33d29fe_b171_11ea_9f0a_0242ac1c0002row3_col2\" class=\"data row3 col2\" >2</td>\n",
              "                        <td id=\"T_b33d29fe_b171_11ea_9f0a_0242ac1c0002row3_col3\" class=\"data row3 col3\" >0</td>\n",
              "            </tr>\n",
              "            <tr>\n",
              "                                <td id=\"T_b33d29fe_b171_11ea_9f0a_0242ac1c0002row4_col0\" class=\"data row4 col0\" >0</td>\n",
              "                        <td id=\"T_b33d29fe_b171_11ea_9f0a_0242ac1c0002row4_col1\" class=\"data row4 col1\" >2</td>\n",
              "                        <td id=\"T_b33d29fe_b171_11ea_9f0a_0242ac1c0002row4_col2\" class=\"data row4 col2\" >1</td>\n",
              "                        <td id=\"T_b33d29fe_b171_11ea_9f0a_0242ac1c0002row4_col3\" class=\"data row4 col3\" >0</td>\n",
              "            </tr>\n",
              "    </tbody></table>"
            ],
            "text/plain": [
              "<pandas.io.formats.style.Styler at 0x7f5c9aea7978>"
            ]
          },
          "metadata": {
            "tags": []
          },
          "execution_count": 6
        }
      ]
    },
    {
      "cell_type": "markdown",
      "metadata": {
        "id": "VBIckX-9uGmF",
        "colab_type": "text"
      },
      "source": [
        "### Sample Card for Fielding Study\n",
        "\n",
        "[Back to Contents](#Contents)\n",
        "\n",
        "This is what you might show consumers."
      ]
    },
    {
      "cell_type": "code",
      "metadata": {
        "id": "_tQwEgOSuGmG",
        "colab_type": "code",
        "colab": {
          "base_uri": "https://localhost:8080/",
          "height": 169
        },
        "outputId": "470e039f-45f6-4c31-8cb9-7c2c755ed3ac"
      },
      "source": [
        "## \n",
        "## Recode design matrix with labels\n",
        "##\n",
        "n = df_design.shape[ 1 ]  ## number of columns\n",
        "for i in range( n ):\n",
        "    x = colnames[ i ]\n",
        "    df_design[ x ] = df_design[ x ].replace( dt[ x ] )\n",
        "##\n",
        "df_design.head().style.set_caption( 'Recoded Design Matrix' ).\\\n",
        "set_table_styles( tbl_styles ).\\\n",
        "hide_index()"
      ],
      "execution_count": null,
      "outputs": [
        {
          "output_type": "execute_result",
          "data": {
            "text/html": [
              "<style  type=\"text/css\" >\n",
              "    #T_ced4f30e_b171_11ea_9f0a_0242ac1c0002 caption {\n",
              "          color: red;\n",
              "          font-size: 18px;\n",
              "    }</style><table id=\"T_ced4f30e_b171_11ea_9f0a_0242ac1c0002\" ><caption>Recoded Design Matrix</caption><thead>    <tr>        <th class=\"col_heading level0 col0\" >compat</th>        <th class=\"col_heading level0 col1\" >measure</th>        <th class=\"col_heading level0 col2\" >price</th>        <th class=\"col_heading level0 col3\" >rain</th>    </tr></thead><tbody>\n",
              "                <tr>\n",
              "                                <td id=\"T_ced4f30e_b171_11ea_9f0a_0242ac1c0002row0_col0\" class=\"data row0 col0\" >Android</td>\n",
              "                        <td id=\"T_ced4f30e_b171_11ea_9f0a_0242ac1c0002row0_col1\" class=\"data row0 col1\" >Calories</td>\n",
              "                        <td id=\"T_ced4f30e_b171_11ea_9f0a_0242ac1c0002row0_col2\" class=\"data row0 col2\" >$149.99</td>\n",
              "                        <td id=\"T_ced4f30e_b171_11ea_9f0a_0242ac1c0002row0_col3\" class=\"data row0 col3\" >No</td>\n",
              "            </tr>\n",
              "            <tr>\n",
              "                                <td id=\"T_ced4f30e_b171_11ea_9f0a_0242ac1c0002row1_col0\" class=\"data row1 col0\" >Android</td>\n",
              "                        <td id=\"T_ced4f30e_b171_11ea_9f0a_0242ac1c0002row1_col1\" class=\"data row1 col1\" >Calories</td>\n",
              "                        <td id=\"T_ced4f30e_b171_11ea_9f0a_0242ac1c0002row1_col2\" class=\"data row1 col2\" >$179.99</td>\n",
              "                        <td id=\"T_ced4f30e_b171_11ea_9f0a_0242ac1c0002row1_col3\" class=\"data row1 col3\" >Yes</td>\n",
              "            </tr>\n",
              "            <tr>\n",
              "                                <td id=\"T_ced4f30e_b171_11ea_9f0a_0242ac1c0002row2_col0\" class=\"data row2 col0\" >Android</td>\n",
              "                        <td id=\"T_ced4f30e_b171_11ea_9f0a_0242ac1c0002row2_col1\" class=\"data row2 col1\" >Heart Rate</td>\n",
              "                        <td id=\"T_ced4f30e_b171_11ea_9f0a_0242ac1c0002row2_col2\" class=\"data row2 col2\" >$149.99</td>\n",
              "                        <td id=\"T_ced4f30e_b171_11ea_9f0a_0242ac1c0002row2_col3\" class=\"data row2 col3\" >Yes</td>\n",
              "            </tr>\n",
              "            <tr>\n",
              "                                <td id=\"T_ced4f30e_b171_11ea_9f0a_0242ac1c0002row3_col0\" class=\"data row3 col0\" >Android</td>\n",
              "                        <td id=\"T_ced4f30e_b171_11ea_9f0a_0242ac1c0002row3_col1\" class=\"data row3 col1\" >Heart Rate</td>\n",
              "                        <td id=\"T_ced4f30e_b171_11ea_9f0a_0242ac1c0002row3_col2\" class=\"data row3 col2\" >$229.99</td>\n",
              "                        <td id=\"T_ced4f30e_b171_11ea_9f0a_0242ac1c0002row3_col3\" class=\"data row3 col3\" >No</td>\n",
              "            </tr>\n",
              "            <tr>\n",
              "                                <td id=\"T_ced4f30e_b171_11ea_9f0a_0242ac1c0002row4_col0\" class=\"data row4 col0\" >Android</td>\n",
              "                        <td id=\"T_ced4f30e_b171_11ea_9f0a_0242ac1c0002row4_col1\" class=\"data row4 col1\" >Distance</td>\n",
              "                        <td id=\"T_ced4f30e_b171_11ea_9f0a_0242ac1c0002row4_col2\" class=\"data row4 col2\" >$179.99</td>\n",
              "                        <td id=\"T_ced4f30e_b171_11ea_9f0a_0242ac1c0002row4_col3\" class=\"data row4 col3\" >No</td>\n",
              "            </tr>\n",
              "    </tbody></table>"
            ],
            "text/plain": [
              "<pandas.io.formats.style.Styler at 0x7f5c9a95dcc0>"
            ]
          },
          "metadata": {
            "tags": []
          },
          "execution_count": 7
        }
      ]
    },
    {
      "cell_type": "code",
      "metadata": {
        "id": "0-3JTSnLuGmM",
        "colab_type": "code",
        "colab": {
          "base_uri": "https://localhost:8080/",
          "height": 294
        },
        "outputId": "1dc9e95b-9277-4349-8c13-0b479cab4b5f"
      },
      "source": [
        "##\n",
        "## Sample card shown to a consumer\n",
        "##\n",
        "lst = df_design.query( 'index == 0' ).values.tolist()[ 0 ]\n",
        "n = len( lst )\n",
        "msg = (\"On a scale from 0 to 10, where '0' means you definitely will not buy this watch and '10' means{sep}\"\n",
        "       \"you definitely will buy it, you may use any number between 0 and 10, please indicate your{sep}\"\n",
        "       \"likelihood of buying the following watch.\").format( sep = '\\n' ) \n",
        "print( '-'*95 )\n",
        "print( msg )\n",
        "for i in range( n ):\n",
        "    print( '\\n\\t' + att[ i ] + ': {}'.format( lst[ i ] ) )\n",
        "print( '-'*95 )\n",
        "print( '\\t0\\t1\\t2\\t3\\t4\\t5\\t6\\t7\\t8\\t9\\t10')\n",
        "print( '-'*95 )\n",
        "print( \"   Will Not Buy\\t\\t\\t\\t\\t\\t\\t\\t\\t     Will Buy\" )"
      ],
      "execution_count": null,
      "outputs": [
        {
          "output_type": "stream",
          "text": [
            "-----------------------------------------------------------------------------------------------\n",
            "On a scale from 0 to 10, where '0' means you definitely will not buy this watch and '10' means\n",
            "you definitely will buy it, you may use any number between 0 and 10, please indicate your\n",
            "likelihood of buying the following watch.\n",
            "\n",
            "\tCompatibility: Android\n",
            "\n",
            "\tMeasure: Calories\n",
            "\n",
            "\tPrice: $149.99\n",
            "\n",
            "\tRain/Splash Proof: No\n",
            "-----------------------------------------------------------------------------------------------\n",
            "\t0\t1\t2\t3\t4\t5\t6\t7\t8\t9\t10\n",
            "-----------------------------------------------------------------------------------------------\n",
            "   Will Not Buy\t\t\t\t\t\t\t\t\t     Will Buy\n"
          ],
          "name": "stdout"
        }
      ]
    },
    {
      "cell_type": "markdown",
      "metadata": {
        "id": "ED2oBvVHuGmT",
        "colab_type": "text"
      },
      "source": [
        "### Import the Responses\n",
        "\n",
        "[Back to Contents](#Contents)\n",
        "\n",
        "The collected data are in a *CSV* file.  An *SPSS* file is also possible, especially if an online survey tool is used.  For my example, the data are in a *CSV* file."
      ]
    },
    {
      "cell_type": "code",
      "metadata": {
        "id": "3lkyiuDfuGmU",
        "colab_type": "code",
        "colab": {
          "base_uri": "https://localhost:8080/",
          "height": 214
        },
        "outputId": "3e3e6682-5e1d-4592-fec1-545adfee6873"
      },
      "source": [
        "##\n",
        "## Import responses from CSV file\n",
        "##\n",
        "df_responses = pd.read_csv( '/content/responses.csv' )\n",
        "df_responses.head( ).style.set_caption( 'Responses with ID and Set Indicators' ).\\\n",
        "format( { 'response':'{:.0f}' } ).\\\n",
        "set_table_styles( tbl_styles ).\\\n",
        "hide_index()"
      ],
      "execution_count": null,
      "outputs": [
        {
          "output_type": "execute_result",
          "data": {
            "text/html": [
              "<style  type=\"text/css\" >\n",
              "    #T_2d2e33fc_b172_11ea_9f0a_0242ac1c0002 caption {\n",
              "          color: red;\n",
              "          font-size: 18px;\n",
              "    }</style><table id=\"T_2d2e33fc_b172_11ea_9f0a_0242ac1c0002\" ><caption>Responses with ID and Set Indicators</caption><thead>    <tr>        <th class=\"col_heading level0 col0\" >ID</th>        <th class=\"col_heading level0 col1\" >set</th>        <th class=\"col_heading level0 col2\" >response</th>    </tr></thead><tbody>\n",
              "                <tr>\n",
              "                                <td id=\"T_2d2e33fc_b172_11ea_9f0a_0242ac1c0002row0_col0\" class=\"data row0 col0\" >1</td>\n",
              "                        <td id=\"T_2d2e33fc_b172_11ea_9f0a_0242ac1c0002row0_col1\" class=\"data row0 col1\" >1</td>\n",
              "                        <td id=\"T_2d2e33fc_b172_11ea_9f0a_0242ac1c0002row0_col2\" class=\"data row0 col2\" >6</td>\n",
              "            </tr>\n",
              "            <tr>\n",
              "                                <td id=\"T_2d2e33fc_b172_11ea_9f0a_0242ac1c0002row1_col0\" class=\"data row1 col0\" >1</td>\n",
              "                        <td id=\"T_2d2e33fc_b172_11ea_9f0a_0242ac1c0002row1_col1\" class=\"data row1 col1\" >2</td>\n",
              "                        <td id=\"T_2d2e33fc_b172_11ea_9f0a_0242ac1c0002row1_col2\" class=\"data row1 col2\" >6</td>\n",
              "            </tr>\n",
              "            <tr>\n",
              "                                <td id=\"T_2d2e33fc_b172_11ea_9f0a_0242ac1c0002row2_col0\" class=\"data row2 col0\" >1</td>\n",
              "                        <td id=\"T_2d2e33fc_b172_11ea_9f0a_0242ac1c0002row2_col1\" class=\"data row2 col1\" >3</td>\n",
              "                        <td id=\"T_2d2e33fc_b172_11ea_9f0a_0242ac1c0002row2_col2\" class=\"data row2 col2\" >6</td>\n",
              "            </tr>\n",
              "            <tr>\n",
              "                                <td id=\"T_2d2e33fc_b172_11ea_9f0a_0242ac1c0002row3_col0\" class=\"data row3 col0\" >1</td>\n",
              "                        <td id=\"T_2d2e33fc_b172_11ea_9f0a_0242ac1c0002row3_col1\" class=\"data row3 col1\" >4</td>\n",
              "                        <td id=\"T_2d2e33fc_b172_11ea_9f0a_0242ac1c0002row3_col2\" class=\"data row3 col2\" >4</td>\n",
              "            </tr>\n",
              "            <tr>\n",
              "                                <td id=\"T_2d2e33fc_b172_11ea_9f0a_0242ac1c0002row4_col0\" class=\"data row4 col0\" >1</td>\n",
              "                        <td id=\"T_2d2e33fc_b172_11ea_9f0a_0242ac1c0002row4_col1\" class=\"data row4 col1\" >5</td>\n",
              "                        <td id=\"T_2d2e33fc_b172_11ea_9f0a_0242ac1c0002row4_col2\" class=\"data row4 col2\" >6</td>\n",
              "            </tr>\n",
              "    </tbody></table>"
            ],
            "text/plain": [
              "<pandas.io.formats.style.Styler at 0x7f5c9a95d9e8>"
            ]
          },
          "metadata": {
            "tags": []
          },
          "execution_count": 9
        }
      ]
    },
    {
      "cell_type": "code",
      "metadata": {
        "id": "dMGqpgFfuGma",
        "colab_type": "code",
        "colab": {
          "base_uri": "https://localhost:8080/",
          "height": 86
        },
        "outputId": "8254c60a-ab03-4470-b523-3959e381405d"
      },
      "source": [
        "##\n",
        "## Check response DataFrame counts\n",
        "##\n",
        "print( 'Number of rows: {rows}\\nNumber of columns: {cols}'.format( \n",
        "        rows = df_responses.shape[ 0 ], cols = df_responses.shape[ 1 ] ) )\n",
        "##\n",
        "## Record the number of respondents\n",
        "##\n",
        "n_respondents = df_responses.ID.nunique()\n",
        "print( '\\nNumber of unique respondents: {}'.format( n_respondents ) )"
      ],
      "execution_count": null,
      "outputs": [
        {
          "output_type": "stream",
          "text": [
            "Number of rows: 6930\n",
            "Number of columns: 3\n",
            "\n",
            "Number of unique respondents: 385\n"
          ],
          "name": "stdout"
        }
      ]
    },
    {
      "cell_type": "markdown",
      "metadata": {
        "id": "mK3HWE_VuGme",
        "colab_type": "text"
      },
      "source": [
        "### Concatenate the Design Matrix and Responses\n",
        "\n",
        "[Back to Contents](#Contents)\n",
        "\n",
        "The design matrix and the responses have to be joined or merged."
      ]
    },
    {
      "cell_type": "code",
      "metadata": {
        "id": "H9V8dgBnuGmf",
        "colab_type": "code",
        "colab": {
          "base_uri": "https://localhost:8080/",
          "height": 169
        },
        "outputId": "d86680c5-f833-419b-9e3b-b4f7ad833a23"
      },
      "source": [
        "##\n",
        "## Replicate the design matrix to match the number of respondents\n",
        "##\n",
        "n_respondents = df_responses.ID.nunique()\n",
        "for i in range( n_respondents ):\n",
        "    if i == 0:\n",
        "        tmp = df_design\n",
        "    else:\n",
        "        tmp = pd.concat( [ tmp, df_design], ignore_index = True ) \n",
        "##\n",
        "## Attach ID and Set Number to the replicated design matrix\n",
        "##\n",
        "## Set some parameters\n",
        "##\n",
        "n = n_respondents + 1\n",
        "runs = df_design.shape[ 0 ]\n",
        "##\n",
        "tmp[ 'ID' ] = [ x for x in range( 1, n ) for i in range( runs ) ] \n",
        "tmp[ 'set' ] = [item for x in [ range( 1, runs + 1 ) for  i in range( 1, n ) ] for item in x ]\n",
        "##\n",
        "## Remove dollar sign from price and set type to float\n",
        "##\n",
        "tmp.price = tmp.price.str.replace( '$', '' ).astype( float )\n",
        "##\n",
        "## Merge the design and response DataFrames on ID and Set\n",
        "##\n",
        "df_conjoint =  pd.merge( df_responses, tmp, on = [ 'ID', 'set' ] )\n",
        "df_conjoint.head().style.set_caption( 'Merged Conjoint DataFrame' ).\\\n",
        "format( { 'response':'{:.0f}', 'price':'{:.2f}' } ).\\\n",
        "set_table_styles( tbl_styles ).\\\n",
        "hide_index()"
      ],
      "execution_count": null,
      "outputs": [
        {
          "output_type": "execute_result",
          "data": {
            "text/html": [
              "<style  type=\"text/css\" >\n",
              "    #T_37a236c6_b172_11ea_9f0a_0242ac1c0002 caption {\n",
              "          color: red;\n",
              "          font-size: 18px;\n",
              "    }</style><table id=\"T_37a236c6_b172_11ea_9f0a_0242ac1c0002\" ><caption>Merged Conjoint DataFrame</caption><thead>    <tr>        <th class=\"col_heading level0 col0\" >ID</th>        <th class=\"col_heading level0 col1\" >set</th>        <th class=\"col_heading level0 col2\" >response</th>        <th class=\"col_heading level0 col3\" >compat</th>        <th class=\"col_heading level0 col4\" >measure</th>        <th class=\"col_heading level0 col5\" >price</th>        <th class=\"col_heading level0 col6\" >rain</th>    </tr></thead><tbody>\n",
              "                <tr>\n",
              "                                <td id=\"T_37a236c6_b172_11ea_9f0a_0242ac1c0002row0_col0\" class=\"data row0 col0\" >1</td>\n",
              "                        <td id=\"T_37a236c6_b172_11ea_9f0a_0242ac1c0002row0_col1\" class=\"data row0 col1\" >1</td>\n",
              "                        <td id=\"T_37a236c6_b172_11ea_9f0a_0242ac1c0002row0_col2\" class=\"data row0 col2\" >6</td>\n",
              "                        <td id=\"T_37a236c6_b172_11ea_9f0a_0242ac1c0002row0_col3\" class=\"data row0 col3\" >Android</td>\n",
              "                        <td id=\"T_37a236c6_b172_11ea_9f0a_0242ac1c0002row0_col4\" class=\"data row0 col4\" >Calories</td>\n",
              "                        <td id=\"T_37a236c6_b172_11ea_9f0a_0242ac1c0002row0_col5\" class=\"data row0 col5\" >149.99</td>\n",
              "                        <td id=\"T_37a236c6_b172_11ea_9f0a_0242ac1c0002row0_col6\" class=\"data row0 col6\" >No</td>\n",
              "            </tr>\n",
              "            <tr>\n",
              "                                <td id=\"T_37a236c6_b172_11ea_9f0a_0242ac1c0002row1_col0\" class=\"data row1 col0\" >1</td>\n",
              "                        <td id=\"T_37a236c6_b172_11ea_9f0a_0242ac1c0002row1_col1\" class=\"data row1 col1\" >2</td>\n",
              "                        <td id=\"T_37a236c6_b172_11ea_9f0a_0242ac1c0002row1_col2\" class=\"data row1 col2\" >6</td>\n",
              "                        <td id=\"T_37a236c6_b172_11ea_9f0a_0242ac1c0002row1_col3\" class=\"data row1 col3\" >Android</td>\n",
              "                        <td id=\"T_37a236c6_b172_11ea_9f0a_0242ac1c0002row1_col4\" class=\"data row1 col4\" >Calories</td>\n",
              "                        <td id=\"T_37a236c6_b172_11ea_9f0a_0242ac1c0002row1_col5\" class=\"data row1 col5\" >179.99</td>\n",
              "                        <td id=\"T_37a236c6_b172_11ea_9f0a_0242ac1c0002row1_col6\" class=\"data row1 col6\" >Yes</td>\n",
              "            </tr>\n",
              "            <tr>\n",
              "                                <td id=\"T_37a236c6_b172_11ea_9f0a_0242ac1c0002row2_col0\" class=\"data row2 col0\" >1</td>\n",
              "                        <td id=\"T_37a236c6_b172_11ea_9f0a_0242ac1c0002row2_col1\" class=\"data row2 col1\" >3</td>\n",
              "                        <td id=\"T_37a236c6_b172_11ea_9f0a_0242ac1c0002row2_col2\" class=\"data row2 col2\" >6</td>\n",
              "                        <td id=\"T_37a236c6_b172_11ea_9f0a_0242ac1c0002row2_col3\" class=\"data row2 col3\" >Android</td>\n",
              "                        <td id=\"T_37a236c6_b172_11ea_9f0a_0242ac1c0002row2_col4\" class=\"data row2 col4\" >Heart Rate</td>\n",
              "                        <td id=\"T_37a236c6_b172_11ea_9f0a_0242ac1c0002row2_col5\" class=\"data row2 col5\" >149.99</td>\n",
              "                        <td id=\"T_37a236c6_b172_11ea_9f0a_0242ac1c0002row2_col6\" class=\"data row2 col6\" >Yes</td>\n",
              "            </tr>\n",
              "            <tr>\n",
              "                                <td id=\"T_37a236c6_b172_11ea_9f0a_0242ac1c0002row3_col0\" class=\"data row3 col0\" >1</td>\n",
              "                        <td id=\"T_37a236c6_b172_11ea_9f0a_0242ac1c0002row3_col1\" class=\"data row3 col1\" >4</td>\n",
              "                        <td id=\"T_37a236c6_b172_11ea_9f0a_0242ac1c0002row3_col2\" class=\"data row3 col2\" >4</td>\n",
              "                        <td id=\"T_37a236c6_b172_11ea_9f0a_0242ac1c0002row3_col3\" class=\"data row3 col3\" >Android</td>\n",
              "                        <td id=\"T_37a236c6_b172_11ea_9f0a_0242ac1c0002row3_col4\" class=\"data row3 col4\" >Heart Rate</td>\n",
              "                        <td id=\"T_37a236c6_b172_11ea_9f0a_0242ac1c0002row3_col5\" class=\"data row3 col5\" >229.99</td>\n",
              "                        <td id=\"T_37a236c6_b172_11ea_9f0a_0242ac1c0002row3_col6\" class=\"data row3 col6\" >No</td>\n",
              "            </tr>\n",
              "            <tr>\n",
              "                                <td id=\"T_37a236c6_b172_11ea_9f0a_0242ac1c0002row4_col0\" class=\"data row4 col0\" >1</td>\n",
              "                        <td id=\"T_37a236c6_b172_11ea_9f0a_0242ac1c0002row4_col1\" class=\"data row4 col1\" >5</td>\n",
              "                        <td id=\"T_37a236c6_b172_11ea_9f0a_0242ac1c0002row4_col2\" class=\"data row4 col2\" >6</td>\n",
              "                        <td id=\"T_37a236c6_b172_11ea_9f0a_0242ac1c0002row4_col3\" class=\"data row4 col3\" >Android</td>\n",
              "                        <td id=\"T_37a236c6_b172_11ea_9f0a_0242ac1c0002row4_col4\" class=\"data row4 col4\" >Distance</td>\n",
              "                        <td id=\"T_37a236c6_b172_11ea_9f0a_0242ac1c0002row4_col5\" class=\"data row4 col5\" >179.99</td>\n",
              "                        <td id=\"T_37a236c6_b172_11ea_9f0a_0242ac1c0002row4_col6\" class=\"data row4 col6\" >No</td>\n",
              "            </tr>\n",
              "    </tbody></table>"
            ],
            "text/plain": [
              "<pandas.io.formats.style.Styler at 0x7f5c99e3fe80>"
            ]
          },
          "metadata": {
            "tags": []
          },
          "execution_count": 11
        }
      ]
    },
    {
      "cell_type": "markdown",
      "metadata": {
        "id": "W3E1MVq5uGmi",
        "colab_type": "text"
      },
      "source": [
        "### Estimate Part-worth Utilities\n",
        "\n",
        "[Back to Contents](#Contents)\n",
        "\n",
        "\n",
        "The model is for the total preference or *total utility* for combinations of attributes of a product concept.  Total utility is composed of pieces called *part-worths*, each part-worth measuring the contribution of each attribute's level.\t\n",
        "\n",
        "The goal is to estimate these part-worth utilities enabling the calculation of total utility for each of the 54 watches.\n",
        "\n",
        "Ordinary least squares (*OLS*) regression can be used for estimation."
      ]
    },
    {
      "cell_type": "code",
      "metadata": {
        "scrolled": false,
        "id": "FprdNoSZuGmi",
        "colab_type": "code",
        "colab": {
          "base_uri": "https://localhost:8080/",
          "height": 537
        },
        "outputId": "d03e2ea2-33e5-4ccc-a09f-d03bf7947a46"
      },
      "source": [
        "##\n",
        "## Follow four steps to estimate a model\n",
        "##\n",
        "## ===> Step 1: Specify the model formula <===\n",
        "##\n",
        "## The Sum() function results in an effects coding \n",
        "## for the categorical variable\n",
        "##\n",
        "formula = \"np.log( response ) ~ np.log(price) + \\\n",
        "C(compat, Sum( 'Windows' ) ) + \\\n",
        "C(measure, Sum( 'Heart Rate' ) ) + \\\n",
        "C(rain, Sum( 'No' ) )\"\n",
        "##\n",
        "## ===> Step 2: Instantiate the model <===\n",
        "##\n",
        "mod = smf.ols( formula, data = df_conjoint )\n",
        "##\n",
        "## ===> Step 3: Fit the model <===\n",
        "##\n",
        "reg01 = mod.fit()\n",
        "##\n",
        "## ===> Step 4: Summarize the model <===\n",
        "##\n",
        "print(reg01.summary())"
      ],
      "execution_count": null,
      "outputs": [
        {
          "output_type": "stream",
          "text": [
            "                            OLS Regression Results                            \n",
            "==============================================================================\n",
            "Dep. Variable:       np.log(response)   R-squared:                       0.671\n",
            "Model:                            OLS   Adj. R-squared:                  0.670\n",
            "Method:                 Least Squares   F-statistic:                     2350.\n",
            "Date:                Thu, 18 Jun 2020   Prob (F-statistic):               0.00\n",
            "Time:                        14:51:31   Log-Likelihood:                 483.67\n",
            "No. Observations:                6930   AIC:                            -953.3\n",
            "Df Residuals:                    6923   BIC:                            -905.4\n",
            "Df Model:                           6                                         \n",
            "Covariance Type:            nonrobust                                         \n",
            "=============================================================================================================\n",
            "                                                coef    std err          t      P>|t|      [0.025      0.975]\n",
            "-------------------------------------------------------------------------------------------------------------\n",
            "Intercept                                     8.5961      0.081    106.409      0.000       8.438       8.754\n",
            "C(compat, Sum('Windows'))[S.Android]         -0.0422      0.004    -10.992      0.000      -0.050      -0.035\n",
            "C(compat, Sum('Windows'))[S.iOS]             -0.0826      0.004    -21.536      0.000      -0.090      -0.075\n",
            "C(measure, Sum('Heart Rate'))[S.Calories]    -0.1976      0.004    -51.520      0.000      -0.205      -0.190\n",
            "C(measure, Sum('Heart Rate'))[S.Distance]     0.2496      0.004     65.066      0.000       0.242       0.257\n",
            "C(rain, Sum('No'))[S.Yes]                     0.0808      0.003     29.809      0.000       0.076       0.086\n",
            "np.log(price)                                -1.3320      0.015    -86.018      0.000      -1.362      -1.302\n",
            "==============================================================================\n",
            "Omnibus:                     1694.209   Durbin-Watson:                   2.036\n",
            "Prob(Omnibus):                  0.000   Jarque-Bera (JB):             5509.641\n",
            "Skew:                          -1.230   Prob(JB):                         0.00\n",
            "Kurtosis:                       6.609   Cond. No.                         161.\n",
            "==============================================================================\n",
            "\n",
            "Warnings:\n",
            "[1] Standard Errors assume that the covariance matrix of the errors is correctly specified.\n"
          ],
          "name": "stdout"
        }
      ]
    },
    {
      "cell_type": "markdown",
      "metadata": {
        "id": "1Gypz2rfuGmp",
        "colab_type": "text"
      },
      "source": [
        "**Code Explanation**\n",
        "\n",
        "The *formula* step uses the \"C\" function to indicate that the categorical variable, *compat*, must be encoded.  The *Sum( 'Windows' )*  argument says to use *effects coding* so that the sum of the estimated coefficients for *compat* levels add to zero (including the omitted level).  The omitted level is the base which is specified as *Windows*.\n",
        "<br><br>\n",
        "The Numpy *log* function is used to take the (natural) log of price.\n",
        "\n",
        "**Interpretation**\n",
        "\n",
        "The estimated coefficient for the log-Price is the price elasticity.  This will used below."
      ]
    },
    {
      "cell_type": "code",
      "metadata": {
        "id": "zqvUnZ44uGmp",
        "colab_type": "code",
        "colab": {
          "base_uri": "https://localhost:8080/",
          "height": 190
        },
        "outputId": "af42aca8-7c78-494c-86aa-3d6305b997fa"
      },
      "source": [
        "##\n",
        "## Retrieve the part-worths\n",
        "##\n",
        "x = reg01.params[ 1:7 ]\n",
        "part_worths = [ x[ i ] for i in range( len( x ) ) ]\n",
        "##\n",
        "## Put into a DataFrame with labels\n",
        "##\n",
        "df_pw = pd.DataFrame( part_worths, columns = [ 'Part-Worth' ], index = x.index )\n",
        "df_pw.style.set_caption( 'Estimated Part-Worths' ).\\\n",
        "set_table_styles( tbl_styles ).\\\n",
        "format( '{:.4f}' )"
      ],
      "execution_count": null,
      "outputs": [
        {
          "output_type": "execute_result",
          "data": {
            "text/html": [
              "<style  type=\"text/css\" >\n",
              "    #T_89447916_b173_11ea_9f0a_0242ac1c0002 caption {\n",
              "          color: red;\n",
              "          font-size: 18px;\n",
              "    }</style><table id=\"T_89447916_b173_11ea_9f0a_0242ac1c0002\" ><caption>Estimated Part-Worths</caption><thead>    <tr>        <th class=\"blank level0\" ></th>        <th class=\"col_heading level0 col0\" >Part-Worth</th>    </tr></thead><tbody>\n",
              "                <tr>\n",
              "                        <th id=\"T_89447916_b173_11ea_9f0a_0242ac1c0002level0_row0\" class=\"row_heading level0 row0\" >C(compat, Sum('Windows'))[S.Android]</th>\n",
              "                        <td id=\"T_89447916_b173_11ea_9f0a_0242ac1c0002row0_col0\" class=\"data row0 col0\" >-0.0422</td>\n",
              "            </tr>\n",
              "            <tr>\n",
              "                        <th id=\"T_89447916_b173_11ea_9f0a_0242ac1c0002level0_row1\" class=\"row_heading level0 row1\" >C(compat, Sum('Windows'))[S.iOS]</th>\n",
              "                        <td id=\"T_89447916_b173_11ea_9f0a_0242ac1c0002row1_col0\" class=\"data row1 col0\" >-0.0826</td>\n",
              "            </tr>\n",
              "            <tr>\n",
              "                        <th id=\"T_89447916_b173_11ea_9f0a_0242ac1c0002level0_row2\" class=\"row_heading level0 row2\" >C(measure, Sum('Heart Rate'))[S.Calories]</th>\n",
              "                        <td id=\"T_89447916_b173_11ea_9f0a_0242ac1c0002row2_col0\" class=\"data row2 col0\" >-0.1976</td>\n",
              "            </tr>\n",
              "            <tr>\n",
              "                        <th id=\"T_89447916_b173_11ea_9f0a_0242ac1c0002level0_row3\" class=\"row_heading level0 row3\" >C(measure, Sum('Heart Rate'))[S.Distance]</th>\n",
              "                        <td id=\"T_89447916_b173_11ea_9f0a_0242ac1c0002row3_col0\" class=\"data row3 col0\" >0.2496</td>\n",
              "            </tr>\n",
              "            <tr>\n",
              "                        <th id=\"T_89447916_b173_11ea_9f0a_0242ac1c0002level0_row4\" class=\"row_heading level0 row4\" >C(rain, Sum('No'))[S.Yes]</th>\n",
              "                        <td id=\"T_89447916_b173_11ea_9f0a_0242ac1c0002row4_col0\" class=\"data row4 col0\" >0.0808</td>\n",
              "            </tr>\n",
              "            <tr>\n",
              "                        <th id=\"T_89447916_b173_11ea_9f0a_0242ac1c0002level0_row5\" class=\"row_heading level0 row5\" >np.log(price)</th>\n",
              "                        <td id=\"T_89447916_b173_11ea_9f0a_0242ac1c0002row5_col0\" class=\"data row5 col0\" >-1.3320</td>\n",
              "            </tr>\n",
              "    </tbody></table>"
            ],
            "text/plain": [
              "<pandas.io.formats.style.Styler at 0x7f5c99de3fd0>"
            ]
          },
          "metadata": {
            "tags": []
          },
          "execution_count": 13
        }
      ]
    },
    {
      "cell_type": "markdown",
      "metadata": {
        "id": "bqbm_mx_uGmt",
        "colab_type": "text"
      },
      "source": [
        "## Calculate Attribute Importances\n",
        "\n",
        "[Back to Contents](#Contents)\n",
        "\n",
        "Calculate attribute importances.  The importance of an attribute is the range of the attribute divided by the total range of all attributes."
      ]
    },
    {
      "cell_type": "code",
      "metadata": {
        "scrolled": false,
        "id": "2T9Vhon2uGmu",
        "colab_type": "code",
        "colab": {
          "base_uri": "https://localhost:8080/",
          "height": 169
        },
        "outputId": "e815f6c9-695f-4549-d112-30842a7a5923"
      },
      "source": [
        "##\n",
        "## Retrieve and clean part-worth index for attributes\n",
        "##\n",
        "lst_att = [ i.split( 'C(' )[ 1 ].split( ',' )[ 0 ] for i in df_pw.index[ 0:-1 ] ]\n",
        "lst_level = [ i.split( 'S.' )[ 1 ].split( ']' )[ 0 ] for i in df_pw.index[ 0:-1 ] ]\n",
        "lst_att.append( 'Price' )\n",
        "lst_level.append( 'log_Price' )\n",
        "##\n",
        "## Add attribute list to part-wroth DataFrame\n",
        "##\n",
        "df_pw[ 'att' ] = lst_att\n",
        "df_pw[ 'level' ] = lst_level\n",
        "##\n",
        "## Calculate dropped values\n",
        "##\n",
        "grp = pd.DataFrame( df_pw.groupby( 'att' )[ 'Part-Worth' ].sum()*( -1 ) )\n",
        "grp.reset_index( inplace = True )\n",
        "##\n",
        "## Add dropped levels to base\n",
        "##\n",
        "data = pd.concat( [ df_pw, grp ], axis = 0, sort = False, ignore_index = True )\n",
        "data.replace( { 'att':dt_att }, inplace = True )\n",
        "data.sort_values( by = [ 'att', 'level' ], inplace = True )\n",
        "##\n",
        "## Calculate importances\n",
        "##\n",
        "grp = data.groupby( 'att' ).apply( lambda x: x[ 'Part-Worth' ].max() - x[ 'Part-Worth' ].min() )\n",
        "df_importances = pd.DataFrame( grp/grp.sum(), columns = [ 'Importance' ] )\n",
        "df_importances.rename_axis( 'Attribute', inplace = True )\n",
        "df_importances.sort_values( by = [ 'Importance' ], ascending = False, inplace = True )\n",
        "##\n",
        "df_importances.style.set_caption( 'Attribute Importances' ).\\\n",
        "set_table_styles( tbl_styles ).\\\n",
        "bar( align = 'mid' ).format( '{:.1%}' )"
      ],
      "execution_count": null,
      "outputs": [
        {
          "output_type": "execute_result",
          "data": {
            "text/html": [
              "<style  type=\"text/css\" >\n",
              "    #T_b28fe10c_b173_11ea_9f0a_0242ac1c0002 caption {\n",
              "          color: red;\n",
              "          font-size: 18px;\n",
              "    }    #T_b28fe10c_b173_11ea_9f0a_0242ac1c0002row0_col0 {\n",
              "            width:  10em;\n",
              "             height:  80%;\n",
              "            background:  linear-gradient(90deg,#d65f5f 100.0%, transparent 100.0%);\n",
              "        }    #T_b28fe10c_b173_11ea_9f0a_0242ac1c0002row1_col0 {\n",
              "            width:  10em;\n",
              "             height:  80%;\n",
              "            background:  linear-gradient(90deg,#d65f5f 16.8%, transparent 16.8%);\n",
              "        }    #T_b28fe10c_b173_11ea_9f0a_0242ac1c0002row2_col0 {\n",
              "            width:  10em;\n",
              "             height:  80%;\n",
              "            background:  linear-gradient(90deg,#d65f5f 7.8%, transparent 7.8%);\n",
              "        }    #T_b28fe10c_b173_11ea_9f0a_0242ac1c0002row3_col0 {\n",
              "            width:  10em;\n",
              "             height:  80%;\n",
              "            background:  linear-gradient(90deg,#d65f5f 6.1%, transparent 6.1%);\n",
              "        }</style><table id=\"T_b28fe10c_b173_11ea_9f0a_0242ac1c0002\" ><caption>Attribute Importances</caption><thead>    <tr>        <th class=\"blank level0\" ></th>        <th class=\"col_heading level0 col0\" >Importance</th>    </tr>    <tr>        <th class=\"index_name level0\" >Attribute</th>        <th class=\"blank\" ></th>    </tr></thead><tbody>\n",
              "                <tr>\n",
              "                        <th id=\"T_b28fe10c_b173_11ea_9f0a_0242ac1c0002level0_row0\" class=\"row_heading level0 row0\" >Price</th>\n",
              "                        <td id=\"T_b28fe10c_b173_11ea_9f0a_0242ac1c0002row0_col0\" class=\"data row0 col0\" >76.5%</td>\n",
              "            </tr>\n",
              "            <tr>\n",
              "                        <th id=\"T_b28fe10c_b173_11ea_9f0a_0242ac1c0002level0_row1\" class=\"row_heading level0 row1\" >Measure</th>\n",
              "                        <td id=\"T_b28fe10c_b173_11ea_9f0a_0242ac1c0002row1_col0\" class=\"data row1 col0\" >12.8%</td>\n",
              "            </tr>\n",
              "            <tr>\n",
              "                        <th id=\"T_b28fe10c_b173_11ea_9f0a_0242ac1c0002level0_row2\" class=\"row_heading level0 row2\" >Compatible</th>\n",
              "                        <td id=\"T_b28fe10c_b173_11ea_9f0a_0242ac1c0002row2_col0\" class=\"data row2 col0\" >6.0%</td>\n",
              "            </tr>\n",
              "            <tr>\n",
              "                        <th id=\"T_b28fe10c_b173_11ea_9f0a_0242ac1c0002level0_row3\" class=\"row_heading level0 row3\" >Rain</th>\n",
              "                        <td id=\"T_b28fe10c_b173_11ea_9f0a_0242ac1c0002row3_col0\" class=\"data row3 col0\" >4.6%</td>\n",
              "            </tr>\n",
              "    </tbody></table>"
            ],
            "text/plain": [
              "<pandas.io.formats.style.Styler at 0x7f5c99e09710>"
            ]
          },
          "metadata": {
            "tags": []
          },
          "execution_count": 14
        }
      ]
    },
    {
      "cell_type": "markdown",
      "metadata": {
        "id": "9p6pqpRAuGmy",
        "colab_type": "text"
      },
      "source": [
        "**Code Explanation**\n",
        "\n",
        "The base level of each attributed can be retrieved as the negative of the sum of the etsimated coefficients for an attribute.  This is an advantage of effects coding.\n",
        "\n",
        "**Interpretation**\n",
        "\n",
        "Price is the most important attribute for the watches."
      ]
    },
    {
      "cell_type": "markdown",
      "metadata": {
        "id": "KnY6nI06uGmy",
        "colab_type": "text"
      },
      "source": [
        "## Calculate the Price Elasticities\n",
        "\n",
        "[Back to Contents](#Contents)\n",
        "\n",
        "There are two elasticities: price and revenue.  The revenue elasticity equals $1 + \\eta$ where $\\eta$ is the price elasticity."
      ]
    },
    {
      "cell_type": "code",
      "metadata": {
        "scrolled": false,
        "id": "ZwFP2E9muGmz",
        "colab_type": "code",
        "colab": {
          "base_uri": "https://localhost:8080/",
          "height": 105
        },
        "outputId": "9c483eee-3f8d-49b9-b56c-f93c32f6356e"
      },
      "source": [
        "##\n",
        "## Retrieve estimated price parameter\n",
        "##\n",
        "eta = df_pw.query( 'att == \"Price\"' )[ 'Part-Worth' ][ 0 ]\n",
        "##\n",
        "## The revenue elasticity is 1 + price elasticity\n",
        "##\n",
        "eta_rev = 1 + eta\n",
        "##\n",
        "## Put in DataFrame for display\n",
        "##\n",
        "df_elas = pd.DataFrame( [ eta, eta_rev ], columns = [ 'Elasticities'], \n",
        "    index = [ 'Price Elasticity', 'Revenue Elasticity' ] )\n",
        "df_elas.style.set_caption( 'Elasticity Summary').\\\n",
        "set_table_styles( tbl_styles ).\\\n",
        "format( '{:.1f}' )"
      ],
      "execution_count": null,
      "outputs": [
        {
          "output_type": "execute_result",
          "data": {
            "text/html": [
              "<style  type=\"text/css\" >\n",
              "    #T_03f59c4e_b174_11ea_9f0a_0242ac1c0002 caption {\n",
              "          color: red;\n",
              "          font-size: 18px;\n",
              "    }</style><table id=\"T_03f59c4e_b174_11ea_9f0a_0242ac1c0002\" ><caption>Elasticity Summary</caption><thead>    <tr>        <th class=\"blank level0\" ></th>        <th class=\"col_heading level0 col0\" >Elasticities</th>    </tr></thead><tbody>\n",
              "                <tr>\n",
              "                        <th id=\"T_03f59c4e_b174_11ea_9f0a_0242ac1c0002level0_row0\" class=\"row_heading level0 row0\" >Price Elasticity</th>\n",
              "                        <td id=\"T_03f59c4e_b174_11ea_9f0a_0242ac1c0002row0_col0\" class=\"data row0 col0\" >-1.3</td>\n",
              "            </tr>\n",
              "            <tr>\n",
              "                        <th id=\"T_03f59c4e_b174_11ea_9f0a_0242ac1c0002level0_row1\" class=\"row_heading level0 row1\" >Revenue Elasticity</th>\n",
              "                        <td id=\"T_03f59c4e_b174_11ea_9f0a_0242ac1c0002row1_col0\" class=\"data row1 col0\" >-0.3</td>\n",
              "            </tr>\n",
              "    </tbody></table>"
            ],
            "text/plain": [
              "<pandas.io.formats.style.Styler at 0x7f5c9c01f128>"
            ]
          },
          "metadata": {
            "tags": []
          },
          "execution_count": 15
        }
      ]
    },
    {
      "cell_type": "code",
      "metadata": {
        "id": "3Vl1nWYCuGm2",
        "colab_type": "code",
        "colab": {}
      },
      "source": [
        "slide( '17' )"
      ],
      "execution_count": null,
      "outputs": []
    },
    {
      "cell_type": "markdown",
      "metadata": {
        "id": "WHz6fShruGm2",
        "colab_type": "text"
      },
      "source": [
        "**Code Explanation**\n",
        "\n",
        "The Pandas *query* method was used to subset the data for the Price attribute.\n",
        "\n",
        "**Interpretation**\n",
        "\n",
        "Watches are highly elastic.  A 1% increase in price will result in a 1.3% decrease in take.  Revenue will fall 0.3%."
      ]
    },
    {
      "cell_type": "markdown",
      "metadata": {
        "id": "nle1FDst8jij",
        "colab_type": "text"
      },
      "source": [
        "![image.png](data:image/png;base64,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)"
      ]
    },
    {
      "cell_type": "code",
      "metadata": {
        "id": "pT9UanpK8e6N",
        "colab_type": "code",
        "colab": {}
      },
      "source": [
        ""
      ],
      "execution_count": null,
      "outputs": []
    },
    {
      "cell_type": "markdown",
      "metadata": {
        "id": "tbS66KpzuGm6",
        "colab_type": "text"
      },
      "source": [
        "## Lesson III: Transactions Data Approach to Pricing\n",
        "\n",
        "[Back to Contents](#Contents)\n",
        "\n",
        "Price elasticities and price points are often determined using transactions data.  The data could be in a data warehouse or data mart."
      ]
    },
    {
      "cell_type": "markdown",
      "metadata": {
        "id": "h4T-u5QpuGm7",
        "colab_type": "text"
      },
      "source": [
        "### The Pricing Problem for Transactions\n",
        "\n",
        "[Back to Contents](#Contents)\n",
        "\n",
        "Fictional data on a retail chain in New England states.\n",
        "\n",
        "- One consumer product\n",
        "- Six stores\n",
        "  - 3 Urban (Small)\n",
        "  - 3 Suburban (Large)\n",
        "- 600 consumers\n",
        "  - Each consumer's purchases and prices averaged to one annual number so $n = 600$.\n",
        "- Consumer data:\n",
        "  - Average price paid\n",
        "  - Household income\n",
        "  - Average purchase size\n",
        "\n",
        "#### **Pricing Conjecture**\n",
        "\n",
        "The store location impacts pricing: *Urban stores are more elastic because of more intense competition, so a lower price point should be used*.  "
      ]
    },
    {
      "cell_type": "markdown",
      "metadata": {
        "id": "6CTKd5S0uGm8",
        "colab_type": "text"
      },
      "source": [
        "### Import the Stores Data\n",
        "\n",
        "[Back to Contents](#Contents)"
      ]
    },
    {
      "cell_type": "code",
      "metadata": {
        "scrolled": true,
        "id": "Fe76oC0YuGm9",
        "colab_type": "code",
        "colab": {
          "base_uri": "https://localhost:8080/",
          "height": 169
        },
        "outputId": "c2da22bc-3a1e-4ecb-94d6-3b637ea9ccea"
      },
      "source": [
        "df = pd.read_csv('/content/stores.csv' )\n",
        "##\n",
        "## Insert underscore in column name if it\n",
        "## has an internal whitespace.  This will make\n",
        "## using names easier.\n",
        "##\n",
        "cols = df.columns\n",
        "cols = [ x.replace( ' ', '_' ) for x in cols ]\n",
        "df.columns = cols\n",
        "df.head().style.set_caption( 'Stores Transactions Data' ).\\\n",
        "set_table_styles( tbl_styles ).\\\n",
        "hide_index()"
      ],
      "execution_count": null,
      "outputs": [
        {
          "output_type": "execute_result",
          "data": {
            "text/html": [
              "<style  type=\"text/css\" >\n",
              "    #T_c1cb473c_b174_11ea_9f0a_0242ac1c0002 caption {\n",
              "          color: red;\n",
              "          font-size: 18px;\n",
              "    }</style><table id=\"T_c1cb473c_b174_11ea_9f0a_0242ac1c0002\" ><caption>Stores Transactions Data</caption><thead>    <tr>        <th class=\"col_heading level0 col0\" >store_ID</th>        <th class=\"col_heading level0 col1\" >location</th>        <th class=\"col_heading level0 col2\" >size</th>        <th class=\"col_heading level0 col3\" >size_group</th>        <th class=\"col_heading level0 col4\" >price</th>        <th class=\"col_heading level0 col5\" >income</th>        <th class=\"col_heading level0 col6\" >quantity</th>        <th class=\"col_heading level0 col7\" >log_Price</th>        <th class=\"col_heading level0 col8\" >log_Income</th>        <th class=\"col_heading level0 col9\" >log_Quantity</th>        <th class=\"col_heading level0 col10\" >log_Size</th>        <th class=\"col_heading level0 col11\" >Interaction</th>    </tr></thead><tbody>\n",
              "                <tr>\n",
              "                                <td id=\"T_c1cb473c_b174_11ea_9f0a_0242ac1c0002row0_col0\" class=\"data row0 col0\" >3</td>\n",
              "                        <td id=\"T_c1cb473c_b174_11ea_9f0a_0242ac1c0002row0_col1\" class=\"data row0 col1\" >Urban</td>\n",
              "                        <td id=\"T_c1cb473c_b174_11ea_9f0a_0242ac1c0002row0_col2\" class=\"data row0 col2\" >1089</td>\n",
              "                        <td id=\"T_c1cb473c_b174_11ea_9f0a_0242ac1c0002row0_col3\" class=\"data row0 col3\" >Mid-Size</td>\n",
              "                        <td id=\"T_c1cb473c_b174_11ea_9f0a_0242ac1c0002row0_col4\" class=\"data row0 col4\" >1.760000</td>\n",
              "                        <td id=\"T_c1cb473c_b174_11ea_9f0a_0242ac1c0002row0_col5\" class=\"data row0 col5\" >93</td>\n",
              "                        <td id=\"T_c1cb473c_b174_11ea_9f0a_0242ac1c0002row0_col6\" class=\"data row0 col6\" >181</td>\n",
              "                        <td id=\"T_c1cb473c_b174_11ea_9f0a_0242ac1c0002row0_col7\" class=\"data row0 col7\" >0.565314</td>\n",
              "                        <td id=\"T_c1cb473c_b174_11ea_9f0a_0242ac1c0002row0_col8\" class=\"data row0 col8\" >4.532599</td>\n",
              "                        <td id=\"T_c1cb473c_b174_11ea_9f0a_0242ac1c0002row0_col9\" class=\"data row0 col9\" >5.198497</td>\n",
              "                        <td id=\"T_c1cb473c_b174_11ea_9f0a_0242ac1c0002row0_col10\" class=\"data row0 col10\" >6.993015</td>\n",
              "                        <td id=\"T_c1cb473c_b174_11ea_9f0a_0242ac1c0002row0_col11\" class=\"data row0 col11\" >0.000000</td>\n",
              "            </tr>\n",
              "            <tr>\n",
              "                                <td id=\"T_c1cb473c_b174_11ea_9f0a_0242ac1c0002row1_col0\" class=\"data row1 col0\" >3</td>\n",
              "                        <td id=\"T_c1cb473c_b174_11ea_9f0a_0242ac1c0002row1_col1\" class=\"data row1 col1\" >Urban</td>\n",
              "                        <td id=\"T_c1cb473c_b174_11ea_9f0a_0242ac1c0002row1_col2\" class=\"data row1 col2\" >1089</td>\n",
              "                        <td id=\"T_c1cb473c_b174_11ea_9f0a_0242ac1c0002row1_col3\" class=\"data row1 col3\" >Mid-Size</td>\n",
              "                        <td id=\"T_c1cb473c_b174_11ea_9f0a_0242ac1c0002row1_col4\" class=\"data row1 col4\" >1.820000</td>\n",
              "                        <td id=\"T_c1cb473c_b174_11ea_9f0a_0242ac1c0002row1_col5\" class=\"data row1 col5\" >91</td>\n",
              "                        <td id=\"T_c1cb473c_b174_11ea_9f0a_0242ac1c0002row1_col6\" class=\"data row1 col6\" >202</td>\n",
              "                        <td id=\"T_c1cb473c_b174_11ea_9f0a_0242ac1c0002row1_col7\" class=\"data row1 col7\" >0.598836</td>\n",
              "                        <td id=\"T_c1cb473c_b174_11ea_9f0a_0242ac1c0002row1_col8\" class=\"data row1 col8\" >4.510860</td>\n",
              "                        <td id=\"T_c1cb473c_b174_11ea_9f0a_0242ac1c0002row1_col9\" class=\"data row1 col9\" >5.308268</td>\n",
              "                        <td id=\"T_c1cb473c_b174_11ea_9f0a_0242ac1c0002row1_col10\" class=\"data row1 col10\" >6.993015</td>\n",
              "                        <td id=\"T_c1cb473c_b174_11ea_9f0a_0242ac1c0002row1_col11\" class=\"data row1 col11\" >0.000000</td>\n",
              "            </tr>\n",
              "            <tr>\n",
              "                                <td id=\"T_c1cb473c_b174_11ea_9f0a_0242ac1c0002row2_col0\" class=\"data row2 col0\" >3</td>\n",
              "                        <td id=\"T_c1cb473c_b174_11ea_9f0a_0242ac1c0002row2_col1\" class=\"data row2 col1\" >Urban</td>\n",
              "                        <td id=\"T_c1cb473c_b174_11ea_9f0a_0242ac1c0002row2_col2\" class=\"data row2 col2\" >1089</td>\n",
              "                        <td id=\"T_c1cb473c_b174_11ea_9f0a_0242ac1c0002row2_col3\" class=\"data row2 col3\" >Mid-Size</td>\n",
              "                        <td id=\"T_c1cb473c_b174_11ea_9f0a_0242ac1c0002row2_col4\" class=\"data row2 col4\" >1.910000</td>\n",
              "                        <td id=\"T_c1cb473c_b174_11ea_9f0a_0242ac1c0002row2_col5\" class=\"data row2 col5\" >82</td>\n",
              "                        <td id=\"T_c1cb473c_b174_11ea_9f0a_0242ac1c0002row2_col6\" class=\"data row2 col6\" >132</td>\n",
              "                        <td id=\"T_c1cb473c_b174_11ea_9f0a_0242ac1c0002row2_col7\" class=\"data row2 col7\" >0.647103</td>\n",
              "                        <td id=\"T_c1cb473c_b174_11ea_9f0a_0242ac1c0002row2_col8\" class=\"data row2 col8\" >4.406719</td>\n",
              "                        <td id=\"T_c1cb473c_b174_11ea_9f0a_0242ac1c0002row2_col9\" class=\"data row2 col9\" >4.882802</td>\n",
              "                        <td id=\"T_c1cb473c_b174_11ea_9f0a_0242ac1c0002row2_col10\" class=\"data row2 col10\" >6.993015</td>\n",
              "                        <td id=\"T_c1cb473c_b174_11ea_9f0a_0242ac1c0002row2_col11\" class=\"data row2 col11\" >0.000000</td>\n",
              "            </tr>\n",
              "            <tr>\n",
              "                                <td id=\"T_c1cb473c_b174_11ea_9f0a_0242ac1c0002row3_col0\" class=\"data row3 col0\" >3</td>\n",
              "                        <td id=\"T_c1cb473c_b174_11ea_9f0a_0242ac1c0002row3_col1\" class=\"data row3 col1\" >Urban</td>\n",
              "                        <td id=\"T_c1cb473c_b174_11ea_9f0a_0242ac1c0002row3_col2\" class=\"data row3 col2\" >1089</td>\n",
              "                        <td id=\"T_c1cb473c_b174_11ea_9f0a_0242ac1c0002row3_col3\" class=\"data row3 col3\" >Mid-Size</td>\n",
              "                        <td id=\"T_c1cb473c_b174_11ea_9f0a_0242ac1c0002row3_col4\" class=\"data row3 col4\" >1.890000</td>\n",
              "                        <td id=\"T_c1cb473c_b174_11ea_9f0a_0242ac1c0002row3_col5\" class=\"data row3 col5\" >77</td>\n",
              "                        <td id=\"T_c1cb473c_b174_11ea_9f0a_0242ac1c0002row3_col6\" class=\"data row3 col6\" >115</td>\n",
              "                        <td id=\"T_c1cb473c_b174_11ea_9f0a_0242ac1c0002row3_col7\" class=\"data row3 col7\" >0.636577</td>\n",
              "                        <td id=\"T_c1cb473c_b174_11ea_9f0a_0242ac1c0002row3_col8\" class=\"data row3 col8\" >4.343805</td>\n",
              "                        <td id=\"T_c1cb473c_b174_11ea_9f0a_0242ac1c0002row3_col9\" class=\"data row3 col9\" >4.744932</td>\n",
              "                        <td id=\"T_c1cb473c_b174_11ea_9f0a_0242ac1c0002row3_col10\" class=\"data row3 col10\" >6.993015</td>\n",
              "                        <td id=\"T_c1cb473c_b174_11ea_9f0a_0242ac1c0002row3_col11\" class=\"data row3 col11\" >0.000000</td>\n",
              "            </tr>\n",
              "            <tr>\n",
              "                                <td id=\"T_c1cb473c_b174_11ea_9f0a_0242ac1c0002row4_col0\" class=\"data row4 col0\" >3</td>\n",
              "                        <td id=\"T_c1cb473c_b174_11ea_9f0a_0242ac1c0002row4_col1\" class=\"data row4 col1\" >Urban</td>\n",
              "                        <td id=\"T_c1cb473c_b174_11ea_9f0a_0242ac1c0002row4_col2\" class=\"data row4 col2\" >1089</td>\n",
              "                        <td id=\"T_c1cb473c_b174_11ea_9f0a_0242ac1c0002row4_col3\" class=\"data row4 col3\" >Mid-Size</td>\n",
              "                        <td id=\"T_c1cb473c_b174_11ea_9f0a_0242ac1c0002row4_col4\" class=\"data row4 col4\" >1.790000</td>\n",
              "                        <td id=\"T_c1cb473c_b174_11ea_9f0a_0242ac1c0002row4_col5\" class=\"data row4 col5\" >91</td>\n",
              "                        <td id=\"T_c1cb473c_b174_11ea_9f0a_0242ac1c0002row4_col6\" class=\"data row4 col6\" >158</td>\n",
              "                        <td id=\"T_c1cb473c_b174_11ea_9f0a_0242ac1c0002row4_col7\" class=\"data row4 col7\" >0.582216</td>\n",
              "                        <td id=\"T_c1cb473c_b174_11ea_9f0a_0242ac1c0002row4_col8\" class=\"data row4 col8\" >4.510860</td>\n",
              "                        <td id=\"T_c1cb473c_b174_11ea_9f0a_0242ac1c0002row4_col9\" class=\"data row4 col9\" >5.062595</td>\n",
              "                        <td id=\"T_c1cb473c_b174_11ea_9f0a_0242ac1c0002row4_col10\" class=\"data row4 col10\" >6.993015</td>\n",
              "                        <td id=\"T_c1cb473c_b174_11ea_9f0a_0242ac1c0002row4_col11\" class=\"data row4 col11\" >0.000000</td>\n",
              "            </tr>\n",
              "    </tbody></table>"
            ],
            "text/plain": [
              "<pandas.io.formats.style.Styler at 0x7f5c99de3f28>"
            ]
          },
          "metadata": {
            "tags": []
          },
          "execution_count": 16
        }
      ]
    },
    {
      "cell_type": "code",
      "metadata": {
        "id": "V9r9A4u-uGnA",
        "colab_type": "code",
        "colab": {
          "base_uri": "https://localhost:8080/",
          "height": 52
        },
        "outputId": "d434d4af-8b7a-484a-f086-4626adba81f9"
      },
      "source": [
        "##\n",
        "## Check DataFrame counts\n",
        "##\n",
        "print( 'Number of rows: {rows}\\nNumber of columns: {cols}'.format( \n",
        "        rows = df.shape[ 0 ], cols = df.shape[ 1 ] ) )"
      ],
      "execution_count": null,
      "outputs": [
        {
          "output_type": "stream",
          "text": [
            "Number of rows: 600\n",
            "Number of columns: 12\n"
          ],
          "name": "stdout"
        }
      ]
    },
    {
      "cell_type": "markdown",
      "metadata": {
        "id": "QTJ4ScSQuGnE",
        "colab_type": "text"
      },
      "source": [
        "### Check the Data\n",
        "\n",
        "[Back to Contents](#Contents)"
      ]
    },
    {
      "cell_type": "code",
      "metadata": {
        "scrolled": true,
        "id": "AUqnxZWLuGnE",
        "colab_type": "code",
        "colab": {
          "base_uri": "https://localhost:8080/",
          "height": 337
        },
        "outputId": "e7d5456d-d39a-4003-a738-b5be1ca9e6fc"
      },
      "source": [
        "##\n",
        "## Check distribution of sales\n",
        "##\n",
        "base = 'Base: All stores; n = ' + str( df.shape[ 0 ] )\n",
        "ax = sns.distplot( df.quantity )\n",
        "ax.set_title( 'Distribution of Store Sales', fontsize = font_title )\n",
        "ax.set( xlabel = 'Quantity', ylabel = 'Density' )\n",
        "footer();"
      ],
      "execution_count": null,
      "outputs": [
        {
          "output_type": "display_data",
          "data": {
            "image/png": "[encoded data removed]",
            "text/plain": [
              "<Figure size 432x288 with 1 Axes>"
            ]
          },
          "metadata": {
            "tags": [],
            "needs_background": "light"
          }
        }
      ]
    },
    {
      "cell_type": "markdown",
      "metadata": {
        "id": "d7LOBOYIuGnH",
        "colab_type": "text"
      },
      "source": [
        "**Interpretation**\n",
        "\n",
        "There seems to be some slight right skewness in the sales data.  Right skewness is typical for sales (and price) data.  You can test the skewness against the Normal Distribution.  The skewness for the Normal is zero because the distribution is symmetric about the mean.  So the Null Hypothesis for the test is that the skewness of the sales data is the same as that for the Normal Distribution: zero.  A Z-test is done. "
      ]
    },
    {
      "cell_type": "code",
      "metadata": {
        "id": "CYkT_goXuGnH",
        "colab_type": "code",
        "colab": {
          "base_uri": "https://localhost:8080/",
          "height": 52
        },
        "outputId": "f28a1ff0-3495-4ca1-b0d0-9863b0399b4c"
      },
      "source": [
        "##\n",
        "## Test skewness\n",
        "##\n",
        "sk = skewtest( df.quantity )\n",
        "print( 'Z-score: {z}\\np-Value: {p}'.format( z = round( sk[ 0 ], 3 ), p = round( sk[ 1 ], 4 ) ) )"
      ],
      "execution_count": null,
      "outputs": [
        {
          "output_type": "stream",
          "text": [
            "Z-score: 2.953\n",
            "p-Value: 0.0031\n"
          ],
          "name": "stdout"
        }
      ]
    },
    {
      "cell_type": "markdown",
      "metadata": {
        "id": "qvancELtuGnL",
        "colab_type": "text"
      },
      "source": [
        "**Interpretation**\n",
        "\n",
        "A positive Z-score indicates right-skewness which agrees with what we observed.  The p-value is less than 0.05 so we reject the Null Hypthesis of zero skewness.  \n",
        "<br>\n",
        "How do we fix the skewness?  Taking the natural log of the data is the usualy fix."
      ]
    },
    {
      "cell_type": "code",
      "metadata": {
        "id": "s2hkety1uGnM",
        "colab_type": "code",
        "colab": {
          "base_uri": "https://localhost:8080/",
          "height": 337
        },
        "outputId": "c23d2f47-a336-4167-f322-7b8655591dc3"
      },
      "source": [
        "##\n",
        "## Distribution based on natural log\n",
        "##\n",
        "base = 'Base: All stores; n = ' + str( df.shape[ 0 ] )\n",
        "ax = sns.distplot( df.log_Quantity )\n",
        "ax.set_title( 'Distribution of Store Sales', fontsize = font_title )\n",
        "ax.set( xlabel = 'Quantity', ylabel = 'Density' )\n",
        "footer();"
      ],
      "execution_count": null,
      "outputs": [
        {
          "output_type": "display_data",
          "data": {
            "image/png": "[encoded data removed]",
            "text/plain": [
              "<Figure size 432x288 with 1 Axes>"
            ]
          },
          "metadata": {
            "tags": [],
            "needs_background": "light"
          }
        }
      ]
    },
    {
      "cell_type": "markdown",
      "metadata": {
        "id": "BmKjIY3yuGnO",
        "colab_type": "text"
      },
      "source": [
        "### Types of Models\n",
        "  \n",
        "There are three types of models we can consider:\n",
        "\n",
        "> - **Pooled**:Use all the data in one model.\n",
        "> - **Dummy Variable**: Segment the data by store size with dummies.\n",
        "> - **Multilevel**: Account for the hierarchical structure of stores."
      ]
    },
    {
      "cell_type": "code",
      "metadata": {
        "id": "l6r6pbAwuGnO",
        "colab_type": "code",
        "colab": {}
      },
      "source": [
        "slide( '24' )"
      ],
      "execution_count": null,
      "outputs": []
    },
    {
      "cell_type": "markdown",
      "metadata": {
        "id": "pScSkcRPuGnS",
        "colab_type": "text"
      },
      "source": [
        "### Model Estimation I: Pooled Model\n",
        "\n",
        "[Back to Contents](#Contents)\n",
        "\n",
        "Pool all the data into one model without regard for store location."
      ]
    },
    {
      "cell_type": "code",
      "metadata": {
        "scrolled": false,
        "id": "xxf2yaDDuGnS",
        "colab_type": "code",
        "colab": {
          "base_uri": "https://localhost:8080/",
          "height": 468
        },
        "outputId": "8bd51436-6939-4229-fa15-4dbf964076d0"
      },
      "source": [
        "## \n",
        "## OLS\n",
        "##\n",
        "## There are four steps for estimatng a model:\n",
        "##\n",
        "##   1. define a formula (i.e., the specific model to estimate)\n",
        "##   2. instantiate the model (i.e., specify it)\n",
        "##   3. fit the model\n",
        "##   4. summarize the fitted model\n",
        "##\n",
        "## ===> Step 1: Define a formula <===\n",
        "##\n",
        "## The formula uses a “~” to separate the left-hand side from the right-hand side\n",
        "## of a model and a “+” to add columns to the right-hand side.  A “-” sign (not \n",
        "## used here) can be used to remove columns from the right-hand side (e.g.,\n",
        "## remove or omit the constant term which is always included by default). \n",
        "##\n",
        "formula = 'log_Quantity ~ log_Price + log_Income'\n",
        "##\n",
        "## ===> Step 2: Instantiate the OLS model <===\n",
        "##\n",
        "mod = smf.ols( formula, data = df )\n",
        "##\n",
        "## ===> Step 3: Fit the instantiated model <===\n",
        "##      Recommendation: number your fitted models\n",
        "##\n",
        "reg01 = mod.fit() \n",
        "##\n",
        "## ===> Step 4: Summarize the fitted model <===\n",
        "##\n",
        "print( reg01.summary() )\n"
      ],
      "execution_count": null,
      "outputs": [
        {
          "output_type": "stream",
          "text": [
            "                            OLS Regression Results                            \n",
            "==============================================================================\n",
            "Dep. Variable:           log_Quantity   R-squared:                       0.328\n",
            "Model:                            OLS   Adj. R-squared:                  0.326\n",
            "Method:                 Least Squares   F-statistic:                     145.8\n",
            "Date:                Thu, 18 Jun 2020   Prob (F-statistic):           2.77e-52\n",
            "Time:                        15:07:53   Log-Likelihood:                 146.37\n",
            "No. Observations:                 600   AIC:                            -286.7\n",
            "Df Residuals:                     597   BIC:                            -273.5\n",
            "Df Model:                           2                                         \n",
            "Covariance Type:            nonrobust                                         \n",
            "==============================================================================\n",
            "                 coef    std err          t      P>|t|      [0.025      0.975]\n",
            "------------------------------------------------------------------------------\n",
            "Intercept      5.6771      0.287     19.812      0.000       5.114       6.240\n",
            "log_Price     -2.3879      0.152    -15.661      0.000      -2.687      -2.088\n",
            "log_Income     0.1556      0.071      2.184      0.029       0.016       0.295\n",
            "==============================================================================\n",
            "Omnibus:                        6.249   Durbin-Watson:                   1.458\n",
            "Prob(Omnibus):                  0.044   Jarque-Bera (JB):                6.830\n",
            "Skew:                          -0.162   Prob(JB):                       0.0329\n",
            "Kurtosis:                       3.410   Cond. No.                         180.\n",
            "==============================================================================\n",
            "\n",
            "Warnings:\n",
            "[1] Standard Errors assume that the covariance matrix of the errors is correctly specified.\n"
          ],
          "name": "stdout"
        }
      ]
    },
    {
      "cell_type": "markdown",
      "metadata": {
        "id": "mRiqCbu4uGnU",
        "colab_type": "text"
      },
      "source": [
        "#### Calculate the Price Elasticities: I\n",
        "\n",
        "[Back to Contents](#Contents)\n",
        "\n",
        "Since this is a log-log model, the price elasticity is just the estimated parameter for log-Price."
      ]
    },
    {
      "cell_type": "code",
      "metadata": {
        "id": "HlL8hJP2uGnU",
        "colab_type": "code",
        "colab": {
          "base_uri": "https://localhost:8080/",
          "height": 105
        },
        "outputId": "ca560476-a781-4093-cb17-92e91eec7e23"
      },
      "source": [
        "##\n",
        "## Retrieve the coefficient for log-Price as the elasticity\n",
        "##\n",
        "eta = reg01.params.log_Price\n",
        "##\n",
        "## The revenue elasticity is 1 + price elasticity\n",
        "##\n",
        "eta_rev = 1 + eta\n",
        "##\n",
        "## Put in DataFrame for display\n",
        "##\n",
        "df_elas = pd.DataFrame( [ eta, eta_rev ], columns = [ 'Elasticities'], \n",
        "    index = [ 'Price Elasticity', 'Revenue Elasticity' ] )\n",
        "df_elas.style.set_caption( 'Elasticity Summary').\\\n",
        "set_table_styles( tbl_styles ).\\\n",
        "format( '{:.1f}' )"
      ],
      "execution_count": null,
      "outputs": [
        {
          "output_type": "execute_result",
          "data": {
            "text/html": [
              "<style  type=\"text/css\" >\n",
              "    #T_951c16d4_b175_11ea_9f0a_0242ac1c0002 caption {\n",
              "          color: red;\n",
              "          font-size: 18px;\n",
              "    }</style><table id=\"T_951c16d4_b175_11ea_9f0a_0242ac1c0002\" ><caption>Elasticity Summary</caption><thead>    <tr>        <th class=\"blank level0\" ></th>        <th class=\"col_heading level0 col0\" >Elasticities</th>    </tr></thead><tbody>\n",
              "                <tr>\n",
              "                        <th id=\"T_951c16d4_b175_11ea_9f0a_0242ac1c0002level0_row0\" class=\"row_heading level0 row0\" >Price Elasticity</th>\n",
              "                        <td id=\"T_951c16d4_b175_11ea_9f0a_0242ac1c0002row0_col0\" class=\"data row0 col0\" >-2.4</td>\n",
              "            </tr>\n",
              "            <tr>\n",
              "                        <th id=\"T_951c16d4_b175_11ea_9f0a_0242ac1c0002level0_row1\" class=\"row_heading level0 row1\" >Revenue Elasticity</th>\n",
              "                        <td id=\"T_951c16d4_b175_11ea_9f0a_0242ac1c0002row1_col0\" class=\"data row1 col0\" >-1.4</td>\n",
              "            </tr>\n",
              "    </tbody></table>"
            ],
            "text/plain": [
              "<pandas.io.formats.style.Styler at 0x7f5c96fc1278>"
            ]
          },
          "metadata": {
            "tags": []
          },
          "execution_count": 22
        }
      ]
    },
    {
      "cell_type": "markdown",
      "metadata": {
        "id": "-oduEGAsuGnW",
        "colab_type": "text"
      },
      "source": [
        "**Interpretation**\n",
        "\n",
        "Demand is highly elastic, but this pooled model does not allow us to check the Conjecture so we do not know how the elastcity varies by store location."
      ]
    },
    {
      "cell_type": "code",
      "metadata": {
        "id": "gDdT1hHOuGnX",
        "colab_type": "code",
        "colab": {}
      },
      "source": [
        "slide( '28' )"
      ],
      "execution_count": null,
      "outputs": []
    },
    {
      "cell_type": "markdown",
      "metadata": {
        "id": "Ld2YdY9X-dbZ",
        "colab_type": "text"
      },
      "source": [
        "![image.png](data:image/png;base64,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)"
      ]
    },
    {
      "cell_type": "markdown",
      "metadata": {
        "id": "pkAYrsB2uGnY",
        "colab_type": "text"
      },
      "source": [
        "### Model Estimation II: Dummy Variable Model\n",
        "\n",
        "[Back to Contents](#Contents)\n",
        "\n",
        "Include a dummy variable for the store location: Urban or Suburban."
      ]
    },
    {
      "cell_type": "code",
      "metadata": {
        "scrolled": false,
        "id": "4sanyBimuGnZ",
        "colab_type": "code",
        "colab": {
          "base_uri": "https://localhost:8080/",
          "height": 502
        },
        "outputId": "f800e4e4-7d10-4df7-ebb9-fdd29d10f372"
      },
      "source": [
        "## \n",
        "## OLS\n",
        "##\n",
        "## There are four steps for estimatng a model:\n",
        "##\n",
        "##   1. define a formula (i.e., the specific model to estimate)\n",
        "##   2. instantiate the model (i.e., specify it)\n",
        "##   3. fit the model\n",
        "##   4. summarize the fitted model\n",
        "##\n",
        "## ===> Step 1: Define a formula <===\n",
        "##\n",
        "## The formula uses a “~” to separate the left-hand side from the right-hand side\n",
        "## of a model and a “+” to add columns to the right-hand side.  A “-” sign (not \n",
        "## used here) can be used to remove columns from the right-hand side (e.g.,\n",
        "## remove or omit the constant term which is always included by default). \n",
        "##\n",
        "formula = 'log_Quantity ~ log_Price + log_Income + C(location) + log_Price*C(location)'\n",
        "##\n",
        "## ===> Step 2: Instantiate the OLS model <===\n",
        "##\n",
        "mod = smf.ols( formula, data = df )\n",
        "##\n",
        "## ===> Step 3: Fit the instantiated model <===\n",
        "##      Recommendation: number your fitted models\n",
        "##\n",
        "reg02 = mod.fit() \n",
        "##\n",
        "## ===> Step 4: Summarize the fitted model <===\n",
        "##\n",
        "print( reg02.summary() )\n"
      ],
      "execution_count": null,
      "outputs": [
        {
          "output_type": "stream",
          "text": [
            "                            OLS Regression Results                            \n",
            "==============================================================================\n",
            "Dep. Variable:           log_Quantity   R-squared:                       0.477\n",
            "Model:                            OLS   Adj. R-squared:                  0.474\n",
            "Method:                 Least Squares   F-statistic:                     135.9\n",
            "Date:                Thu, 18 Jun 2020   Prob (F-statistic):           2.02e-82\n",
            "Time:                        15:10:24   Log-Likelihood:                 221.75\n",
            "No. Observations:                 600   AIC:                            -433.5\n",
            "Df Residuals:                     595   BIC:                            -411.5\n",
            "Df Model:                           4                                         \n",
            "Covariance Type:            nonrobust                                         \n",
            "==================================================================================================\n",
            "                                     coef    std err          t      P>|t|      [0.025      0.975]\n",
            "--------------------------------------------------------------------------------------------------\n",
            "Intercept                          1.9222      0.400      4.805      0.000       1.137       2.708\n",
            "C(location)[T.Urban]               0.7956      0.240      3.316      0.001       0.324       1.267\n",
            "log_Price                         -0.6140      0.259     -2.372      0.018      -1.122      -0.106\n",
            "log_Price:C(location)[T.Urban]    -0.5946      0.352     -1.688      0.092      -1.286       0.097\n",
            "log_Income                         0.6575      0.074      8.909      0.000       0.513       0.802\n",
            "==============================================================================\n",
            "Omnibus:                        0.589   Durbin-Watson:                   1.517\n",
            "Prob(Omnibus):                  0.745   Jarque-Bera (JB):                0.656\n",
            "Skew:                          -0.072   Prob(JB):                        0.720\n",
            "Kurtosis:                       2.925   Cond. No.                         372.\n",
            "==============================================================================\n",
            "\n",
            "Warnings:\n",
            "[1] Standard Errors assume that the covariance matrix of the errors is correctly specified.\n"
          ],
          "name": "stdout"
        }
      ]
    },
    {
      "cell_type": "markdown",
      "metadata": {
        "id": "wJOPl8k0uGnc",
        "colab_type": "text"
      },
      "source": [
        "#### Calculate the Price Elasticities: II\n",
        "\n",
        "[Back to Contents](#Contents)"
      ]
    },
    {
      "cell_type": "code",
      "metadata": {
        "scrolled": true,
        "id": "9jQ_pP7XuGnd",
        "colab_type": "code",
        "colab": {
          "base_uri": "https://localhost:8080/",
          "height": 252
        },
        "outputId": "b1fc8f59-cb82-4ac4-f15e-2542ee4eb8b0"
      },
      "source": [
        "##\n",
        "## Retrieve estimated parameters\n",
        "##\n",
        "x = pd.DataFrame( reg02.params, columns = [ 'part_worth' ] )\n",
        "print( x )\n",
        "##\n",
        "## Calculate the price elasticities\n",
        "##\n",
        "eta_urban = sum( x.part_worth[ [ 2, 3 ] ] )\n",
        "eta_rural = x.part_worth[ 2 ]\n",
        "##\n",
        "## Calculate the revenue elasticities: 1 + price elasticity\n",
        "##\n",
        "eta_rev_urban = 1 + eta_urban\n",
        "eta_rev_rural = 1 + eta_rural\n",
        "##\n",
        "## Put in DataFrame for display\n",
        "##\n",
        "eta = [ [ eta_urban, eta_rev_urban ], [ eta_rural, eta_rev_rural ]]\n",
        "cols = pd.MultiIndex.from_product( [ [ 'Elasticity' ], [ 'Price', 'Revenue' ] ] )\n",
        "idx = [ 'Urban', 'Rural' ]\n",
        "df_elas = pd.DataFrame( eta, index = idx, columns = cols )\n",
        "df_elas.index.rename( 'Location', inplace = True )\n",
        "df_elas.style.set_caption( 'Elasticity Summary').\\\n",
        "set_table_styles( tbl_styles ).\\\n",
        "format( '{:.2f}' )"
      ],
      "execution_count": null,
      "outputs": [
        {
          "output_type": "stream",
          "text": [
            "                                part_worth\n",
            "Intercept                         1.922160\n",
            "C(location)[T.Urban]              0.795616\n",
            "log_Price                        -0.613992\n",
            "log_Price:C(location)[T.Urban]   -0.594586\n",
            "log_Income                        0.657544\n"
          ],
          "name": "stdout"
        },
        {
          "output_type": "execute_result",
          "data": {
            "text/html": [
              "<style  type=\"text/css\" >\n",
              "    #T_8099e6fe_b176_11ea_9f0a_0242ac1c0002 caption {\n",
              "          color: red;\n",
              "          font-size: 18px;\n",
              "    }</style><table id=\"T_8099e6fe_b176_11ea_9f0a_0242ac1c0002\" ><caption>Elasticity Summary</caption><thead>    <tr>        <th class=\"blank level0\" ></th>        <th class=\"col_heading level0 col0\" colspan=2>Elasticity</th>    </tr>    <tr>        <th class=\"blank level1\" ></th>        <th class=\"col_heading level1 col0\" >Price</th>        <th class=\"col_heading level1 col1\" >Revenue</th>    </tr>    <tr>        <th class=\"index_name level0\" >Location</th>        <th class=\"blank\" ></th>        <th class=\"blank\" ></th>    </tr></thead><tbody>\n",
              "                <tr>\n",
              "                        <th id=\"T_8099e6fe_b176_11ea_9f0a_0242ac1c0002level0_row0\" class=\"row_heading level0 row0\" >Urban</th>\n",
              "                        <td id=\"T_8099e6fe_b176_11ea_9f0a_0242ac1c0002row0_col0\" class=\"data row0 col0\" >-1.21</td>\n",
              "                        <td id=\"T_8099e6fe_b176_11ea_9f0a_0242ac1c0002row0_col1\" class=\"data row0 col1\" >-0.21</td>\n",
              "            </tr>\n",
              "            <tr>\n",
              "                        <th id=\"T_8099e6fe_b176_11ea_9f0a_0242ac1c0002level0_row1\" class=\"row_heading level0 row1\" >Rural</th>\n",
              "                        <td id=\"T_8099e6fe_b176_11ea_9f0a_0242ac1c0002row1_col0\" class=\"data row1 col0\" >-0.61</td>\n",
              "                        <td id=\"T_8099e6fe_b176_11ea_9f0a_0242ac1c0002row1_col1\" class=\"data row1 col1\" >0.39</td>\n",
              "            </tr>\n",
              "    </tbody></table>"
            ],
            "text/plain": [
              "<pandas.io.formats.style.Styler at 0x7f5c96fc94a8>"
            ]
          },
          "metadata": {
            "tags": []
          },
          "execution_count": 24
        }
      ]
    },
    {
      "cell_type": "markdown",
      "metadata": {
        "id": "L1Qpk6HmuGnf",
        "colab_type": "text"
      },
      "source": [
        "**Interpretation**\n",
        "\n",
        "Urban stores are more elastic which supports the Conjecture."
      ]
    },
    {
      "cell_type": "code",
      "metadata": {
        "id": "vLtpUC3nuGnf",
        "colab_type": "code",
        "colab": {}
      },
      "source": [
        "slide( '33' )"
      ],
      "execution_count": null,
      "outputs": []
    },
    {
      "cell_type": "markdown",
      "metadata": {
        "id": "YVwpGZ_iuGnh",
        "colab_type": "text"
      },
      "source": [
        "### Model Estimation III: Multilevel Model\n",
        "\n",
        "[Back to Contents](#Contents)\n",
        "\n",
        "This is more complex -- it requires a separate course."
      ]
    },
    {
      "cell_type": "markdown",
      "metadata": {
        "id": "FTVs62XNuGni",
        "colab_type": "text"
      },
      "source": [
        "#### Data Structures\n",
        "\n",
        "There are two data structures: *Non-Nested* and *Nested* or *Multilevel*.\n",
        "\n",
        "**Definition**\n",
        "  *Non-nested Data*: The data in the population are at the same level.\n",
        "\n",
        ">**Example**\n",
        "\t\t> - All consumers in a random sample are the same.  Their behavior is driven solely by their traits -- and the prices they see.\n",
        "\n",
        "**Definition**\n",
        "  *Nested/Multilevel Data*: The data in the population are hierarchical.\n",
        "\n",
        ">**Examples**\n",
        "  > - Consumers shopping in a store.\n",
        "  > - Households in a marketing region."
      ]
    },
    {
      "cell_type": "markdown",
      "metadata": {
        "id": "RzSdhn4YuGnj",
        "colab_type": "text"
      },
      "source": [
        "#### Marketing and Pricing Examples\n",
        "\n",
        "Examples of hierarchical structures are more common in marketing and pricing than thought:\n",
        "\n",
        "> - Segments\n",
        "> - Stores\n",
        "> - Marketing regions\n",
        "> - States\n",
        "> - Neighborhoods\n",
        "> - Organization membership\n",
        "> - Brand loyalty\n",
        "\n",
        "Many more could be listed."
      ]
    },
    {
      "cell_type": "markdown",
      "metadata": {
        "id": "5GyOVQIXuGnj",
        "colab_type": "text"
      },
      "source": [
        "#### Use of Multilevel Modeling\n",
        "\n",
        "A multilevel model allows a more detailed/finer analysis for the Conjecture.  Specifically: *What determines the elasticities*?\n",
        "\n",
        "This type of modeling is more complex -- so it is another course.\n"
      ]
    },
    {
      "cell_type": "markdown",
      "metadata": {
        "id": "BWXgqSAVuGnk",
        "colab_type": "text"
      },
      "source": [
        "## Summary and Wrap-Up\n",
        "\n",
        "[Back to Contents](#Contents)\n",
        "\n",
        "In this course, we covered:\n",
        "\n",
        "> - How to use a survey to collect data for pricing.\n",
        "> - How to estimate on survey-based model -- conjoint -- for pricing.\n",
        ">   - Conjoint is one member of a family of choice models.\n",
        "> - How to use transactions data for pricing.\n",
        ">   - There is a hierarchical structure to models.\n"
      ]
    },
    {
      "cell_type": "markdown",
      "metadata": {
        "id": "jHWMZmsMuGnl",
        "colab_type": "text"
      },
      "source": [
        "## Contact Information\n",
        "\n",
        "[Back to Contents](#Contents)"
      ]
    },
    {
      "cell_type": "code",
      "metadata": {
        "id": "fU1d1sgSuGnl",
        "colab_type": "code",
        "colab": {}
      },
      "source": [
        "slide( '41' )"
      ],
      "execution_count": null,
      "outputs": []
    },
    {
      "cell_type": "markdown",
      "metadata": {
        "id": "OJafsOtnuGnp",
        "colab_type": "text"
      },
      "source": [
        "## Appendix: Extra Material\n",
        "\n",
        "[Back to Contents](#Contents)"
      ]
    },
    {
      "cell_type": "markdown",
      "metadata": {
        "id": "jYvuSZ6YuGnt",
        "colab_type": "text"
      },
      "source": [
        "### Conjoint Analysis\n",
        "\n",
        "[Back to Contents](#Contents)"
      ]
    },
    {
      "cell_type": "markdown",
      "metadata": {
        "id": "h2f516oYuGnt",
        "colab_type": "text"
      },
      "source": [
        "#### Display Attribute Importances\n",
        "\n",
        "[Back to Contents](#Contents)"
      ]
    },
    {
      "cell_type": "code",
      "metadata": {
        "id": "4DcfWlMxuGnu",
        "colab_type": "code",
        "colab": {
          "base_uri": "https://localhost:8080/",
          "height": 337
        },
        "outputId": "247923df-33d3-4246-fb12-5193e615252c"
      },
      "source": [
        "##\n",
        "## Display a barchart of the importances\n",
        "##\n",
        "base = 'Base: All respondents'\n",
        "ax = sns.barplot( x = 'Importance', y = df_importances.index, data = df_importances,\n",
        "                order = df_importances.index )\n",
        "ax.set_title( 'Attribute Importances', fontsize = font_title )\n",
        "ax.set( ylabel = 'Attribute')\n",
        "tick_labels( 'x' )\n",
        "footer();"
      ],
      "execution_count": null,
      "outputs": [
        {
          "output_type": "display_data",
          "data": {
            "image/png": "[encoded data removed]",
            "text/plain": [
              "<Figure size 432x288 with 1 Axes>"
            ]
          },
          "metadata": {
            "tags": [],
            "needs_background": "light"
          }
        }
      ]
    },
    {
      "cell_type": "markdown",
      "metadata": {
        "id": "iKeiPLGjuGnx",
        "colab_type": "text"
      },
      "source": [
        "#### Calculate Willingness to Pay\n",
        "\n",
        "[Back to Contents](#Contents)\n",
        "\n",
        "Willingness-to-Pay (*WTP*) is calculated using the formula:\n",
        "\n",
        "$𝑊𝑇𝑃 = \\dfrac{− \\beta_{𝐴𝑡𝑡𝑟𝑖𝑏𝑢𝑡𝑒~𝐿𝑒𝑣𝑒𝑙}}{\\beta_{𝑃𝑟𝑖𝑐𝑒}}$\n",
        "\n",
        "It is help/informative to know how mcu each consumer will pay extra for a difference level of each attribute.  This willingness-to-pay (*WTP*) for a level is relative to the base level in the effects coding.  See <a href=\"https://www.routledge.com/Pricing-Analytics-Models-and-Advanced-Quantitative-Techniques-for-Product/Paczkowski/p/book/9781138623934\" target=\"_parent\">here </a> for the formula derivation and a discussion of *WTP*."
      ]
    },
    {
      "cell_type": "code",
      "metadata": {
        "scrolled": true,
        "id": "wmR7vKIIuGnx",
        "colab_type": "code",
        "colab": {
          "base_uri": "https://localhost:8080/",
          "height": 185
        },
        "outputId": "5cf308da-7377-429a-82e5-dcc9339047b7"
      },
      "source": [
        "##\n",
        "## Calculate WTP\n",
        "##\n",
        "beta_price = df_pw.query( 'att == \"Price\"' )[ 'Part-Worth' ][ 0 ]\n",
        "##\n",
        "lst_att = df_pw.att\n",
        "lst_level = df_pw.level\n",
        "lst_tups = list( zip( lst_att, lst_level ) )\n",
        "lst_tups = lst_tups[ : -1 ]\n",
        "n = len( lst_tups )\n",
        "##\n",
        "## Loop through part-worths\n",
        "##\n",
        "lst_wtp = []\n",
        "for i in range( n ):\n",
        "    att_what = lst_att[ i ]\n",
        "    level_what = lst_level[ i ]\n",
        "    beta = df_pw.query( ' att == @att_what and level == @level_what ' )[ 'Part-Worth' ][ 0 ]\n",
        "    wtp = ( -1 ) * beta/beta_price\n",
        "    lst_wtp.append( wtp )\n",
        "##\n",
        "## Create summary DataFrame\n",
        "##\n",
        "index = pd.MultiIndex.from_tuples( lst_tups, names=[ 'Attribute', 'Level' ] )    \n",
        "df_wtp = pd.DataFrame( lst_wtp, columns = [ 'WTP' ], index = index )\n",
        "df_wtp.style.set_caption( 'WTP Summary' ).format( {'WTP':format_dollar} )"
      ],
      "execution_count": null,
      "outputs": [
        {
          "output_type": "execute_result",
          "data": {
            "text/html": [
              "<style  type=\"text/css\" >\n",
              "</style><table id=\"T_bd053eb2_b177_11ea_9f0a_0242ac1c0002\" ><caption>WTP Summary</caption><thead>    <tr>        <th class=\"blank\" ></th>        <th class=\"blank level0\" ></th>        <th class=\"col_heading level0 col0\" >WTP</th>    </tr>    <tr>        <th class=\"index_name level0\" >Attribute</th>        <th class=\"index_name level1\" >Level</th>        <th class=\"blank\" ></th>    </tr></thead><tbody>\n",
              "                <tr>\n",
              "                        <th id=\"T_bd053eb2_b177_11ea_9f0a_0242ac1c0002level0_row0\" class=\"row_heading level0 row0\" rowspan=2>compat</th>\n",
              "                        <th id=\"T_bd053eb2_b177_11ea_9f0a_0242ac1c0002level1_row0\" class=\"row_heading level1 row0\" >Android</th>\n",
              "                        <td id=\"T_bd053eb2_b177_11ea_9f0a_0242ac1c0002row0_col0\" class=\"data row0 col0\" >$-0.03</td>\n",
              "            </tr>\n",
              "            <tr>\n",
              "                                <th id=\"T_bd053eb2_b177_11ea_9f0a_0242ac1c0002level1_row1\" class=\"row_heading level1 row1\" >iOS</th>\n",
              "                        <td id=\"T_bd053eb2_b177_11ea_9f0a_0242ac1c0002row1_col0\" class=\"data row1 col0\" >$-0.06</td>\n",
              "            </tr>\n",
              "            <tr>\n",
              "                        <th id=\"T_bd053eb2_b177_11ea_9f0a_0242ac1c0002level0_row2\" class=\"row_heading level0 row2\" rowspan=2>measure</th>\n",
              "                        <th id=\"T_bd053eb2_b177_11ea_9f0a_0242ac1c0002level1_row2\" class=\"row_heading level1 row2\" >Calories</th>\n",
              "                        <td id=\"T_bd053eb2_b177_11ea_9f0a_0242ac1c0002row2_col0\" class=\"data row2 col0\" >$-0.15</td>\n",
              "            </tr>\n",
              "            <tr>\n",
              "                                <th id=\"T_bd053eb2_b177_11ea_9f0a_0242ac1c0002level1_row3\" class=\"row_heading level1 row3\" >Distance</th>\n",
              "                        <td id=\"T_bd053eb2_b177_11ea_9f0a_0242ac1c0002row3_col0\" class=\"data row3 col0\" >$0.19</td>\n",
              "            </tr>\n",
              "            <tr>\n",
              "                        <th id=\"T_bd053eb2_b177_11ea_9f0a_0242ac1c0002level0_row4\" class=\"row_heading level0 row4\" >rain</th>\n",
              "                        <th id=\"T_bd053eb2_b177_11ea_9f0a_0242ac1c0002level1_row4\" class=\"row_heading level1 row4\" >Yes</th>\n",
              "                        <td id=\"T_bd053eb2_b177_11ea_9f0a_0242ac1c0002row4_col0\" class=\"data row4 col0\" >$0.06</td>\n",
              "            </tr>\n",
              "    </tbody></table>"
            ],
            "text/plain": [
              "<pandas.io.formats.style.Styler at 0x7f5c974c3b00>"
            ]
          },
          "metadata": {
            "tags": []
          },
          "execution_count": 31
        }
      ]
    },
    {
      "cell_type": "markdown",
      "metadata": {
        "id": "vTH8YuTWuGn1",
        "colab_type": "text"
      },
      "source": [
        "**Interpretation**\n",
        "\n",
        "The Distance measure has the largest *WTP*.  Consumers are willing to pay $0.19 more for the distance measure than the base Heart Monitoring measure."
      ]
    },
    {
      "cell_type": "markdown",
      "metadata": {
        "id": "fgGlqYtZuGn1",
        "colab_type": "text"
      },
      "source": [
        "### Transactions Analysis\n",
        "\n",
        "[Back to Contents](#Contents)"
      ]
    },
    {
      "cell_type": "markdown",
      "metadata": {
        "id": "DUendYlHuGn2",
        "colab_type": "text"
      },
      "source": [
        "#### Check Distributions\n",
        "\n",
        "[Back to Contents](#Contents)"
      ]
    },
    {
      "cell_type": "code",
      "metadata": {
        "id": "nRbwgkCEuGn2",
        "colab_type": "code",
        "colab": {
          "base_uri": "https://localhost:8080/",
          "height": 225
        },
        "outputId": "6f35befd-f853-4011-c2f8-e028525aabb0"
      },
      "source": [
        "##\n",
        "## Check distribution of sales by location\n",
        "##\n",
        "base = 'Base: All stores; n = ' + str( df.shape[ 0 ] )\n",
        "g = sns.FacetGrid( df, col = \"location\", margin_titles = True )\n",
        "g.map( sns.distplot, \"quantity\" )\n",
        "footer();"
      ],
      "execution_count": null,
      "outputs": [
        {
          "output_type": "display_data",
          "data": {
            "image/png": "[encoded data removed]",
            "text/plain": [
              "<Figure size 432x216 with 2 Axes>"
            ]
          },
          "metadata": {
            "tags": [],
            "needs_background": "light"
          }
        }
      ]
    },
    {
      "cell_type": "code",
      "metadata": {
        "id": "P02-uQiAuGoK",
        "colab_type": "code",
        "colab": {
          "base_uri": "https://localhost:8080/",
          "height": 52
        },
        "outputId": "6d1aa48b-d1d5-4deb-c133-c6648c33ae23"
      },
      "source": [
        "##\n",
        "## Test for skewness for Suburban stores\n",
        "##\n",
        "x = df.query( 'location == \"Suburban\"' )\n",
        "sk = skewtest( x.quantity )\n",
        "print( 'Z-score: {z}\\np-Value: {p}'.format( z = round( sk[ 0 ], 3 ), p = round( sk[ 1 ], 4 ) ) )"
      ],
      "execution_count": null,
      "outputs": [
        {
          "output_type": "stream",
          "text": [
            "Z-score: 2.608\n",
            "p-Value: 0.0091\n"
          ],
          "name": "stdout"
        }
      ]
    },
    {
      "cell_type": "code",
      "metadata": {
        "id": "lzRBBvWmuGoL",
        "colab_type": "code",
        "colab": {
          "base_uri": "https://localhost:8080/",
          "height": 52
        },
        "outputId": "3bd6cc47-e8e8-4d26-dee6-fa58e432bcc8"
      },
      "source": [
        "##\n",
        "## Test for skewness for Urban stores\n",
        "##\n",
        "x = df.query( 'location == \"Urban\"' )\n",
        "sk = skewtest( x.quantity )\n",
        "print( 'Z-score: {z}\\np-Value: {p}'.format( z = round( sk[ 0 ], 3 ), p = round( sk[ 1 ], 4 ) ) )"
      ],
      "execution_count": null,
      "outputs": [
        {
          "output_type": "stream",
          "text": [
            "Z-score: 4.404\n",
            "p-Value: 0.0\n"
          ],
          "name": "stdout"
        }
      ]
    },
    {
      "cell_type": "markdown",
      "metadata": {
        "id": "YHQyzlAEuGoO",
        "colab_type": "text"
      },
      "source": [
        "#### Sales and Price Relationship\n",
        "\n",
        "[Back to Contents](#Contents)"
      ]
    },
    {
      "cell_type": "code",
      "metadata": {
        "scrolled": true,
        "id": "OGCN_sYEuGoO",
        "colab_type": "code",
        "colab": {
          "base_uri": "https://localhost:8080/",
          "height": 225
        },
        "outputId": "1473f2f9-dca5-4a25-eefc-557492ac31ce"
      },
      "source": [
        "##\n",
        "## Graph relationship of sales by price for locations\n",
        "##\n",
        "base = 'Base: All stores; n = ' + str( df.shape[ 0 ] )\n",
        "g = sns.FacetGrid( df, col = \"location\", margin_titles = True )\n",
        "g.map( sns.lineplot, 'price', 'quantity' );"
      ],
      "execution_count": null,
      "outputs": [
        {
          "output_type": "display_data",
          "data": {
            "image/png": "[encoded data removed]",
            "text/plain": [
              "<Figure size 432x216 with 2 Axes>"
            ]
          },
          "metadata": {
            "tags": [],
            "needs_background": "light"
          }
        }
      ]
    },
    {
      "cell_type": "code",
      "metadata": {
        "id": "f0x7lcX9uGoQ",
        "colab_type": "code",
        "colab": {
          "base_uri": "https://localhost:8080/",
          "height": 337
        },
        "outputId": "d7d7ec44-da1a-4a60-f448-a27306b231ec"
      },
      "source": [
        "##\n",
        "## Graph relationship of sales by price for locations\n",
        "##\n",
        "base = 'Base: All stores; n = ' + str( df.shape[ 0 ] )\n",
        "ax = sns.scatterplot( y = 'quantity', x = 'price', hue = 'location', data = df )\n",
        "ax.set_title( 'Sales by Store Location', fontsize = font_title )\n",
        "ax.set( ylabel = 'Quantity', xlabel = 'Sales' )\n",
        "footer();"
      ],
      "execution_count": null,
      "outputs": [
        {
          "output_type": "display_data",
          "data": {
            "image/png": "[encoded data removed]",
            "text/plain": [
              "<Figure size 432x288 with 1 Axes>"
            ]
          },
          "metadata": {
            "tags": [],
            "needs_background": "light"
          }
        }
      ]
    }
  ]
}