{
  "nbformat": 4,
  "nbformat_minor": 0,
  "metadata": {
    "kernelspec": {
      "display_name": "Python 3",
      "language": "python",
      "name": "python3"
    },
    "language_info": {
      "codemirror_mode": {
        "name": "ipython",
        "version": 3
      },
      "file_extension": ".py",
      "mimetype": "text/x-python",
      "name": "python",
      "nbconvert_exporter": "python",
      "pygments_lexer": "ipython3",
      "version": "3.6.4"
    },
    "colab": {
      "name": "Pandas03_grouping_pivoting.ipynb",
      "provenance": [],
      "include_colab_link": true
    }
  },
  "cells": [
    {
      "cell_type": "markdown",
      "metadata": {
        "id": "view-in-github",
        "colab_type": "text"
      },
      "source": [
        "<a href=\"https://colab.research.google.com/github/KasiBaskerLaxmanan/pyalgotrading/blob/master/Pandas03_grouping_pivoting.ipynb\" target=\"_parent\"><img src=\"https://colab.research.google.com/assets/colab-badge.svg\" alt=\"Open In Colab\"/></a>"
      ]
    },
    {
      "cell_type": "code",
      "metadata": {
        "id": "txBwIdJ693Bc",
        "colab_type": "code",
        "colab": {}
      },
      "source": [
        "import pandas as pd\n",
        "import matplotlib\n",
        "%matplotlib inline \n",
        "import numpy as np"
      ],
      "execution_count": 0,
      "outputs": []
    },
    {
      "cell_type": "code",
      "metadata": {
        "id": "t0yu4Jqi93Bx",
        "colab_type": "code",
        "colab": {}
      },
      "source": [
        "### Data transformation from previous notebooks\n",
        "nyc = pd.read_csv('data/central-park-raw.csv', parse_dates=[0])\n",
        "nyc.columns = [x.strip() for x in nyc.columns]\n",
        "nyc.columns = [x.replace(' ', '_') for x in nyc.columns]\n",
        "nyc.PrecipitationIn.replace(\"T\", '0.001')\n",
        "nyc.PrecipitationIn = pd.to_numeric(nyc.PrecipitationIn.replace(\"T\", '0.001'))\n",
        "nyc['Events'] = nyc.Events.fillna('')"
      ],
      "execution_count": 0,
      "outputs": []
    },
    {
      "cell_type": "markdown",
      "metadata": {
        "id": "fMn62Ez993B-",
        "colab_type": "text"
      },
      "source": [
        "# Grouping\n",
        "\n",
        "Pandas allows us to perform aggregates calculations over grouped portions of ``Series`` or ``DataFrames``. The ``.groupby`` method is the low level workhorse that enables this."
      ]
    },
    {
      "cell_type": "code",
      "metadata": {
        "scrolled": true,
        "id": "OKFgtPx793CB",
        "colab_type": "code",
        "colab": {}
      },
      "source": [
        "# We can group by a column, but if it has unique values it isn't useful\n",
        "nyc.groupby('EST').mean()['CloudCover']"
      ],
      "execution_count": 0,
      "outputs": []
    },
    {
      "cell_type": "code",
      "metadata": {
        "scrolled": true,
        "id": "pA3aATba93CT",
        "colab_type": "code",
        "colab": {}
      },
      "source": [
        "# Let's get the average cloud cover each month\n",
        "nyc.groupby(nyc.EST.dt.month).mean()['CloudCover']"
      ],
      "execution_count": 0,
      "outputs": []
    },
    {
      "cell_type": "code",
      "metadata": {
        "scrolled": true,
        "id": "Cj5Nzrld93Cc",
        "colab_type": "code",
        "colab": {}
      },
      "source": [
        "# The previous aggregated over every month, \n",
        "# what if we want to group by year and month?\n",
        "nyc.groupby([nyc.EST.dt.year, nyc.EST.dt.month]).mean()['CloudCover']"
      ],
      "execution_count": 0,
      "outputs": []
    },
    {
      "cell_type": "code",
      "metadata": {
        "scrolled": true,
        "id": "ZYrvk4rg93Cn",
        "colab_type": "code",
        "colab": {}
      },
      "source": [
        "# The previous aggregated over every month, \n",
        "# what if we want to group by year and month?\n",
        "nyc.groupby([nyc.EST.dt.year.rename('year'), nyc.EST.dt.month]).mean()['CloudCover']"
      ],
      "execution_count": 0,
      "outputs": []
    },
    {
      "cell_type": "code",
      "metadata": {
        "scrolled": false,
        "id": "1BmHdCEg93Cx",
        "colab_type": "code",
        "colab": {}
      },
      "source": [
        "nyc.groupby([nyc.EST.dt.year.rename('year'), nyc.EST.dt.month]).mean(\n",
        ")['CloudCover'].plot(figsize=(14,10))"
      ],
      "execution_count": 0,
      "outputs": []
    },
    {
      "cell_type": "code",
      "metadata": {
        "scrolled": true,
        "id": "Gtb2Hfum93C8",
        "colab_type": "code",
        "colab": {}
      },
      "source": [
        "# With the .agg method we can apply many functions\n",
        "nyc.groupby([nyc.EST.dt.year.rename('year'), nyc.EST.dt.month]).agg(['mean', 'max', 'count'])"
      ],
      "execution_count": 0,
      "outputs": []
    },
    {
      "cell_type": "code",
      "metadata": {
        "scrolled": true,
        "id": "LDv0s2Pk93DD",
        "colab_type": "code",
        "colab": {}
      },
      "source": [
        "# Then plot\n",
        "nyc.groupby([nyc.EST.dt.year.rename('year'), nyc.EST.dt.month]).agg(\n",
        "    ['mean', 'max', 'count'])['Mean_TemperatureF'].plot()"
      ],
      "execution_count": 0,
      "outputs": []
    },
    {
      "cell_type": "code",
      "metadata": {
        "scrolled": true,
        "id": "eTwCj3J393DJ",
        "colab_type": "code",
        "colab": {}
      },
      "source": [
        "# Or just look at a table for a column\n",
        "nyc.groupby([nyc.EST.dt.year.rename('year'), nyc.EST.dt.month]).agg(\n",
        "    ['mean', 'max', 'count'])['Max_TemperatureF']"
      ],
      "execution_count": 0,
      "outputs": []
    },
    {
      "cell_type": "markdown",
      "metadata": {
        "id": "qmWSb9hN93DO",
        "colab_type": "text"
      },
      "source": [
        "## Grouping Assignment\n",
        "With the nino dataset:\n",
        "* Find the mean temperature for each year\n",
        "* Find the count of entries for each year\n",
        "* Find the max temperature for each year"
      ]
    },
    {
      "cell_type": "code",
      "metadata": {
        "id": "gNPyTsu_93DP",
        "colab_type": "code",
        "colab": {}
      },
      "source": [
        ""
      ],
      "execution_count": 0,
      "outputs": []
    },
    {
      "cell_type": "code",
      "metadata": {
        "id": "VT708Y2993DX",
        "colab_type": "code",
        "colab": {}
      },
      "source": [
        ""
      ],
      "execution_count": 0,
      "outputs": []
    },
    {
      "cell_type": "markdown",
      "metadata": {
        "id": "EIROPJo-93Dd",
        "colab_type": "text"
      },
      "source": [
        "# Pivoting"
      ]
    },
    {
      "cell_type": "code",
      "metadata": {
        "scrolled": false,
        "id": "l8s_QbHi93De",
        "colab_type": "code",
        "colab": {}
      },
      "source": [
        "nyc.pivot_table(index=[nyc.EST.dt.year.rename('year'), nyc.EST.dt.month], aggfunc=[np.max, np.count_nonzero],\n",
        "               values=['Max_Humidity', 'Max_Dew_PointF'])"
      ],
      "execution_count": 0,
      "outputs": []
    },
    {
      "cell_type": "code",
      "metadata": {
        "scrolled": false,
        "id": "G5AJl_Jb93Dk",
        "colab_type": "code",
        "colab": {}
      },
      "source": [
        "nyc.pivot_table(index=[nyc.EST.dt.year.rename('year'), nyc.EST.dt.month], aggfunc=[np.max, np.count_nonzero],\n",
        "               values=['Max_Humidity', 'Max_Dew_PointF']).plot(figsize=(14,10))"
      ],
      "execution_count": 0,
      "outputs": []
    },
    {
      "cell_type": "code",
      "metadata": {
        "scrolled": false,
        "id": "vgWKT9DT93Do",
        "colab_type": "code",
        "colab": {}
      },
      "source": [
        "# We can \"unstack\" to pull a left index into a column (0 is the left most index)\n",
        "nyc.pivot_table(index=[nyc.EST.dt.year.rename('year'), nyc.EST.dt.month], aggfunc=[np.max, np.count_nonzero],\n",
        "               values=['Max_Humidity', 'Max_Dew_PointF']).unstack(0)"
      ],
      "execution_count": 0,
      "outputs": []
    },
    {
      "cell_type": "code",
      "metadata": {
        "scrolled": false,
        "id": "KLJSgJvU93Dt",
        "colab_type": "code",
        "colab": {}
      },
      "source": [
        "# We can \"unstack\" to pull a left index into a column (1 is the 2nd index)\n",
        "nyc.pivot_table(index=[nyc.EST.dt.year.rename('year'), nyc.EST.dt.month], aggfunc=[np.max, np.count_nonzero],\n",
        "               values=['Max_Humidity', 'Max_Dew_PointF']).unstack(1)"
      ],
      "execution_count": 0,
      "outputs": []
    },
    {
      "cell_type": "code",
      "metadata": {
        "scrolled": false,
        "id": "HcAX5plk93Dw",
        "colab_type": "code",
        "colab": {}
      },
      "source": [
        "# Just use one value and one aggregation\n",
        "nyc.pivot_table(index=[nyc.EST.dt.year.rename('year'), nyc.EST.dt.month], aggfunc=[np.max],\n",
        "               values=['Mean_TemperatureF']).unstack(1)"
      ],
      "execution_count": 0,
      "outputs": []
    },
    {
      "cell_type": "code",
      "metadata": {
        "scrolled": false,
        "id": "9q_Yfj1X93D0",
        "colab_type": "code",
        "colab": {}
      },
      "source": [
        "# Just use one value and one aggregation by year\n",
        "nyc.pivot_table(index=[nyc.EST.dt.year.rename('year'), nyc.EST.dt.month], aggfunc=[np.max],\n",
        "               values=['Mean_TemperatureF']).unstack(1).plot(cmap='viridis', figsize=(14,10))"
      ],
      "execution_count": 0,
      "outputs": []
    },
    {
      "cell_type": "code",
      "metadata": {
        "scrolled": false,
        "id": "AUXgsfiw93D2",
        "colab_type": "code",
        "colab": {}
      },
      "source": [
        "# Just use one value and one aggregation by month\n",
        "nyc.pivot_table(index=[nyc.EST.dt.year.rename('year'), nyc.EST.dt.month], aggfunc=[np.max],\n",
        "               values=['Mean_TemperatureF']).unstack(0).plot(cmap='viridis', figsize=(14,10))"
      ],
      "execution_count": 0,
      "outputs": []
    },
    {
      "cell_type": "markdown",
      "metadata": {
        "id": "GqCzX-Ie93D8",
        "colab_type": "text"
      },
      "source": [
        "## Pivoting Assignment\n",
        "With the nino dataset:\n",
        "* Pivot the nino data using the ``.pivot_table`` method. Group by year and month, the ``air_temp`` column. Reduce using the ``max``, ``min``, and ``np.mean`` functions. (You will either need to create a month column or use ``year_month_day.dt.month``)\n",
        "* Plot a line plot of the previous pivot table"
      ]
    },
    {
      "cell_type": "code",
      "metadata": {
        "id": "lPVZ77dV93D9",
        "colab_type": "code",
        "colab": {}
      },
      "source": [
        ""
      ],
      "execution_count": 0,
      "outputs": []
    },
    {
      "cell_type": "code",
      "metadata": {
        "id": "be0gYNtq93EB",
        "colab_type": "code",
        "colab": {}
      },
      "source": [
        ""
      ],
      "execution_count": 0,
      "outputs": []
    },
    {
      "cell_type": "code",
      "metadata": {
        "id": "XE1JWabQ93EF",
        "colab_type": "code",
        "colab": {}
      },
      "source": [
        ""
      ],
      "execution_count": 0,
      "outputs": []
    },
    {
      "cell_type": "markdown",
      "metadata": {
        "id": "TpUJz1OT93EJ",
        "colab_type": "text"
      },
      "source": [
        "## Pivoting Bonus Assignment\n",
        "* Using ``.groupby`` we can sometimes perform the same operation as pivot tables. Pivot the nino data using the ``.groupby`` method. Group by year and month, the ``air_temp_`` column. Reduce using the ``max``, ``min``, and ``np.mean`` functions using ``.groupby``. (Hint: Use the ``.agg`` method on the result of the group by)\n",
        "* Use ``.unstack`` to see the mean ``air_temp_`` by year"
      ]
    },
    {
      "cell_type": "code",
      "metadata": {
        "id": "xJK3VoQr93EJ",
        "colab_type": "code",
        "colab": {}
      },
      "source": [
        ""
      ],
      "execution_count": 0,
      "outputs": []
    },
    {
      "cell_type": "code",
      "metadata": {
        "id": "sQI9xOuH93EM",
        "colab_type": "code",
        "colab": {}
      },
      "source": [
        ""
      ],
      "execution_count": 0,
      "outputs": []
    },
    {
      "cell_type": "code",
      "metadata": {
        "id": "bzM1JU_I93ER",
        "colab_type": "code",
        "colab": {}
      },
      "source": [
        ""
      ],
      "execution_count": 0,
      "outputs": []
    },
    {
      "cell_type": "code",
      "metadata": {
        "id": "HcIVztAl93ET",
        "colab_type": "code",
        "colab": {}
      },
      "source": [
        ""
      ],
      "execution_count": 0,
      "outputs": []
    }
  ]
}