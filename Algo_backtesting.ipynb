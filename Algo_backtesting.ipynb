{
 "cells": [
  {
   "cell_type": "markdown",
   "metadata": {
    "colab_type": "text",
    "id": "GE_lHyWkcc7E"
   },
   "source": [
    "# IMPORT MODULES"
   ]
  },
  {
   "cell_type": "markdown",
   "metadata": {
    "colab_type": "text",
    "id": "2S3vcnfzt0De"
   },
   "source": [
    "*First, import some important Python libraries and methods that you will need to process financial data and perform data analysis. Includes the freely available bug fix for the Yahoo Finance Pandas datareader.*\n",
    "\n",
    "*Numpy is a Python library used for numerical computations using multidimensional arrays and complex mathematical functions.*\n",
    "\n",
    "*Pandas is a Python library that is built from the ground-up to do financial data analysis. It has a dataframe object that makes it easy to analyze tabular data traditionally done using spreadsheets.*\n",
    "\n",
    "*Matplotlib is a Python library used for visualizing data. Pandas provides a wrapper to the library so you can plot nice charts with a single line of code.*"
   ]
  },
  {
   "cell_type": "code",
   "execution_count": null,
   "metadata": {
    "colab": {},
    "colab_type": "code",
    "id": "PG6sUvRrcZYA"
   },
   "outputs": [],
   "source": [
    "import numpy as np\n",
    "import pandas as pd\n",
    "import pandas_datareader.data as pdr\n",
    "import yfinance as yf\n",
    "#import fix_yahoo_finance as yf\n",
    "yf.pdr_override()\n",
    "import matplotlib.pyplot as plt\n",
    "plt.style.use('seaborn')\n",
    "from datetime import datetime"
   ]
  },
  {
   "cell_type": "markdown",
   "metadata": {
    "colab_type": "text",
    "id": "mkmAVZoecp1k"
   },
   "source": [
    "# PROCESS DATA"
   ]
  },
  {
   "cell_type": "markdown",
   "metadata": {
    "colab_type": "text",
    "id": "TDr95OWlwuk3"
   },
   "source": [
    "*While the API of Yahoo Finance is not stable, it gives you free access to historical end of day data of a broad range of global assets for long timeframes without requiring much processing*. \n",
    "\n",
    "*Note that we need to use adjusted closing prices instead of closing prices to create an equity time series. Corporate actions, such as dividend payouts and stock splits, distort prices which need to be adjusted to give you the correct closing prices for each day.*\n",
    "\n",
    "*If the code below gives you an error, just wait a minute and try again. As mentioned earlier, the API is unstable. Review the 'Processing Data' workbook to refresh your memory about some of the methods involved in doing financial data processing and analysis.*\n",
    "\n",
    "---\n",
    "\n"
   ]
  },
  {
   "cell_type": "code",
   "execution_count": null,
   "metadata": {
    "colab": {
     "base_uri": "https://localhost:8080/",
     "height": 314
    },
    "colab_type": "code",
    "id": "SrjMfZVHcaxn",
    "outputId": "81aadb7a-8cfe-4125-ae68-5f5e41956646"
   },
   "outputs": [],
   "source": [
    "start = datetime(2016, 9, 1)\n",
    "end = datetime(2019, 8, 31)\n",
    "\n",
    "stock = pdr.get_data_yahoo('MSFT', start, end)\n",
    "stock.describe()"
   ]
  },
  {
   "cell_type": "markdown",
   "metadata": {
    "colab_type": "text",
    "id": "IEHWSvBzc_yz"
   },
   "source": [
    "# EXPLORE SIGNALS"
   ]
  },
  {
   "cell_type": "markdown",
   "metadata": {
    "colab_type": "text",
    "id": "QuUnUv0qyhMN"
   },
   "source": [
    "*A moving average is a based on a lookback window of a fixed time period (such as 20 days) that keeps moving in time. The idea is to detect a trend in the security by smoothing out the daily price fluctuations and capturing it in the moving average.* \n",
    "\n",
    "*In a dual moving average crossover algorithm, you compare a shorter term moving average, such as a 20 day simple moving average (SMA), with a longer term moving average, such as a 50 day SMA, to detect price momentum and generate the dual moving average crossover signal.*\n",
    "\n",
    "*The value of the signal is +1 when the 20-day SMA is above the the 50-day SMA and -1 when the opposite occurs. Use the rolling.mean() method of pandas to calculate the simple moving averages.*\n",
    "\n",
    "---\n",
    "\n"
   ]
  },
  {
   "cell_type": "code",
   "execution_count": null,
   "metadata": {
    "colab": {
     "base_uri": "https://localhost:8080/",
     "height": 339
    },
    "colab_type": "code",
    "id": "j3hm835Sca8n",
    "outputId": "7524c8fb-8694-4e30-d587-25b7142ba53c"
   },
   "outputs": [],
   "source": [
    "SMA1 = 20\n",
    "SMA2 = 50\n",
    "stock['SMA1'] = stock['Adj Close'].rolling(SMA1).mean()\n",
    "stock['SMA2'] = stock['Adj Close'].rolling(SMA2).mean()\n",
    "stock.dropna(inplace=True)\n",
    "stock[['Adj Close','SMA1','SMA2']].plot(figsize=(20,5), grid = True, title='The 20 and 50 day simple moving averages'), plt.show();"
   ]
  },
  {
   "cell_type": "markdown",
   "metadata": {
    "colab_type": "text",
    "id": "w5SRPqH9y4tW"
   },
   "source": [
    "*It is important to separate the analysis of a signal from the analysis of a profitable trading strategy. A high quality signal can be used in different trading strategies. We create a new dataframe to capture the relevant data to analyze the dual moving average crossover signal.*  \n",
    "\n",
    "*The 'change' column measures the absolute change in the closing prices of the stock using the diff() method. The 'crossover' column measures the absolute difference between the two moving averages at the end of each day. We use the Numpy where() conditional method to generate the dual moving average crossover signal.* \n",
    "\n",
    "---"
   ]
  },
  {
   "cell_type": "code",
   "execution_count": null,
   "metadata": {
    "colab": {
     "base_uri": "https://localhost:8080/",
     "height": 390
    },
    "colab_type": "code",
    "id": "TTcFHWIMCyCy",
    "outputId": "df9e9bf4-6add-4769-e66a-96b907d616a7"
   },
   "outputs": [],
   "source": [
    "dualsma = pd.DataFrame()\n",
    "dualsma['change'] = stock['Adj Close'].diff()\n",
    "dualsma['crossover'] = stock['SMA1'] - stock['SMA2']\n",
    "dualsma['signal']= np.where(dualsma['crossover'] > 0, 1, -1)\n",
    "dualsma.sample(10)"
   ]
  },
  {
   "cell_type": "markdown",
   "metadata": {
    "colab_type": "text",
    "id": "i5v1tRfjdLyQ"
   },
   "source": [
    "# BACKTEST STRATEGY"
   ]
  },
  {
   "cell_type": "markdown",
   "metadata": {
    "colab_type": "text",
    "id": "Caor_Nfc0eI2"
   },
   "source": [
    "*Backtesting enables you to simulate the past performance of a trading strategy using historical data. If done correctly, it can provide valuable information in assessing the future profitability of that trading strategy. The code below is based on 'Python For Finance' by Y. Hilpisch.*\n",
    "\n",
    "*A new 'position' column is created using the where() method of Numpy. When the dual moving average crossover signal is positive, the strategy goes long (buys) the stock. When the opposite occurs, you can either go short (borrow and sell the stock) or go flat (sell the stock you bought earlier). A position value of -1 signifies a short position and 0 signifies a flat position.*\n",
    "\n",
    "*A new 'returns' column is created for calculating the continuously compounded daily return of the stock using the log() method. To calculate the continuously compounded daily return, we take the natural logarithm of the simple gross daily return. The advantage of using logarithms to calculate continuously compounded returns is that you can merely add the terms in the column instead of multiplying them to get the continuoulsy compounded returns over any desired holding period. By converting multiplication into addition in log space, the computational complexity of the vectorization is reduced substantially.*\n",
    "\n",
    "\n",
    "*It is also important to make sure that you shift the date one day into the past when you calculate the returns from the dual crossover strategy. This is because the position (long, short or flat) is decided the day before the return is realized. Otherwise you would include a look-ahead bias into your backtesting.*\n",
    "\n",
    "---\n",
    "\n"
   ]
  },
  {
   "cell_type": "code",
   "execution_count": null,
   "metadata": {
    "colab": {
     "base_uri": "https://localhost:8080/",
     "height": 339
    },
    "colab_type": "code",
    "id": "Dfr6Pz4PcbEu",
    "outputId": "6bec1956-22bd-491f-b7f5-1341e54fd81b"
   },
   "outputs": [],
   "source": [
    "stock['position'] = np.where(stock['SMA1'] > stock['SMA2'], 1, 0)\n",
    "stock['returns'] = np.log(stock['Adj Close']/stock['Adj Close'].shift(1))\n",
    "stock['strategy'] = stock['position'].shift(1) * stock['returns']\n",
    "stock.dropna(inplace=True)\n",
    "stock[['returns', 'strategy']].plot(figsize=(20,5), grid = True, title='Dual cross-over strategy versus long only returns'), plt.show();"
   ]
  },
  {
   "cell_type": "markdown",
   "metadata": {
    "colab_type": "text",
    "id": "XxPJGPySdlth"
   },
   "source": [
    "# EVALUATE PERFORMANCE"
   ]
  },
  {
   "cell_type": "markdown",
   "metadata": {
    "colab_type": "text",
    "id": "wW1tkdz77za3"
   },
   "source": [
    "*We compare the performance of the dual moving average strategy with a long only strategy to see if we are able to take advantage of our signal.* \n",
    "\n",
    "*We use the exp() method or exponential function to convert the log returns back into the simple gross returns of both types of strategies.* \n",
    "\n",
    "*Note that this type of backtesting does not take into account bid-ask spread costs, commissions and liquidity related issues of real-life trading which would reduce the simple gross returns of both strategies.* \n",
    "\n",
    "*Vectorized backtesting is a simple first step. Only if the strategy performs well in this step, does it makes sense to spend time backtesting the strategy using more advanced backtesting code or libraries.*"
   ]
  },
  {
   "cell_type": "code",
   "execution_count": null,
   "metadata": {
    "colab": {
     "base_uri": "https://localhost:8080/",
     "height": 68
    },
    "colab_type": "code",
    "id": "NkFs5nKFcbHl",
    "outputId": "33752f73-7835-4431-9c7b-ed272f697f0c"
   },
   "outputs": [],
   "source": [
    "np.exp(stock[['returns', 'strategy']].sum())"
   ]
  },
  {
   "cell_type": "code",
   "execution_count": null,
   "metadata": {
    "colab": {
     "base_uri": "https://localhost:8080/",
     "height": 294
    },
    "colab_type": "code",
    "id": "EhpG7o3gZA3f",
    "outputId": "880f770e-de21-4a9a-ed4f-1f723d606015"
   },
   "outputs": [],
   "source": [
    "stock[['returns', 'strategy']].describe()"
   ]
  },
  {
   "cell_type": "code",
   "execution_count": null,
   "metadata": {
    "colab": {
     "base_uri": "https://localhost:8080/",
     "height": 529
    },
    "colab_type": "code",
    "id": "Hsm5LPPQBM-w",
    "outputId": "89b1176d-5a68-43c5-fc1d-12490d82f2cc"
   },
   "outputs": [],
   "source": [
    "plt.hist(stock.returns), plt.title('Long only returns'), plt.xlabel('High-Low Ranges'), plt.ylabel('Frequency'), plt.show();\n",
    "print(stock.returns.describe());"
   ]
  },
  {
   "cell_type": "code",
   "execution_count": null,
   "metadata": {
    "colab": {
     "base_uri": "https://localhost:8080/",
     "height": 529
    },
    "colab_type": "code",
    "id": "lxKfDni7Bm1h",
    "outputId": "75c5bd75-13cc-4d61-b41d-93cf07f844d4"
   },
   "outputs": [],
   "source": [
    "plt.hist(stock.strategy), plt.title('SMA Crossover Strategy'), plt.xlabel('High-Low Ranges'), plt.ylabel('Frequency'), plt.show();\n",
    "print(stock.strategy.describe());"
   ]
  }
 ],
 "metadata": {
  "colab": {
   "collapsed_sections": [],
   "name": "Algo-backtesting.ipynb",
   "provenance": [],
   "version": "0.3.2"
  },
  "kernelspec": {
   "display_name": "Python 3",
   "language": "python",
   "name": "python3"
  },
  "language_info": {
   "codemirror_mode": {
    "name": "ipython",
    "version": 3
   },
   "file_extension": ".py",
   "mimetype": "text/x-python",
   "name": "python",
   "nbconvert_exporter": "python",
   "pygments_lexer": "ipython3",
   "version": "3.7.3"
  }
 },
 "nbformat": 4,
 "nbformat_minor": 1
}
